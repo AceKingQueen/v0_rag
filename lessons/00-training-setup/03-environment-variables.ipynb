{
 "cells": [
  {
   "cell_type": "markdown",
   "metadata": {},
   "source": [
    "# Environment variables in VSCode\n",
    "## Introduction\n",
    "The code in our lessons will use environment variables to configure the API keys and other sensitive information.\n",
    "Instead of hardcoding the API keys in the code, we will use environment variables.\n",
    "\n",
    "## Environment variables in VSCode\n",
    "- VSCode by default loads the environment variables from the `.env` file in the root of the project.\n",
    "- There is a `.env.example` file that contains the environment variables that you need to set.\n",
    "- Now copy it over to a new file called `.env` and fill in the values.\n",
    "\n",
    "\n",
    "The values will be provided by Deere AI team.\n",
    "\n",
    "## Re-loading the environment variables\n",
    "\n",
    "If you make changes to the `.env` file, you need to re-load the environment variables.\n",
    "\n",
    "- The easiest way to do this is to reload the whole Developer Window. Use the command palette (Ctrl+Shift+P or Cmd+Shift+P) and select `Developer: Reload Window`.\n",
    "- You can also do this by restarting the Jupyter Notebook kernel, if the changes apply there. \n"
   ]
  }
 ],
 "metadata": {
  "kernelspec": {
   "display_name": ".venv",
   "language": "python",
   "name": "python3"
  },
  "language_info": {
   "codemirror_mode": {
    "name": "ipython",
    "version": 3
   },
   "file_extension": ".py",
   "mimetype": "text/x-python",
   "name": "python",
   "nbconvert_exporter": "python",
   "pygments_lexer": "ipython3",
   "version": "3.11.9"
  }
 },
 "nbformat": 4,
 "nbformat_minor": 2
}
