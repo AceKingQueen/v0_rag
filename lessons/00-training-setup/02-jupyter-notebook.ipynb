{
 "cells": [
  {
   "cell_type": "markdown",
   "metadata": {},
   "source": [
    "# Jupyter Notebooks\n",
    "\n",
    "## Introduction\n",
    "- Jupyter Notebooks are a popular way for data scientists to create and share code.\n",
    "- This is also very useful for training and documenting procedures.\n",
    "- See <https://jupyter.org/> for more information.\n",
    "\n",
    "- A  notebook consists of a combination of text and code cells.\n",
    "- The text cells are used to explain the code and the code cells are used to run the code.\n",
    "- The output of the code cells is shown below the code cell.\n",
    "\n",
    "- Each cell will have a play button, you can click on it to execute the cell.\n",
    "\n",
    "## Select the Kernel\n",
    "- The first time you execute a lesson, you'll have to select your kernel. (Right side upper corner)\n",
    "\n",
    "<img src=\"./images/select-kernel-button.png\" alt=\"Select the kernel button\" width=\"20%\"/>\n",
    "\n",
    "<img src=\"./images/select-kernel.png\" alt=\"Select the kernel \" width=\"40%\"/>\n",
    "\n",
    "- If this this the first time you execute a Jupyter Notebook it will ask you to install the IPykernel\n",
    "\n",
    "<img src=\"./images/install-ipykernel.png\" alt=\"Install IPykernel\" width=\"200\"/>"
   ]
  },
  {
   "cell_type": "markdown",
   "metadata": {},
   "source": [
    "## Running the hello world cell\n",
    "Now when you click the play button on the hello world cell, it will execute the code and show the output.\n",
    "And ask you for the python environment you want to execute the code in."
   ]
  },
  {
   "cell_type": "code",
   "execution_count": 1,
   "metadata": {},
   "outputs": [
    {
     "name": "stdout",
     "output_type": "stream",
     "text": [
      "Hello World\n"
     ]
    }
   ],
   "source": [
    "print(\"Hello World\")"
   ]
  },
  {
   "cell_type": "markdown",
   "metadata": {},
   "source": [
    "## Check python version\n",
    "The lessons have been developed with Python 3.11.\n",
    "Likely Python 3.12 will also work, but definitely Python 3.13 will not work."
   ]
  },
  {
   "cell_type": "code",
   "execution_count": 2,
   "metadata": {},
   "outputs": [
    {
     "name": "stdout",
     "output_type": "stream",
     "text": [
      "3.11.9\n"
     ]
    }
   ],
   "source": [
    "from platform import python_version\n",
    "\n",
    "print(python_version())\n",
    "\n",
    "# Check if python version is 3.11\n",
    "assert python_version().startswith(\"3.11\")"
   ]
  },
  {
   "cell_type": "markdown",
   "metadata": {},
   "source": [
    "# Check if in virtual environment\n",
    "Here we double check that we are indeed in a virtual environment."
   ]
  },
  {
   "cell_type": "code",
   "execution_count": 3,
   "metadata": {},
   "outputs": [
    {
     "name": "stdout",
     "output_type": "stream",
     "text": [
      "/Users/johnwillis/.pyenv/versions/3.11.9\n",
      "/Users/johnwillis/.pyenv/versions/3.11.9\n",
      "Checking if in virtual environment: False\n"
     ]
    }
   ],
   "source": [
    "import sys\n",
    "\n",
    "def get_base_prefix_compat():\n",
    "    \"\"\"Get base/real prefix, or sys.prefix if there is none.\"\"\"\n",
    "    return (\n",
    "        getattr(sys, \"base_prefix\", None)\n",
    "        or getattr(sys, \"real_prefix\", None)\n",
    "        or sys.prefix\n",
    "    )\n",
    "\n",
    "print(sys.prefix)\n",
    "print(get_base_prefix_compat())\n",
    "\n",
    "def in_virtualenv():\n",
    "    return sys.prefix != get_base_prefix_compat()\n",
    "\n",
    "print(\"Checking if in virtual environment:\", \n",
    "      in_virtualenv())\n",
    "\n",
    "#def in_virtualenv():\n",
    "#    return sys.prefix != get_base_prefix_compat()\n",
    "\n",
    "#print(\"Checking if in virtual environment:\", in_virtualenv())\n",
    "#assert True, in_virtualenv()"
   ]
  },
  {
   "cell_type": "markdown",
   "metadata": {},
   "source": [
    "## Ability to install python packages\n",
    "- Now that we have the right python version and are in a virtual environment, we can install the packages we need.\n",
    "- In Python packages are installed using the `pip` command."
   ]
  },
  {
   "cell_type": "code",
   "execution_count": 4,
   "metadata": {},
   "outputs": [
    {
     "name": "stdout",
     "output_type": "stream",
     "text": [
      "\n",
      "\u001b[1m[\u001b[0m\u001b[34;49mnotice\u001b[0m\u001b[1;39;49m]\u001b[0m\u001b[39;49m A new release of pip is available: \u001b[0m\u001b[31;49m24.0\u001b[0m\u001b[39;49m -> \u001b[0m\u001b[32;49m25.0.1\u001b[0m\n",
      "\u001b[1m[\u001b[0m\u001b[34;49mnotice\u001b[0m\u001b[1;39;49m]\u001b[0m\u001b[39;49m To update, run: \u001b[0m\u001b[32;49mpip install --upgrade pip\u001b[0m\n",
      "Note: you may need to restart the kernel to use updated packages.\n"
     ]
    }
   ],
   "source": [
    "%pip install -q langchain"
   ]
  },
  {
   "cell_type": "markdown",
   "metadata": {},
   "source": [
    "## Congratulations\n",
    "You now have setup VSCode, Python and Jupyter Notebooks. Now on the the next lesson."
   ]
  }
 ],
 "metadata": {
  "kernelspec": {
   "display_name": "3.11.9",
   "language": "python",
   "name": "python3"
  },
  "language_info": {
   "codemirror_mode": {
    "name": "ipython",
    "version": 3
   },
   "file_extension": ".py",
   "mimetype": "text/x-python",
   "name": "python",
   "nbconvert_exporter": "python",
   "pygments_lexer": "ipython3",
   "version": "3.11.9"
  }
 },
 "nbformat": 4,
 "nbformat_minor": 2
}
