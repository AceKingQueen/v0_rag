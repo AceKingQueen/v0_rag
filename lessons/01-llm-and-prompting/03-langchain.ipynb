{
 "cells": [
  {
   "cell_type": "markdown",
   "metadata": {},
   "source": [
    "# Langchain - Orchestration Framework\n",
    "## Introduction\n",
    "As we've seen the apis between OpenAI and Anthropic are quite different. What if we want to switch models?\n",
    "We'd want to avoid rewriting our code , just to change the llm.\n",
    "\n",
    "One way of abstracting this, is to use an *orchestration framework` such as *Langchain*. It is the initial framework that generated a lot of buzz. See <https://github.com/langchain-ai/langchain>\n",
    "\n",
    "Since then other frameworks such as *LLamaIndex* <https://www.llamaindex.ai/> emerged. They have different philosophies but are often converging to the same functinoality.\n"
   ]
  },
  {
   "cell_type": "markdown",
   "metadata": {},
   "source": [
    "## Installation\n",
    "First we install langchain and also the components for the different llms"
   ]
  },
  {
   "cell_type": "code",
   "execution_count": 1,
   "metadata": {},
   "outputs": [
    {
     "name": "stdout",
     "output_type": "stream",
     "text": [
      "\n",
      "\u001b[1m[\u001b[0m\u001b[34;49mnotice\u001b[0m\u001b[1;39;49m]\u001b[0m\u001b[39;49m A new release of pip is available: \u001b[0m\u001b[31;49m24.0\u001b[0m\u001b[39;49m -> \u001b[0m\u001b[32;49m25.0.1\u001b[0m\n",
      "\u001b[1m[\u001b[0m\u001b[34;49mnotice\u001b[0m\u001b[1;39;49m]\u001b[0m\u001b[39;49m To update, run: \u001b[0m\u001b[32;49mpip install --upgrade pip\u001b[0m\n",
      "Note: you may need to restart the kernel to use updated packages.\n"
     ]
    }
   ],
   "source": [
    "%pip install -q langchain langchain-openai langchain-anthropic"
   ]
  },
  {
   "cell_type": "markdown",
   "metadata": {},
   "source": [
    "## Examples\n",
    "### OpenAI in Langchain syntax\n",
    "The frameworks allow the use of multiple different llms. Here we'll use OpenAI as an example."
   ]
  },
  {
   "cell_type": "code",
   "execution_count": 2,
   "metadata": {},
   "outputs": [
    {
     "name": "stdout",
     "output_type": "stream",
     "text": [
      "DevOps is a set of practices, principles, and cultural philosophies that aim to improve collaboration and communication between software development (Dev) and IT operations (Ops) teams. The goal of DevOps is to shorten the software development lifecycle, enhance the frequency of software releases, and improve the reliability of software applications. It achieves this through automation, continuous integration and continuous delivery (CI/CD), and a focus on collaboration and shared responsibilities.\n",
      "\n",
      "Key components and principles of DevOps include:\n",
      "\n",
      "1. **Collaboration and Communication**: Breaking down silos between development and operations teams to foster better communication and cooperation, leading to faster problem-solving and innovation.\n",
      "\n",
      "2. **Automation**: Implementing automated processes for testing, deployment, monitoring, and infrastructure management to reduce manual effort, minimize errors, and accelerate delivery.\n",
      "\n",
      "3. **Continuous Integration and Continuous Delivery (CI/CD)**: CI involves the practice of regularly integrating code changes into a shared repository, followed by automated testing. CD takes it further by automating the deployment of code to production, ensuring that software can be released confidently and frequently.\n",
      "\n",
      "4. **Infrastructure as Code (IaC)**: Managing and provisioning computing infrastructure through code and automation, which allows for consistent environments and simplifies infrastructure management.\n",
      "\n",
      "5. **Monitoring and Feedback**: Continuous monitoring of applications and infrastructure in production, gathering feedback from users, and using that information to improve future development and operations.\n",
      "\n",
      "6. **Cultural Transformation**: Emphasizing a culture of shared responsibility, trust, and learning, where teams can collaborate effectively and adapt to changes quickly.\n",
      "\n",
      "By adopting DevOps practices, organizations can achieve faster deployment times, improved quality of software, and better alignment between business objectives and IT capabilities. This ultimately leads to higher customer satisfaction and a competitive advantage in the market.\n"
     ]
    }
   ],
   "source": [
    "# We import the relevant library for OpenAI\n",
    "from langchain_openai import ChatOpenAI\n",
    "\n",
    "# The question we're asking\n",
    "question = \"What is DevOps?\"\n",
    "\n",
    "# The model we select\n",
    "model = \"gpt-4o-mini\"\n",
    "\n",
    "# ChatOpenAI refers to OpenAI chat model\n",
    "llm = ChatOpenAI(model=model)\n",
    "\n",
    "# Now we ask the model to complete the question\n",
    "answer = llm.invoke(question)\n",
    "print(answer.content)"
   ]
  },
  {
   "cell_type": "markdown",
   "metadata": {},
   "source": [
    "### Anthropic in Langchain syntax\n",
    "Here's the equivalent for Anthropic with Langchain."
   ]
  },
  {
   "cell_type": "code",
   "execution_count": 4,
   "metadata": {},
   "outputs": [
    {
     "name": "stdout",
     "output_type": "stream",
     "text": [
      "# DevOps\n",
      "\n",
      "DevOps is a set of practices that combines software development (Dev) and IT operations (Ops) with the goal of shortening the development lifecycle while delivering features, fixes, and updates frequently, reliably, and at scale.\n",
      "\n",
      "Key aspects of DevOps include:\n",
      "\n",
      "- **Culture**: Promoting collaboration between development and operations teams\n",
      "- **Automation**: Implementing CI/CD pipelines, infrastructure as code, and automated testing\n",
      "- **Measurement**: Continuous monitoring and data-driven decision making\n",
      "- **Sharing**: Knowledge sharing and transparency across teams\n",
      "\n",
      "DevOps practices often leverage tools for source control (Git), continuous integration (Jenkins, GitHub Actions), infrastructure as code (Terraform, Ansible), containerization (Docker, Kubernetes), and monitoring (Prometheus, Grafana).\n",
      "\n",
      "The ultimate aim of DevOps is to improve product quality, increase organizational efficiency, and deliver greater business value through technology.\n"
     ]
    }
   ],
   "source": [
    "# We import the relevant library for Anthropic\n",
    "from langchain_anthropic import ChatAnthropic\n",
    "\n",
    "# The question we ask\n",
    "question = \"What is DevOps?\"\n",
    "\n",
    "# The model we select\n",
    "model = \"claude-3-7-sonnet-20250219\"\n",
    "\n",
    "# ChatAnthropic refers to Anthropic chat model\n",
    "llm = ChatAnthropic(model=model)\n",
    "\n",
    "# Now we ask the model to complete the question\n",
    "answer = llm.invoke(question)\n",
    "print(answer.content)"
   ]
  },
  {
   "cell_type": "markdown",
   "metadata": {},
   "source": [
    "As you can see there is level of abstraction in how we call the model.\n",
    "\n",
    "But the actual reference to a specific model is different."
   ]
  }
 ],
 "metadata": {
  "kernelspec": {
   "display_name": "3.11.9",
   "language": "python",
   "name": "python3"
  },
  "language_info": {
   "codemirror_mode": {
    "name": "ipython",
    "version": 3
   },
   "file_extension": ".py",
   "mimetype": "text/x-python",
   "name": "python",
   "nbconvert_exporter": "python",
   "pygments_lexer": "ipython3",
   "version": "3.11.9"
  },
  "orig_nbformat": 4
 },
 "nbformat": 4,
 "nbformat_minor": 2
}
