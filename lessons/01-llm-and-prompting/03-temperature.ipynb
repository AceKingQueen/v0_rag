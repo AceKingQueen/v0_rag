{
 "cells": [
  {
   "cell_type": "markdown",
   "metadata": {},
   "source": [
    "# Model Temperature\n",
    "## Introduction\n",
    "We learned that LLM generates/completes the questions we send it.\n",
    "\n",
    "It turns out that when we ask it again , we might another answer.\n",
    "\n",
    "In this lesson we'll explore the concept of temperature a way to get more consistent answer."
   ]
  },
  {
   "cell_type": "markdown",
   "metadata": {},
   "source": [
    "## Installation"
   ]
  },
  {
   "cell_type": "code",
   "execution_count": 1,
   "metadata": {},
   "outputs": [
    {
     "name": "stdout",
     "output_type": "stream",
     "text": [
      "\n",
      "\u001b[1m[\u001b[0m\u001b[34;49mnotice\u001b[0m\u001b[1;39;49m]\u001b[0m\u001b[39;49m A new release of pip is available: \u001b[0m\u001b[31;49m24.0\u001b[0m\u001b[39;49m -> \u001b[0m\u001b[32;49m25.0.1\u001b[0m\n",
      "\u001b[1m[\u001b[0m\u001b[34;49mnotice\u001b[0m\u001b[1;39;49m]\u001b[0m\u001b[39;49m To update, run: \u001b[0m\u001b[32;49mpip install --upgrade pip\u001b[0m\n",
      "Note: you may need to restart the kernel to use updated packages.\n"
     ]
    }
   ],
   "source": [
    "%pip install -q langchain langchain-openai"
   ]
  },
  {
   "cell_type": "markdown",
   "metadata": {},
   "source": [
    "## Same question , different results\n",
    "Let's try the following example a few times and look at the output."
   ]
  },
  {
   "cell_type": "code",
   "execution_count": 2,
   "metadata": {},
   "outputs": [
    {
     "name": "stdout",
     "output_type": "stream",
     "text": [
      "A1:\n",
      "\n",
      "Auburn is a city located in the state of Alabama in the United States. It is situated in the eastern central part of the state and is about 60 miles northeast of the state capital, Montgomery. \n",
      "A2:\n",
      "\n",
      "Auburn is a city located in Lee County, Alabama, United States. It is situated in the eastern part of the state, approximately 50 miles east of Montgomery and 115 miles southwest of Atlanta, Georgia. \n",
      "A3:\n",
      "\n",
      "Auburn is a city in Lee County, Alabama, United States. It is located in the eastern part of the state, about 60 miles southwest of the state capital, Montgomery.\n",
      "A4:\n",
      "\n",
      "Auburn is a city in Lee County, Alabama. It is located in the eastern part of the state, about 55 miles southwest of the state capital, Montgomery.\n",
      "A5:\n",
      "\n",
      "Auburn is a city located in Lee County, Alabama, United States. It is situated in the eastern part of the state, about 55 miles southwest of the state capital of Montgomery and 112 miles southeast of Birmingham.\n"
     ]
    }
   ],
   "source": [
    "from langchain_openai import OpenAI\n",
    "llm = OpenAI()\n",
    "question = \"Where is Auburn?\"\n",
    "for i in range(1,6):\n",
    "    answer = llm.invoke(question)\n",
    "    print(f\"A{i}:{answer}\")"
   ]
  },
  {
   "cell_type": "markdown",
   "metadata": {},
   "source": [
    "We see that for every call, the answer is different. This can be great if you want the llm to be creative, but we want a way to make it more repeatable.\n",
    "\n",
    "## Adding temperature\n",
    "If we want to make the llm output more more predictable we set the `temperature` option.\n",
    "\n",
    "The temperature parameter controls the randomness of the text generated and while a value of 0 ensures the least random or more deterministic responses, they will not necessarily be exactly the same."
   ]
  },
  {
   "cell_type": "code",
   "execution_count": 3,
   "metadata": {},
   "outputs": [
    {
     "name": "stdout",
     "output_type": "stream",
     "text": [
      "A1:\n",
      "\n",
      "Auburn is a city located in Lee County, Alabama, United States. It is situated in the eastern part of the state, about 60 miles east of Montgomery and 120 miles southwest of Atlanta, Georgia.\n",
      "A2:\n",
      "\n",
      "Auburn is a city located in Lee County, Alabama, United States. It is situated in the eastern part of the state, about 60 miles east of Montgomery and 120 miles southwest of Atlanta, Georgia.\n",
      "A3:\n",
      "\n",
      "Auburn is a city located in Lee County, Alabama, United States. It is situated in the eastern part of the state, about 60 miles east of Montgomery and 120 miles southwest of Atlanta, Georgia.\n",
      "A4:\n",
      "\n",
      "Auburn is a city located in Lee County, Alabama, United States. It is situated in the eastern part of the state, about 60 miles east of Montgomery and 120 miles southwest of Atlanta, Georgia.\n",
      "A5:\n",
      "\n",
      "Auburn is a city located in Lee County, Alabama, United States. It is situated in the eastern part of the state, about 60 miles east of Montgomery and 120 miles southwest of Atlanta, Georgia.\n"
     ]
    }
   ],
   "source": [
    "llm = OpenAI(temperature=0)\n",
    "for i in range(1,6):\n",
    "    answer = llm.invoke(\"Where is Auburn?\")\n",
    "    print(f\"A{i}:{answer}\")"
   ]
  },
  {
   "cell_type": "markdown",
   "metadata": {},
   "source": [
    "Et voila , now it always retuns the same results."
   ]
  },
  {
   "cell_type": "markdown",
   "metadata": {},
   "source": [
    "## But it is not guaranteed\n",
    "You may have noticed that we used *OpenAI* instead of *ChatOpenAI*. In Langchain *OpenAI* is the older syntax and points to a text completion model and *ChatOpenAI* to a chat completion model. With OpenAI the input are strings and with ChatOpenAI the input is a sequence of messages.\n",
    "\n",
    "Most newer models tend to be Chat completion models. <https://python.langchain.com/v0.2/docs/concepts/#llms>"
   ]
  },
  {
   "cell_type": "markdown",
   "metadata": {},
   "source": [
    "Let's repeat this now for the `ChatOpenAI` model with `temperature=0`. You'll see it's not always giving the same results , even with temperature set. So it's not a 100% guarantee."
   ]
  },
  {
   "cell_type": "code",
   "execution_count": 6,
   "metadata": {},
   "outputs": [
    {
     "name": "stdout",
     "output_type": "stream",
     "text": [
      "A1:Opelika is a city located in Lee County, Alabama, United States.\n",
      "A2:Opelika is a city located in Lee County, Alabama, United States.\n",
      "A3:Opelika is a city located in Lee County, Alabama, United States.\n",
      "A4:Opelika is a city located in Lee County, Alabama, United States.\n",
      "A5:Opelika is a city located in Lee County, Alabama, United States.\n"
     ]
    }
   ],
   "source": [
    "from langchain_openai import ChatOpenAI\n",
    "llm = ChatOpenAI(temperature=0)\n",
    "for i in range(1,6):\n",
    "    answer = llm.invoke(\"Where is Opilika?\")\n",
    "    print(f\"A{i}:{answer.content}\")"
   ]
  },
  {
   "cell_type": "markdown",
   "metadata": {},
   "source": [
    "## Different models give different behaviors\n",
    "By default `ChatOpenAI` uses the model `gpt-4o`. Let's see what happens if we use `gpt-4o-mini`. The results are more consistent."
   ]
  },
  {
   "cell_type": "code",
   "execution_count": 7,
   "metadata": {},
   "outputs": [
    {
     "name": "stdout",
     "output_type": "stream",
     "text": [
      "A1:Auburn can refer to several places, but the most notable ones are:\n",
      "\n",
      "1. **Auburn, Alabama**: A city in the southeastern United States, known for being home to Auburn University, a major public research university.\n",
      "\n",
      "2. **Auburn, California**: A city located in Placer County, known for its historic Gold Rush-era downtown and beautiful natural surroundings.\n",
      "\n",
      "3. **Auburn, Washington**: A city in King County, part of the Seattle metropolitan area, known for its parks and recreational opportunities.\n",
      "\n",
      "If you have a specific Auburn in mind, please provide more context!\n",
      "A2:Auburn can refer to several places, but the most notable ones are:\n",
      "\n",
      "1. **Auburn, Alabama**: A city in the southeastern United States, known for Auburn University, a major public research university.\n",
      "\n",
      "2. **Auburn, California**: A city in Placer County, located in the Sierra Nevada foothills, known for its historic Gold Rush-era downtown.\n",
      "\n",
      "3. **Auburn, Washington**: A city located in King County, part of the Seattle metropolitan area.\n",
      "\n",
      "If you have a specific Auburn in mind, please provide more context!\n",
      "A3:Auburn can refer to several places, but the most notable ones are:\n",
      "\n",
      "1. **Auburn, Alabama**: A city in the southeastern United States, known for Auburn University, a major public research university.\n",
      "\n",
      "2. **Auburn, California**: A city located in Placer County, known for its historic Gold Rush-era downtown.\n",
      "\n",
      "3. **Auburn, Washington**: A city in King County, part of the Seattle metropolitan area.\n",
      "\n",
      "4. **Auburn, New York**: A city in Cayuga County, known for its historical significance and as the home of the Auburn Correctional Facility.\n",
      "\n",
      "If you have a specific Auburn in mind, please provide more context!\n",
      "A4:Auburn can refer to several places, but the most notable ones are:\n",
      "\n",
      "1. **Auburn, Alabama**: A city in the southeastern United States, known for being home to Auburn University.\n",
      "2. **Auburn, California**: A city in Placer County, located in the Sierra Nevada foothills, known for its Gold Rush history.\n",
      "3. **Auburn, Washington**: A city located in King County, part of the Seattle metropolitan area.\n",
      "\n",
      "If you have a specific Auburn in mind, please provide more context!\n",
      "A5:Auburn can refer to several places, but the most notable ones are:\n",
      "\n",
      "1. **Auburn, Alabama**: A city in the southeastern United States, known for being home to Auburn University, a major public research university.\n",
      "\n",
      "2. **Auburn, California**: A city located in Placer County, known for its historic Gold Rush-era downtown and beautiful natural surroundings.\n",
      "\n",
      "3. **Auburn, Washington**: A city in King County, part of the Seattle metropolitan area, known for its parks and recreational opportunities.\n",
      "\n",
      "If you have a specific Auburn in mind, please provide more context!\n"
     ]
    }
   ],
   "source": [
    "from langchain_openai import ChatOpenAI\n",
    "llm = ChatOpenAI(temperature=0,model=\"gpt-4o-mini\")\n",
    "for i in range(1,6):\n",
    "    answer = llm.invoke(\"Where is Auburn?\")\n",
    "    print(f\"A{i}:{answer.content}\")"
   ]
  },
  {
   "cell_type": "markdown",
   "metadata": {},
   "source": [
    "We've learned that temperature can help increase the determinism but it also not guaranteed."
   ]
  }
 ],
 "metadata": {
  "kernelspec": {
   "display_name": "3.11.9",
   "language": "python",
   "name": "python3"
  },
  "language_info": {
   "codemirror_mode": {
    "name": "ipython",
    "version": 3
   },
   "file_extension": ".py",
   "mimetype": "text/x-python",
   "name": "python",
   "nbconvert_exporter": "python",
   "pygments_lexer": "ipython3",
   "version": "3.11.9"
  },
  "orig_nbformat": 4
 },
 "nbformat": 4,
 "nbformat_minor": 2
}
