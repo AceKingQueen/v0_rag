{
 "cells": [
  {
   "cell_type": "markdown",
   "metadata": {},
   "source": [
    "# Using OpenAPI specifications\n",
    "## Introduction"
   ]
  },
  {
   "cell_type": "markdown",
   "metadata": {},
   "source": [
    "Much like the schema information in the code, OpenAPI specifications provide another canonical source of schema and urls. We can leverage that to do online calls and have the LLM \"understand\" how to do the calls based of the information.\n",
    "\n",
    "Example from langchain:\n",
    "- https://python.langchain.com/docs/use_cases/apis"
   ]
  },
  {
   "cell_type": "markdown",
   "metadata": {},
   "source": [
    "## Installation"
   ]
  },
  {
   "cell_type": "code",
   "execution_count": 1,
   "metadata": {},
   "outputs": [
    {
     "name": "stdout",
     "output_type": "stream",
     "text": [
      "\n",
      "\u001b[1m[\u001b[0m\u001b[34;49mnotice\u001b[0m\u001b[1;39;49m]\u001b[0m\u001b[39;49m A new release of pip is available: \u001b[0m\u001b[31;49m24.0\u001b[0m\u001b[39;49m -> \u001b[0m\u001b[32;49m25.0.1\u001b[0m\n",
      "\u001b[1m[\u001b[0m\u001b[34;49mnotice\u001b[0m\u001b[1;39;49m]\u001b[0m\u001b[39;49m To update, run: \u001b[0m\u001b[32;49mpip install --upgrade pip\u001b[0m\n",
      "Note: you may need to restart the kernel to use updated packages.\n"
     ]
    }
   ],
   "source": [
    "%pip install -q langchain langchain-openai"
   ]
  },
  {
   "cell_type": "markdown",
   "metadata": {},
   "source": [
    "## Reading the weather calls from an OpenAPI Spec"
   ]
  },
  {
   "cell_type": "markdown",
   "metadata": {},
   "source": [
    "In this example we ask the LLM to find the weather in London. We already know that the LLMs have a knowledge cut off so it can't do this. In this case we'd be asking the LLM to look for related parts in the documentation, form an api query and then provide that as extra context.\n",
    "\n",
    "Watch the magic under the hood... No coding , just from documentation the LLM was able to construct the right calls to the API of the weather service."
   ]
  },
  {
   "cell_type": "code",
   "execution_count": 2,
   "metadata": {},
   "outputs": [
    {
     "name": "stderr",
     "output_type": "stream",
     "text": [
      "/var/folders/zv/sk558nrx4j78nqvptnqpk6fh0000gn/T/ipykernel_69028/2913751387.py:10: LangChainDeprecationWarning: The method `Chain.run` was deprecated in langchain 0.1.0 and will be removed in 1.0. Use :meth:`~invoke` instead.\n",
      "  chain.run('What is the weather like right now in London in degrees Celcius?')\n"
     ]
    },
    {
     "name": "stdout",
     "output_type": "stream",
     "text": [
      "\u001b[32;1m\u001b[1;3m[llm/start]\u001b[0m \u001b[1m[llm:OpenAI] Entering LLM run with input:\n",
      "\u001b[0m{\n",
      "  \"prompts\": [\n",
      "    \"You are given the below API Documentation:\\nBASE URL: https://api.open-meteo.com/\\n\\nAPI Documentation\\nThe API endpoint /v1/forecast accepts a geographical coordinate, a list of weather variables and responds with a JSON hourly weather forecast for 7 days. Time always starts at 0:00 today and contains 168 hours. All URL parameters are listed below:\\n\\nParameter\\tFormat\\tRequired\\tDefault\\tDescription\\nlatitude, longitude\\tFloating point\\tYes\\t\\tGeographical WGS84 coordinate of the location\\nhourly\\tString array\\tNo\\t\\tA list of weather variables which should be returned. Values can be comma separated, or multiple &hourly= parameter in the URL can be used.\\ndaily\\tString array\\tNo\\t\\tA list of daily weather variable aggregations which should be returned. Values can be comma separated, or multiple &daily= parameter in the URL can be used. If daily weather variables are specified, parameter timezone is required.\\ncurrent_weather\\tBool\\tNo\\tfalse\\tInclude current weather conditions in the JSON output.\\ntemperature_unit\\tString\\tNo\\tcelsius\\tIf fahrenheit is set, all temperature values are converted to Fahrenheit.\\nwindspeed_unit\\tString\\tNo\\tkmh\\tOther wind speed speed units: ms, mph and kn\\nprecipitation_unit\\tString\\tNo\\tmm\\tOther precipitation amount units: inch\\ntimeformat\\tString\\tNo\\tiso8601\\tIf format unixtime is selected, all time values are returned in UNIX epoch time in seconds. Please note that all timestamp are in GMT+0! For daily values with unix timestamps, please apply utc_offset_seconds again to get the correct date.\\ntimezone\\tString\\tNo\\tGMT\\tIf timezone is set, all timestamps are returned as local-time and data is returned starting at 00:00 local-time. Any time zone name from the time zone database is supported. If auto is set as a time zone, the coordinates will be automatically resolved to the local time zone.\\npast_days\\tInteger (0-2)\\tNo\\t0\\tIf past_days is set, yesterday or the day before yesterday data are also returned.\\nstart_date\\nend_date\\tString (yyyy-mm-dd)\\tNo\\t\\tThe time interval to get weather data. A day must be specified as an ISO8601 date (e.g. 2022-06-30).\\nmodels\\tString array\\tNo\\tauto\\tManually select one or more weather models. Per default, the best suitable weather models will be combined.\\n\\nHourly Parameter Definition\\nThe parameter &hourly= accepts the following values. Most weather variables are given as an instantaneous value for the indicated hour. Some variables like precipitation are calculated from the preceding hour as an average or sum.\\n\\nVariable\\tValid time\\tUnit\\tDescription\\ntemperature_2m\\tInstant\\t°C (°F)\\tAir temperature at 2 meters above ground\\nsnowfall\\tPreceding hour sum\\tcm (inch)\\tSnowfall amount of the preceding hour in centimeters. For the water equivalent in millimeter, divide by 7. E.g. 7 cm snow = 10 mm precipitation water equivalent\\nrain\\tPreceding hour sum\\tmm (inch)\\tRain from large scale weather systems of the preceding hour in millimeter\\nshowers\\tPreceding hour sum\\tmm (inch)\\tShowers from convective precipitation in millimeters from the preceding hour\\nweathercode\\tInstant\\tWMO code\\tWeather condition as a numeric code. Follow WMO weather interpretation codes. See table below for details.\\nsnow_depth\\tInstant\\tmeters\\tSnow depth on the ground\\nfreezinglevel_height\\tInstant\\tmeters\\tAltitude above sea level of the 0°C level\\nvisibility\\tInstant\\tmeters\\tViewing distance in meters. Influenced by low clouds, humidity and aerosols. Maximum visibility is approximately 24 km.\\nUsing this documentation, generate the full API url to call for answering the user question.\\nYou should build the API url in order to get a response that is as short as possible, while still getting the necessary information to answer the question. Pay attention to deliberately exclude any unnecessary pieces of data in the API call.\\n\\nQuestion:What is the weather like right now in London in degrees Celcius?\\nAPI url:\"\n",
      "  ]\n",
      "}\n",
      "\u001b[36;1m\u001b[1;3m[llm/end]\u001b[0m \u001b[1m[llm:OpenAI] [1.80s] Exiting LLM run with output:\n",
      "\u001b[0m{\n",
      "  \"generations\": [\n",
      "    [\n",
      "      {\n",
      "        \"text\": \" https://api.open-meteo.com/v1/forecast?latitude=51.5074&longitude=0.1278&hourly=temperature_2m&current_weather=true&temperature_unit=celsius&timezone=auto\",\n",
      "        \"generation_info\": {\n",
      "          \"finish_reason\": \"stop\",\n",
      "          \"logprobs\": null\n",
      "        },\n",
      "        \"type\": \"Generation\"\n",
      "      }\n",
      "    ]\n",
      "  ],\n",
      "  \"llm_output\": {\n",
      "    \"token_usage\": {\n",
      "      \"prompt_tokens\": 851,\n",
      "      \"completion_tokens\": 47,\n",
      "      \"total_tokens\": 898\n",
      "    },\n",
      "    \"model_name\": \"gpt-3.5-turbo-instruct\"\n",
      "  },\n",
      "  \"run\": null,\n",
      "  \"type\": \"LLMResult\"\n",
      "}\n",
      "\u001b[32;1m\u001b[1;3m[llm/start]\u001b[0m \u001b[1m[llm:OpenAI] Entering LLM run with input:\n",
      "\u001b[0m{\n",
      "  \"prompts\": [\n",
      "    \"You are given the below API Documentation:\\nBASE URL: https://api.open-meteo.com/\\n\\nAPI Documentation\\nThe API endpoint /v1/forecast accepts a geographical coordinate, a list of weather variables and responds with a JSON hourly weather forecast for 7 days. Time always starts at 0:00 today and contains 168 hours. All URL parameters are listed below:\\n\\nParameter\\tFormat\\tRequired\\tDefault\\tDescription\\nlatitude, longitude\\tFloating point\\tYes\\t\\tGeographical WGS84 coordinate of the location\\nhourly\\tString array\\tNo\\t\\tA list of weather variables which should be returned. Values can be comma separated, or multiple &hourly= parameter in the URL can be used.\\ndaily\\tString array\\tNo\\t\\tA list of daily weather variable aggregations which should be returned. Values can be comma separated, or multiple &daily= parameter in the URL can be used. If daily weather variables are specified, parameter timezone is required.\\ncurrent_weather\\tBool\\tNo\\tfalse\\tInclude current weather conditions in the JSON output.\\ntemperature_unit\\tString\\tNo\\tcelsius\\tIf fahrenheit is set, all temperature values are converted to Fahrenheit.\\nwindspeed_unit\\tString\\tNo\\tkmh\\tOther wind speed speed units: ms, mph and kn\\nprecipitation_unit\\tString\\tNo\\tmm\\tOther precipitation amount units: inch\\ntimeformat\\tString\\tNo\\tiso8601\\tIf format unixtime is selected, all time values are returned in UNIX epoch time in seconds. Please note that all timestamp are in GMT+0! For daily values with unix timestamps, please apply utc_offset_seconds again to get the correct date.\\ntimezone\\tString\\tNo\\tGMT\\tIf timezone is set, all timestamps are returned as local-time and data is returned starting at 00:00 local-time. Any time zone name from the time zone database is supported. If auto is set as a time zone, the coordinates will be automatically resolved to the local time zone.\\npast_days\\tInteger (0-2)\\tNo\\t0\\tIf past_days is set, yesterday or the day before yesterday data are also returned.\\nstart_date\\nend_date\\tString (yyyy-mm-dd)\\tNo\\t\\tThe time interval to get weather data. A day must be specified as an ISO8601 date (e.g. 2022-06-30).\\nmodels\\tString array\\tNo\\tauto\\tManually select one or more weather models. Per default, the best suitable weather models will be combined.\\n\\nHourly Parameter Definition\\nThe parameter &hourly= accepts the following values. Most weather variables are given as an instantaneous value for the indicated hour. Some variables like precipitation are calculated from the preceding hour as an average or sum.\\n\\nVariable\\tValid time\\tUnit\\tDescription\\ntemperature_2m\\tInstant\\t°C (°F)\\tAir temperature at 2 meters above ground\\nsnowfall\\tPreceding hour sum\\tcm (inch)\\tSnowfall amount of the preceding hour in centimeters. For the water equivalent in millimeter, divide by 7. E.g. 7 cm snow = 10 mm precipitation water equivalent\\nrain\\tPreceding hour sum\\tmm (inch)\\tRain from large scale weather systems of the preceding hour in millimeter\\nshowers\\tPreceding hour sum\\tmm (inch)\\tShowers from convective precipitation in millimeters from the preceding hour\\nweathercode\\tInstant\\tWMO code\\tWeather condition as a numeric code. Follow WMO weather interpretation codes. See table below for details.\\nsnow_depth\\tInstant\\tmeters\\tSnow depth on the ground\\nfreezinglevel_height\\tInstant\\tmeters\\tAltitude above sea level of the 0°C level\\nvisibility\\tInstant\\tmeters\\tViewing distance in meters. Influenced by low clouds, humidity and aerosols. Maximum visibility is approximately 24 km.\\nUsing this documentation, generate the full API url to call for answering the user question.\\nYou should build the API url in order to get a response that is as short as possible, while still getting the necessary information to answer the question. Pay attention to deliberately exclude any unnecessary pieces of data in the API call.\\n\\nQuestion:What is the weather like right now in London in degrees Celcius?\\nAPI url: https://api.open-meteo.com/v1/forecast?latitude=51.5074&longitude=0.1278&hourly=temperature_2m&current_weather=true&temperature_unit=celsius&timezone=auto\\n\\nHere is the response from the API:\\n\\n{\\\"latitude\\\":51.5,\\\"longitude\\\":0.119999886,\\\"generationtime_ms\\\":0.07367134094238281,\\\"utc_offset_seconds\\\":0,\\\"timezone\\\":\\\"Europe/London\\\",\\\"timezone_abbreviation\\\":\\\"GMT\\\",\\\"elevation\\\":3.0,\\\"current_weather_units\\\":{\\\"time\\\":\\\"iso8601\\\",\\\"interval\\\":\\\"seconds\\\",\\\"temperature\\\":\\\"°C\\\",\\\"windspeed\\\":\\\"km/h\\\",\\\"winddirection\\\":\\\"°\\\",\\\"is_day\\\":\\\"\\\",\\\"weathercode\\\":\\\"wmo code\\\"},\\\"current_weather\\\":{\\\"time\\\":\\\"2025-03-13T16:00\\\",\\\"interval\\\":900,\\\"temperature\\\":6.7,\\\"windspeed\\\":13.0,\\\"winddirection\\\":321,\\\"is_day\\\":1,\\\"weathercode\\\":80},\\\"hourly_units\\\":{\\\"time\\\":\\\"iso8601\\\",\\\"temperature_2m\\\":\\\"°C\\\"},\\\"hourly\\\":{\\\"time\\\":[\\\"2025-03-13T00:00\\\",\\\"2025-03-13T01:00\\\",\\\"2025-03-13T02:00\\\",\\\"2025-03-13T03:00\\\",\\\"2025-03-13T04:00\\\",\\\"2025-03-13T05:00\\\",\\\"2025-03-13T06:00\\\",\\\"2025-03-13T07:00\\\",\\\"2025-03-13T08:00\\\",\\\"2025-03-13T09:00\\\",\\\"2025-03-13T10:00\\\",\\\"2025-03-13T11:00\\\",\\\"2025-03-13T12:00\\\",\\\"2025-03-13T13:00\\\",\\\"2025-03-13T14:00\\\",\\\"2025-03-13T15:00\\\",\\\"2025-03-13T16:00\\\",\\\"2025-03-13T17:00\\\",\\\"2025-03-13T18:00\\\",\\\"2025-03-13T19:00\\\",\\\"2025-03-13T20:00\\\",\\\"2025-03-13T21:00\\\",\\\"2025-03-13T22:00\\\",\\\"2025-03-13T23:00\\\",\\\"2025-03-14T00:00\\\",\\\"2025-03-14T01:00\\\",\\\"2025-03-14T02:00\\\",\\\"2025-03-14T03:00\\\",\\\"2025-03-14T04:00\\\",\\\"2025-03-14T05:00\\\",\\\"2025-03-14T06:00\\\",\\\"2025-03-14T07:00\\\",\\\"2025-03-14T08:00\\\",\\\"2025-03-14T09:00\\\",\\\"2025-03-14T10:00\\\",\\\"2025-03-14T11:00\\\",\\\"2025-03-14T12:00\\\",\\\"2025-03-14T13:00\\\",\\\"2025-03-14T14:00\\\",\\\"2025-03-14T15:00\\\",\\\"2025-03-14T16:00\\\",\\\"2025-03-14T17:00\\\",\\\"2025-03-14T18:00\\\",\\\"2025-03-14T19:00\\\",\\\"2025-03-14T20:00\\\",\\\"2025-03-14T21:00\\\",\\\"2025-03-14T22:00\\\",\\\"2025-03-14T23:00\\\",\\\"2025-03-15T00:00\\\",\\\"2025-03-15T01:00\\\",\\\"2025-03-15T02:00\\\",\\\"2025-03-15T03:00\\\",\\\"2025-03-15T04:00\\\",\\\"2025-03-15T05:00\\\",\\\"2025-03-15T06:00\\\",\\\"2025-03-15T07:00\\\",\\\"2025-03-15T08:00\\\",\\\"2025-03-15T09:00\\\",\\\"2025-03-15T10:00\\\",\\\"2025-03-15T11:00\\\",\\\"2025-03-15T12:00\\\",\\\"2025-03-15T13:00\\\",\\\"2025-03-15T14:00\\\",\\\"2025-03-15T15:00\\\",\\\"2025-03-15T16:00\\\",\\\"2025-03-15T17:00\\\",\\\"2025-03-15T18:00\\\",\\\"2025-03-15T19:00\\\",\\\"2025-03-15T20:00\\\",\\\"2025-03-15T21:00\\\",\\\"2025-03-15T22:00\\\",\\\"2025-03-15T23:00\\\",\\\"2025-03-16T00:00\\\",\\\"2025-03-16T01:00\\\",\\\"2025-03-16T02:00\\\",\\\"2025-03-16T03:00\\\",\\\"2025-03-16T04:00\\\",\\\"2025-03-16T05:00\\\",\\\"2025-03-16T06:00\\\",\\\"2025-03-16T07:00\\\",\\\"2025-03-16T08:00\\\",\\\"2025-03-16T09:00\\\",\\\"2025-03-16T10:00\\\",\\\"2025-03-16T11:00\\\",\\\"2025-03-16T12:00\\\",\\\"2025-03-16T13:00\\\",\\\"2025-03-16T14:00\\\",\\\"2025-03-16T15:00\\\",\\\"2025-03-16T16:00\\\",\\\"2025-03-16T17:00\\\",\\\"2025-03-16T18:00\\\",\\\"2025-03-16T19:00\\\",\\\"2025-03-16T20:00\\\",\\\"2025-03-16T21:00\\\",\\\"2025-03-16T22:00\\\",\\\"2025-03-16T23:00\\\",\\\"2025-03-17T00:00\\\",\\\"2025-03-17T01:00\\\",\\\"2025-03-17T02:00\\\",\\\"2025-03-17T03:00\\\",\\\"2025-03-17T04:00\\\",\\\"2025-03-17T05:00\\\",\\\"2025-03-17T06:00\\\",\\\"2025-03-17T07:00\\\",\\\"2025-03-17T08:00\\\",\\\"2025-03-17T09:00\\\",\\\"2025-03-17T10:00\\\",\\\"2025-03-17T11:00\\\",\\\"2025-03-17T12:00\\\",\\\"2025-03-17T13:00\\\",\\\"2025-03-17T14:00\\\",\\\"2025-03-17T15:00\\\",\\\"2025-03-17T16:00\\\",\\\"2025-03-17T17:00\\\",\\\"2025-03-17T18:00\\\",\\\"2025-03-17T19:00\\\",\\\"2025-03-17T20:00\\\",\\\"2025-03-17T21:00\\\",\\\"2025-03-17T22:00\\\",\\\"2025-03-17T23:00\\\",\\\"2025-03-18T00:00\\\",\\\"2025-03-18T01:00\\\",\\\"2025-03-18T02:00\\\",\\\"2025-03-18T03:00\\\",\\\"2025-03-18T04:00\\\",\\\"2025-03-18T05:00\\\",\\\"2025-03-18T06:00\\\",\\\"2025-03-18T07:00\\\",\\\"2025-03-18T08:00\\\",\\\"2025-03-18T09:00\\\",\\\"2025-03-18T10:00\\\",\\\"2025-03-18T11:00\\\",\\\"2025-03-18T12:00\\\",\\\"2025-03-18T13:00\\\",\\\"2025-03-18T14:00\\\",\\\"2025-03-18T15:00\\\",\\\"2025-03-18T16:00\\\",\\\"2025-03-18T17:00\\\",\\\"2025-03-18T18:00\\\",\\\"2025-03-18T19:00\\\",\\\"2025-03-18T20:00\\\",\\\"2025-03-18T21:00\\\",\\\"2025-03-18T22:00\\\",\\\"2025-03-18T23:00\\\",\\\"2025-03-19T00:00\\\",\\\"2025-03-19T01:00\\\",\\\"2025-03-19T02:00\\\",\\\"2025-03-19T03:00\\\",\\\"2025-03-19T04:00\\\",\\\"2025-03-19T05:00\\\",\\\"2025-03-19T06:00\\\",\\\"2025-03-19T07:00\\\",\\\"2025-03-19T08:00\\\",\\\"2025-03-19T09:00\\\",\\\"2025-03-19T10:00\\\",\\\"2025-03-19T11:00\\\",\\\"2025-03-19T12:00\\\",\\\"2025-03-19T13:00\\\",\\\"2025-03-19T14:00\\\",\\\"2025-03-19T15:00\\\",\\\"2025-03-19T16:00\\\",\\\"2025-03-19T17:00\\\",\\\"2025-03-19T18:00\\\",\\\"2025-03-19T19:00\\\",\\\"2025-03-19T20:00\\\",\\\"2025-03-19T21:00\\\",\\\"2025-03-19T22:00\\\",\\\"2025-03-19T23:00\\\"],\\\"temperature_2m\\\":[3.1,2.8,2.5,2.4,2.4,2.6,3.1,3.1,3.0,3.9,4.3,5.3,6.0,6.9,5.8,6.4,6.7,4.8,5.1,5.1,4.6,4.0,3.3,2.9,2.3,1.9,1.5,1.3,1.1,0.9,0.8,0.8,1.4,2.6,3.8,5.6,6.9,7.6,8.2,8.5,6.6,6.2,6.1,5.3,4.8,4.2,4.2,3.7,3.1,2.5,2.1,1.8,1.5,1.7,1.8,1.6,2.1,3.6,5.4,7.1,7.5,8.2,8.4,8.5,8.5,7.8,6.6,5.5,4.6,3.8,3.2,2.7,2.3,2.1,1.8,1.4,1.2,1.1,1.2,1.6,2.4,4.1,6.0,7.1,8.1,8.7,9.0,9.1,9.1,8.4,7.8,7.5,7.2,6.8,6.1,5.3,4.7,4.4,4.2,4.0,3.4,2.8,2.7,3.2,4.2,5.2,6.2,7.4,8.3,8.9,9.3,9.3,8.7,7.7,6.8,6.1,5.6,5.2,5.0,4.9,4.6,4.1,3.5,3.0,2.5,2.2,2.3,3.1,4.4,5.6,6.5,7.3,7.9,8.9,9.4,9.6,9.3,8.8,8.2,7.6,7.0,6.5,6.0,5.6,5.2,4.9,4.6,4.4,3.9,3.4,3.5,4.4,5.9,7.6,9.7,12.0,13.7,14.7,15.1,15.0,14.4,13.3,12.1,10.8,9.4,8.3,7.7,7.3]}}\\n\\nSummarize this response to answer the original question.\\n\\nSummary:\"\n",
      "  ]\n",
      "}\n",
      "\u001b[36;1m\u001b[1;3m[llm/end]\u001b[0m \u001b[1m[llm:OpenAI] [1.48s] Exiting LLM run with output:\n",
      "\u001b[0m{\n",
      "  \"generations\": [\n",
      "    [\n",
      "      {\n",
      "        \"text\": \" The current temperature in London is 6.7 degrees Celsius. This information was obtained from the API url: https://api.open-meteo.com/v1/forecast?latitude=51.5074&longitude=0.1278&hourly=temperature_2m&current_weather=true&temperature_unit=celsius&timezone=auto.\",\n",
      "        \"generation_info\": {\n",
      "          \"finish_reason\": \"stop\",\n",
      "          \"logprobs\": null\n",
      "        },\n",
      "        \"type\": \"Generation\"\n",
      "      }\n",
      "    ]\n",
      "  ],\n",
      "  \"llm_output\": {\n",
      "    \"token_usage\": {\n",
      "      \"prompt_tokens\": 3612,\n",
      "      \"completion_tokens\": 70,\n",
      "      \"total_tokens\": 3682\n",
      "    },\n",
      "    \"model_name\": \"gpt-3.5-turbo-instruct\"\n",
      "  },\n",
      "  \"run\": null,\n",
      "  \"type\": \"LLMResult\"\n",
      "}\n"
     ]
    },
    {
     "data": {
      "text/plain": [
       "' The current temperature in London is 6.7 degrees Celsius. This information was obtained from the API url: https://api.open-meteo.com/v1/forecast?latitude=51.5074&longitude=0.1278&hourly=temperature_2m&current_weather=true&temperature_unit=celsius&timezone=auto.'"
      ]
     },
     "execution_count": 2,
     "metadata": {},
     "output_type": "execute_result"
    }
   ],
   "source": [
    "from langchain.callbacks.tracers import ConsoleCallbackHandler\n",
    "\n",
    "from langchain_openai import OpenAI\n",
    "llm = OpenAI(temperature=0, callbacks=[ConsoleCallbackHandler()])\n",
    "\n",
    "from langchain.chains.api import open_meteo_docs\n",
    "from langchain.chains import APIChain\n",
    "chain = APIChain.from_llm_and_api_docs(llm, open_meteo_docs.OPEN_METEO_DOCS, limit_to_domains=None)\n",
    "\n",
    "chain.run('What is the weather like right now in London in degrees Celcius?')"
   ]
  }
 ],
 "metadata": {
  "kernelspec": {
   "display_name": "3.11.9",
   "language": "python",
   "name": "python3"
  },
  "language_info": {
   "codemirror_mode": {
    "name": "ipython",
    "version": 3
   },
   "file_extension": ".py",
   "mimetype": "text/x-python",
   "name": "python",
   "nbconvert_exporter": "python",
   "pygments_lexer": "ipython3",
   "version": "3.11.9"
  },
  "orig_nbformat": 4
 },
 "nbformat": 4,
 "nbformat_minor": 2
}
