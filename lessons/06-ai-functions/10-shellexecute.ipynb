{
 "cells": [
  {
   "cell_type": "markdown",
   "metadata": {},
   "source": [
    "# Function calling - shell execution\n",
    "## Introduction\n",
    "Obviously we can also have OpenAI function execute shell commands."
   ]
  },
  {
   "cell_type": "markdown",
   "metadata": {},
   "source": [
    "## Installation"
   ]
  },
  {
   "cell_type": "code",
   "execution_count": 1,
   "metadata": {},
   "outputs": [
    {
     "name": "stdout",
     "output_type": "stream",
     "text": [
      "\n",
      "\u001b[1m[\u001b[0m\u001b[34;49mnotice\u001b[0m\u001b[1;39;49m]\u001b[0m\u001b[39;49m A new release of pip is available: \u001b[0m\u001b[31;49m24.0\u001b[0m\u001b[39;49m -> \u001b[0m\u001b[32;49m25.0.1\u001b[0m\n",
      "\u001b[1m[\u001b[0m\u001b[34;49mnotice\u001b[0m\u001b[1;39;49m]\u001b[0m\u001b[39;49m To update, run: \u001b[0m\u001b[32;49mpip install --upgrade pip\u001b[0m\n",
      "Note: you may need to restart the kernel to use updated packages.\n"
     ]
    }
   ],
   "source": [
    "%pip install -q openai"
   ]
  },
  {
   "cell_type": "markdown",
   "metadata": {},
   "source": [
    "## Shell functions"
   ]
  },
  {
   "cell_type": "code",
   "execution_count": 2,
   "metadata": {},
   "outputs": [],
   "source": [
    "import subprocess\n",
    "import json\n",
    "\n",
    "# Function to execute shell commands and pass the output\n",
    "# Note that if it's an error it will also pass the error.\n",
    "def execute_shell_script(script_content):\n",
    "    \"\"\"\n",
    "    Execute the given shell script content and return the output.\n",
    "    \"\"\"\n",
    "    try:\n",
    "        result = subprocess.run(['bash', '-c', script_content], \n",
    "                                capture_output=True, text=True, check=True)\n",
    "        return result.stdout\n",
    "    except subprocess.CalledProcessError as e:\n",
    "        return f\"Error: {e.stderr}\"\n",
    "\n",
    "## Helper function to return the output as json\n",
    "def run_shell_script(script_content):\n",
    "    \"\"\"\n",
    "    OpenAI function to run a shell script and return the output.\n",
    "    \"\"\"\n",
    "    output = execute_shell_script(script_content)\n",
    "    return json.dumps({\"output\": output})"
   ]
  },
  {
   "cell_type": "markdown",
   "metadata": {},
   "source": [
    "We can run the functions directly."
   ]
  },
  {
   "cell_type": "code",
   "execution_count": 3,
   "metadata": {},
   "outputs": [
    {
     "name": "stdout",
     "output_type": "stream",
     "text": [
      "\n",
      "Executing shell command directly:\n",
      "Hello from the shell!\n",
      "Thu Mar 13 11:06:08 CDT 2025\n",
      "\n",
      "\n",
      "Usage:  docker [OPTIONS] COMMAND\n",
      "\n",
      "A self-sufficient runtime for containers\n",
      "\n",
      "Common Commands:\n",
      "  run         Create and run a new container from an image\n",
      "  exec        Execute a command in a running container\n",
      "  ps          List containers\n",
      "  build       Build an image from a Dockerfile\n",
      "  pull        Download an image from a registry\n",
      "  push        Upload an image to a registry\n",
      "  images      List images\n",
      "  login       Authenticate to a registry\n",
      "  logout      Log out from a registry\n",
      "  search      Search Docker Hub for images\n",
      "  version     Show the Docker version information\n",
      "  info        Display system-wide information\n",
      "\n",
      "Management Commands:\n",
      "  ai*         Ask Gordon - Docker Agent\n",
      "  builder     Manage builds\n",
      "  buildx*     Docker Buildx\n",
      "  checkpoint  Manage checkpoints\n",
      "  compose*    Docker Compose\n",
      "  container   Manage containers\n",
      "  context     Manage contexts\n",
      "  debug*      Get a shell into any image or container\n",
      "  desktop*    Docker Desktop commands (Beta)\n",
      "  dev*        Docker Dev Environments\n",
      "  extension*  Manages Docker extensions\n",
      "  feedback*   Provide feedback, right in your terminal!\n",
      "  image       Manage images\n",
      "  init*       Creates Docker-related starter files for your project\n",
      "  manifest    Manage Docker image manifests and manifest lists\n",
      "  network     Manage networks\n",
      "  plugin      Manage plugins\n",
      "  sbom*       View the packaged-based Software Bill Of Materials (SBOM) for an image\n",
      "  scout*      Docker Scout\n",
      "  system      Manage Docker\n",
      "  trust       Manage trust on Docker images\n",
      "  volume      Manage volumes\n",
      "\n",
      "Swarm Commands:\n",
      "  config      Manage Swarm configs\n",
      "  node        Manage Swarm nodes\n",
      "  secret      Manage Swarm secrets\n",
      "  service     Manage Swarm services\n",
      "  stack       Manage Swarm stacks\n",
      "  swarm       Manage Swarm\n",
      "\n",
      "Commands:\n",
      "  attach      Attach local standard input, output, and error streams to a running container\n",
      "  commit      Create a new image from a container's changes\n",
      "  cp          Copy files/folders between a container and the local filesystem\n",
      "  create      Create a new container\n",
      "  diff        Inspect changes to files or directories on a container's filesystem\n",
      "  events      Get real time events from the server\n",
      "  export      Export a container's filesystem as a tar archive\n",
      "  history     Show the history of an image\n",
      "  import      Import the contents from a tarball to create a filesystem image\n",
      "  inspect     Return low-level information on Docker objects\n",
      "  kill        Kill one or more running containers\n",
      "  load        Load an image from a tar archive or STDIN\n",
      "  logs        Fetch the logs of a container\n",
      "  pause       Pause all processes within one or more containers\n",
      "  port        List port mappings or a specific mapping for the container\n",
      "  rename      Rename a container\n",
      "  restart     Restart one or more containers\n",
      "  rm          Remove one or more containers\n",
      "  rmi         Remove one or more images\n",
      "  save        Save one or more images to a tar archive (streamed to STDOUT by default)\n",
      "  start       Start one or more stopped containers\n",
      "  stats       Display a live stream of container(s) resource usage statistics\n",
      "  stop        Stop one or more running containers\n",
      "  tag         Create a tag TARGET_IMAGE that refers to SOURCE_IMAGE\n",
      "  top         Display the running processes of a container\n",
      "  unpause     Unpause all processes within one or more containers\n",
      "  update      Update configuration of one or more containers\n",
      "  wait        Block until one or more containers stop, then print their exit codes\n",
      "\n",
      "Global Options:\n",
      "      --config string      Location of client config files (default\n",
      "                           \"/Users/johnwillis/.docker\")\n",
      "  -c, --context string     Name of the context to use to connect to the\n",
      "                           daemon (overrides DOCKER_HOST env var and\n",
      "                           default context set with \"docker context use\")\n",
      "  -D, --debug              Enable debug mode\n",
      "  -H, --host list          Daemon socket to connect to\n",
      "  -l, --log-level string   Set the logging level (\"debug\", \"info\",\n",
      "                           \"warn\", \"error\", \"fatal\") (default \"info\")\n",
      "      --tls                Use TLS; implied by --tlsverify\n",
      "      --tlscacert string   Trust certs signed only by this CA (default\n",
      "                           \"/Users/johnwillis/.docker/ca.pem\")\n",
      "      --tlscert string     Path to TLS certificate file (default\n",
      "                           \"/Users/johnwillis/.docker/cert.pem\")\n",
      "      --tlskey string      Path to TLS key file (default\n",
      "                           \"/Users/johnwillis/.docker/key.pem\")\n",
      "      --tlsverify          Use TLS and verify the remote\n",
      "  -v, --version            Print version information and quit\n",
      "\n",
      "Run 'docker COMMAND --help' for more information on a command.\n",
      "\n",
      "For more help on how to use Docker, head to https://docs.docker.com/go/guides/\n",
      "\n"
     ]
    }
   ],
   "source": [
    "# Execute a shell command directly\n",
    "print(\"\\nExecuting shell command directly:\")\n",
    "direct_output = execute_shell_script(\"echo 'Hello from the shell!' && date\")\n",
    "print(direct_output)\n",
    "direct_output = execute_shell_script(\"docker -h\")\n",
    "print(direct_output)"
   ]
  },
  {
   "cell_type": "markdown",
   "metadata": {},
   "source": [
    "## Setting the functions for OpenAI"
   ]
  },
  {
   "cell_type": "code",
   "execution_count": 4,
   "metadata": {},
   "outputs": [],
   "source": [
    "# Define the function for OpenAI\n",
    "functions = [\n",
    "    {\n",
    "        \"name\": \"run_shell_script\",\n",
    "        \"description\": \"Execute a shell script and return the output\",\n",
    "        \"parameters\": {\n",
    "            \"type\": \"object\",\n",
    "            \"properties\": {\n",
    "                \"script_content\": {\n",
    "                    \"type\": \"string\",\n",
    "                    \"description\": \"The content of the shell script to execute\"\n",
    "                }\n",
    "            },\n",
    "            \"required\": [\"script_content\"]\n",
    "        }\n",
    "    }\n",
    "]\n",
    "\n",
    "# Example conversation\n",
    "messages = [\n",
    "    {\"role\": \"system\", \"content\": \"You are a helpful assistant that can execute shell scripts.\"},\n",
    "    {\"role\": \"user\", \"content\": \"Can you run a shell script that lists the contents of the current directory?\"}\n",
    "]"
   ]
  },
  {
   "cell_type": "code",
   "execution_count": 5,
   "metadata": {},
   "outputs": [],
   "source": [
    "from openai import OpenAI\n",
    "\n",
    "# Setup the connection\n",
    "client = OpenAI()\n",
    "\n",
    "# Get the completion from OpenAI\n",
    "response = client.chat.completions.create(\n",
    "    model=\"gpt-4o-mini\",\n",
    "    messages=messages,\n",
    "    functions=functions,\n",
    "    function_call=\"auto\"\n",
    ")"
   ]
  },
  {
   "cell_type": "code",
   "execution_count": 6,
   "metadata": {},
   "outputs": [
    {
     "name": "stdout",
     "output_type": "stream",
     "text": [
      "Running shell script with the following content:\n",
      "{'script_content': 'ls -la'}\n",
      "==============================\n",
      "Script output: {\"output\": \"total 256\\ndrwxr-xr-x@ 14 johnwillis  staff    448 Mar 13 10:07 \\u001b[34m.\\u001b[m\\u001b[m\\ndrwxr-xr-x   8 johnwillis  staff    256 Mar 13 10:07 \\u001b[34m..\\u001b[m\\u001b[m\\n-rw-r--r--@  1 johnwillis  staff   3544 Mar 13 10:08 01-simple-json.ipynb\\n-rw-r--r--@  1 johnwillis  staff  11413 Mar 13 11:00 02-pydantic-json.ipynb\\n-rw-r--r--@  1 johnwillis  staff  13266 Mar 13 10:07 03-parsing-retry.ipynb\\n-rw-r--r--@  1 johnwillis  staff   4645 Mar 13 10:07 04-openai-structured.ipynb\\n-rw-r--r--@  1 johnwillis  staff   9870 Mar 13 10:49 05-openai-function_calling.ipynb\\n-rw-r--r--@  1 johnwillis  staff   4464 Mar 13 10:07 06-langchain-function-calling.ipynb\\n-rw-r--r--@  1 johnwillis  staff  20756 Mar 13 10:07 07-apichain-openapi.ipynb\\n-rw-r--r--@  1 johnwillis  staff   4443 Mar 13 10:07 08-function-example1.ipynb\\n-rw-r--r--@  1 johnwillis  staff  13108 Mar 13 10:07 09-function-example2.ipynb\\n-rw-r--r--@  1 johnwillis  staff  12260 Mar 13 10:07 10-shellexecute.ipynb\\n-rw-r--r--@  1 johnwillis  staff   4142 Mar 13 10:07 _callbacks.py\\ndrwxr-xr-x@  3 johnwillis  staff     96 Mar 13 10:07 \\u001b[34mdata\\u001b[m\\u001b[m\\n\"}\n"
     ]
    }
   ],
   "source": [
    "# Extract the function call from the response\n",
    "message = response.choices[0].message\n",
    "\n",
    "if message.function_call:\n",
    "    function_name = message.function_call.name\n",
    "    function_args = json.loads(message.function_call.arguments)\n",
    "    \n",
    "    if function_name == 'run_shell_script':\n",
    "        # Here we're explicitly setting the script to list directory contents\n",
    "        print(\"Running shell script with the following content:\")\n",
    "        print(function_args)\n",
    "\n",
    "        # To avoid any risks, we override it here , to make it safe\n",
    "        script_content = \"ls -la\"\n",
    "        result = run_shell_script(script_content)\n",
    "        print(\"==============================\")\n",
    "        print(f\"Script output: {result}\")\n",
    "else:\n",
    "    print(message.content)"
   ]
  }
 ],
 "metadata": {
  "kernelspec": {
   "display_name": "3.11.9",
   "language": "python",
   "name": "python3"
  },
  "language_info": {
   "codemirror_mode": {
    "name": "ipython",
    "version": 3
   },
   "file_extension": ".py",
   "mimetype": "text/x-python",
   "name": "python",
   "nbconvert_exporter": "python",
   "pygments_lexer": "ipython3",
   "version": "3.11.9"
  }
 },
 "nbformat": 4,
 "nbformat_minor": 2
}
