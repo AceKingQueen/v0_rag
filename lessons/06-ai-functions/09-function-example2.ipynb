{
  "cells": [
    {
      "cell_type": "markdown",
      "id": "c2df5cf2",
      "metadata": {},
      "source": [
        "# Multiple tools with OpenAI\n",
        "## Introduction\n",
        "An example to have OpenAI use multiple tools at the same time"
      ]
    },
    {
      "cell_type": "markdown",
      "id": "71479340",
      "metadata": {},
      "source": [
        "## Installation"
      ]
    },
    {
      "cell_type": "code",
      "execution_count": 1,
      "id": "78e1d2de",
      "metadata": {},
      "outputs": [
        {
          "name": "stdout",
          "output_type": "stream",
          "text": [
            "\n",
            "\u001b[1m[\u001b[0m\u001b[34;49mnotice\u001b[0m\u001b[1;39;49m]\u001b[0m\u001b[39;49m A new release of pip is available: \u001b[0m\u001b[31;49m24.0\u001b[0m\u001b[39;49m -> \u001b[0m\u001b[32;49m25.0.1\u001b[0m\n",
            "\u001b[1m[\u001b[0m\u001b[34;49mnotice\u001b[0m\u001b[1;39;49m]\u001b[0m\u001b[39;49m To update, run: \u001b[0m\u001b[32;49mpip install --upgrade pip\u001b[0m\n",
            "Note: you may need to restart the kernel to use updated packages.\n"
          ]
        }
      ],
      "source": [
        "%pip install -q openai"
      ]
    },
    {
      "cell_type": "markdown",
      "id": "e2bdd5e8",
      "metadata": {},
      "source": [
        "## Setting up the client"
      ]
    },
    {
      "cell_type": "code",
      "execution_count": 2,
      "id": "8706728e",
      "metadata": {},
      "outputs": [],
      "source": [
        "from openai import OpenAI\n",
        "import json\n",
        "\n",
        "client = OpenAI()"
      ]
    },
    {
      "cell_type": "markdown",
      "id": "1f23384a",
      "metadata": {},
      "source": [
        "## Setting up the functions"
      ]
    },
    {
      "cell_type": "code",
      "execution_count": 3,
      "id": "69d099cc",
      "metadata": {},
      "outputs": [],
      "source": [
        "todo_list = []\n",
        "\n",
        "def get_current_weather(location, unit=\"celsius\"):\n",
        "    \"\"\"Get the current weather in a given location\"\"\"\n",
        "    # This is a mock function. In a real scenario, you'd call a weather API here.\n",
        "    weather_info = {\n",
        "        \"location\": location,\n",
        "        \"temperature\": 22,\n",
        "        \"unit\": unit,\n",
        "        \"forecast\": [\"sunny\", \"windy\"]\n",
        "    }\n",
        "    return json.dumps(weather_info)\n",
        "\n",
        "def convert_currency(amount, from_currency, to_currency):\n",
        "    \"\"\"Convert an amount from one currency to another\"\"\"\n",
        "    # This is a mock function. In a real scenario, you'd call a currency API here.\n",
        "    # Using fixed rates for demonstration\n",
        "    rates = {\"USD\": 1, \"EUR\": 0.85, \"GBP\": 0.73, \"JPY\": 110.14}\n",
        "    if from_currency not in rates or to_currency not in rates:\n",
        "        return json.dumps({\"error\": \"Unsupported currency\"})\n",
        "    converted = amount / rates[from_currency] * rates[to_currency]\n",
        "    return json.dumps({\n",
        "        \"amount\": round(converted, 2),\n",
        "        \"from\": from_currency,\n",
        "        \"to\": to_currency\n",
        "    })\n",
        "\n",
        "def manage_todo(action, item=\"\", id=None):\n",
        "    \"\"\"Manage a todo list\"\"\"\n",
        "    global todo_list\n",
        "    if action == \"add\":\n",
        "        todo_list.append({\"id\": len(todo_list) + 1, \"item\": item, \"done\": False})\n",
        "        return json.dumps({\"status\": \"added\", \"item\": item})\n",
        "    elif action == \"list\":\n",
        "        return json.dumps(todo_list)\n",
        "    elif action == \"complete\":\n",
        "        for todo in todo_list:\n",
        "            if todo[\"id\"] == id:\n",
        "                todo[\"done\"] = True\n",
        "                return json.dumps({\"status\": \"completed\", \"item\": todo[\"item\"]})\n",
        "        return json.dumps({\"error\": \"Item not found\"})\n",
        "    return json.dumps({\"error\": \"Invalid action\"})\n",
        "\n",
        "def calculate(operation, x, y):\n",
        "    \"\"\"Perform a simple calculation\"\"\"\n",
        "    operations = {\n",
        "        \"add\": lambda a, b: a + b,\n",
        "        \"subtract\": lambda a, b: a - b,\n",
        "        \"multiply\": lambda a, b: a * b,\n",
        "        \"divide\": lambda a, b: a / b if b != 0 else \"Error: Division by zero\"\n",
        "    }\n",
        "    if operation not in operations:\n",
        "        return json.dumps({\"error\": \"Unsupported operation\"})\n",
        "    result = operations[operation](x, y)\n",
        "    return json.dumps({\n",
        "        \"operation\": operation,\n",
        "        \"x\": x,\n",
        "        \"y\": y,\n",
        "        \"result\": result\n",
        "    })\n"
      ]
    },
    {
      "cell_type": "markdown",
      "id": "76081a5f",
      "metadata": {},
      "source": [
        "## Selecting the right function"
      ]
    },
    {
      "cell_type": "code",
      "execution_count": 4,
      "id": "22674885",
      "metadata": {},
      "outputs": [],
      "source": [
        "def run_conversation(user_input):\n",
        "    messages = [{\"role\": \"user\", \"content\": user_input}]\n",
        "    tools = [\n",
        "        {\n",
        "            \"type\": \"function\",\n",
        "            \"function\": {\n",
        "                \"name\": \"get_current_weather\",\n",
        "                \"description\": \"Get the current weather in a given location\",\n",
        "                \"parameters\": {\n",
        "                    \"type\": \"object\",\n",
        "                    \"properties\": {\n",
        "                        \"location\": {\"type\": \"string\", \"description\": \"The city and state, e.g. San Francisco, CA\"},\n",
        "                        \"unit\": {\"type\": \"string\", \"enum\": [\"celsius\", \"fahrenheit\"]}\n",
        "                    },\n",
        "                    \"required\": [\"location\"]\n",
        "                }\n",
        "            }\n",
        "        },\n",
        "        {\n",
        "            \"type\": \"function\",\n",
        "            \"function\": {\n",
        "                \"name\": \"convert_currency\",\n",
        "                \"description\": \"Convert an amount from one currency to another\",\n",
        "                \"parameters\": {\n",
        "                    \"type\": \"object\",\n",
        "                    \"properties\": {\n",
        "                        \"amount\": {\"type\": \"number\", \"description\": \"The amount to convert\"},\n",
        "                        \"from_currency\": {\"type\": \"string\", \"description\": \"The currency to convert from\"},\n",
        "                        \"to_currency\": {\"type\": \"string\", \"description\": \"The currency to convert to\"}\n",
        "                    },\n",
        "                    \"required\": [\"amount\", \"from_currency\", \"to_currency\"]\n",
        "                }\n",
        "            }\n",
        "        },\n",
        "        {\n",
        "            \"type\": \"function\",\n",
        "            \"function\": {\n",
        "                \"name\": \"manage_todo\",\n",
        "                \"description\": \"Manage a todo list\",\n",
        "                \"parameters\": {\n",
        "                    \"type\": \"object\",\n",
        "                    \"properties\": {\n",
        "                        \"action\": {\"type\": \"string\", \"enum\": [\"add\", \"list\", \"complete\"]},\n",
        "                        \"item\": {\"type\": \"string\", \"description\": \"The todo item to add\"},\n",
        "                        \"id\": {\"type\": \"integer\", \"description\": \"The id of the item to complete\"}\n",
        "                    },\n",
        "                    \"required\": [\"action\"]\n",
        "                }\n",
        "            }\n",
        "        },\n",
        "        {\n",
        "            \"type\": \"function\",\n",
        "            \"function\": {\n",
        "                \"name\": \"calculate\",\n",
        "                \"description\": \"Perform a simple calculation\",\n",
        "                \"parameters\": {\n",
        "                    \"type\": \"object\",\n",
        "                    \"properties\": {\n",
        "                        \"operation\": {\"type\": \"string\", \"enum\": [\"add\", \"subtract\", \"multiply\", \"divide\"]},\n",
        "                        \"x\": {\"type\": \"number\", \"description\": \"The first number\"},\n",
        "                        \"y\": {\"type\": \"number\", \"description\": \"The second number\"}\n",
        "                    },\n",
        "                    \"required\": [\"operation\", \"x\", \"y\"]\n",
        "                }\n",
        "            }\n",
        "        }\n",
        "    ]\n",
        "\n",
        "    response = client.chat.completions.create(\n",
        "        model=\"gpt-4o-mini\",\n",
        "        messages=messages,\n",
        "        tools=tools,\n",
        "        tool_choice=\"auto\"\n",
        "    )\n",
        "\n",
        "    response_message = response.choices[0].message\n",
        "\n",
        "    if response_message.tool_calls:\n",
        "        tool_call = response_message.tool_calls[0]\n",
        "        function_name = tool_call.function.name\n",
        "        function_args = json.loads(tool_call.function.arguments)\n",
        "        \n",
        "        if function_name == \"get_current_weather\":\n",
        "            function_response = get_current_weather(\n",
        "                location=function_args.get(\"location\"),\n",
        "                unit=function_args.get(\"unit\")\n",
        "            )\n",
        "        elif function_name == \"convert_currency\":\n",
        "            function_response = convert_currency(\n",
        "                amount=function_args.get(\"amount\"),\n",
        "                from_currency=function_args.get(\"from_currency\"),\n",
        "                to_currency=function_args.get(\"to_currency\")\n",
        "            )\n",
        "        elif function_name == \"manage_todo\":\n",
        "            function_response = manage_todo(\n",
        "                action=function_args.get(\"action\"),\n",
        "                item=function_args.get(\"item\"),\n",
        "                id=function_args.get(\"id\")\n",
        "            )\n",
        "        elif function_name == \"calculate\":\n",
        "            function_response = calculate(\n",
        "                operation=function_args.get(\"operation\"),\n",
        "                x=function_args.get(\"x\"),\n",
        "                y=function_args.get(\"y\")\n",
        "            )\n",
        "        \n",
        "        messages.append(response_message)\n",
        "        messages.append(\n",
        "            {\n",
        "                \"role\": \"tool\",\n",
        "                \"tool_call_id\": tool_call.id,\n",
        "                \"name\": function_name,\n",
        "                \"content\": function_response\n",
        "            }\n",
        "        )\n",
        "        \n",
        "        second_response = client.chat.completions.create(\n",
        "            model=\"gpt-4o-mini\",\n",
        "            messages=messages\n",
        "        )\n",
        "        return second_response.choices[0].message.content\n",
        "    else:\n",
        "        return response_message.content"
      ]
    },
    {
      "cell_type": "code",
      "execution_count": 5,
      "id": "9df6bce0",
      "metadata": {},
      "outputs": [
        {
          "name": "stdout",
          "output_type": "stream",
          "text": [
            "The current weather in Tokyo is 22°C and sunny, with some windy conditions.\n",
            "100 USD is approximately 85 EUR. Please note that exchange rates can fluctuate, so the actual amount may vary slightly.\n",
            "I've added \"Buy groceries\" to your todo list!\n",
            "Your to-do list currently has one item: **Buy groceries**.\n",
            "I've marked \"Buy groceries\" as complete on your todo list. If you need to do anything else, just let me know!\n",
            "15 times 7 is 105.\n"
          ]
        }
      ],
      "source": [
        "print(run_conversation(\"What's the weather like in Tokyo?\"))\n",
        "print(run_conversation(\"Convert 100 USD to EUR\"))\n",
        "print(run_conversation(\"Add 'Buy groceries' to my todo list\"))\n",
        "print(run_conversation(\"What's on my todo list?\"))\n",
        "print(run_conversation(\"Mark the first item on my todo list as complete\"))\n",
        "print(run_conversation(\"Calculate 15 times 7\"))"
      ]
    }
  ],
  "metadata": {
    "accelerator": "GPU",
    "colab": {
      "gpuType": "T4",
      "provenance": []
    },
    "kernelspec": {
      "display_name": "3.11.9",
      "language": "python",
      "name": "python3"
    },
    "language_info": {
      "codemirror_mode": {
        "name": "ipython",
        "version": 3
      },
      "file_extension": ".py",
      "mimetype": "text/x-python",
      "name": "python",
      "nbconvert_exporter": "python",
      "pygments_lexer": "ipython3",
      "version": "3.11.9"
    }
  },
  "nbformat": 4,
  "nbformat_minor": 5
}
