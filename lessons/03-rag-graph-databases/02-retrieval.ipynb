{
 "cells": [
  {
   "cell_type": "markdown",
   "id": "ec889d86-0d16-477f-8b7f-be03d73ad957",
   "metadata": {},
   "source": [
    "# Overview of embeddings-based retrieval"
   ]
  },
  {
   "cell_type": "markdown",
   "id": "58ee2f53-d88b-4f00-94a2-75a66d4149e9",
   "metadata": {},
   "source": [
    "In this lesson we'll index a PDF. We'll have the vector database calculate the embeddings and pass the information to the llm as additional information."
   ]
  },
  {
   "cell_type": "markdown",
   "id": "83262437",
   "metadata": {},
   "source": [
    "## Installation"
   ]
  },
  {
   "cell_type": "code",
   "execution_count": 4,
   "id": "baac1134",
   "metadata": {},
   "outputs": [
    {
     "name": "stdout",
     "output_type": "stream",
     "text": [
      "\n",
      "\u001b[1m[\u001b[0m\u001b[34;49mnotice\u001b[0m\u001b[1;39;49m]\u001b[0m\u001b[39;49m A new release of pip is available: \u001b[0m\u001b[31;49m24.0\u001b[0m\u001b[39;49m -> \u001b[0m\u001b[32;49m25.0.1\u001b[0m\n",
      "\u001b[1m[\u001b[0m\u001b[34;49mnotice\u001b[0m\u001b[1;39;49m]\u001b[0m\u001b[39;49m To update, run: \u001b[0m\u001b[32;49mpip install --upgrade pip\u001b[0m\n",
      "Note: you may need to restart the kernel to use updated packages.\n"
     ]
    }
   ],
   "source": [
    "%pip install -q -r requirements.txt"
   ]
  },
  {
   "cell_type": "markdown",
   "id": "8974b0c1",
   "metadata": {},
   "source": [
    "## Reading the text from a PDF\n",
    "\n",
    "You can view the pdf in your browser [here](./microsoft_annual_report_2022.pdf) if you would like. "
   ]
  },
  {
   "cell_type": "code",
   "execution_count": 5,
   "id": "3748b16d-d4a7-49c3-a48a-57dcfc42acd6",
   "metadata": {
    "height": 166
   },
   "outputs": [
    {
     "name": "stdout",
     "output_type": "stream",
     "text": [
      "1 \n",
      "Dear shareholders, colleagues, customers, and partners:  \n",
      "We are living through a period of historic economic, societal, and geopolitical change. The world in 2022 looks nothing like \n",
      "the world in 2019. As I write this, inflation is at a 40 -year high, supply chains are stretched, and the war in Ukraine is \n",
      "ongoing. At the same time, we are entering a technological era with the potential to power awesome advancements \n",
      "across every sector of our economy and society. As the world’s largest software company, this places us at a historic \n",
      "intersection of opportunity and responsibility to the world around us.  \n",
      "Our mission to empower every person and every organization on the planet to achieve more has never been more \n",
      "urgent or more necessary. For all the uncertainty in the world, one thing is clear: People and organizations in every \n",
      "industry are increasingly looking to digital technology to overcome today’s challenges and emerge stronger. And no \n",
      "company is better positioned to help them than Microsoft.  \n",
      "Every day this past fiscal year I have had the privilege to witness our customers use our platforms and tools to connect \n",
      "what technology can do with what the world needs it to do.  \n",
      "Here are just a few examples:  \n",
      "• Ferrovial, which builds and manages some of the world’s busiest airports and highways, is using our cloud \n",
      "infrastructure to build safer roads as it prepares for a future of autonomous transportation.  \n",
      "• Peace Parks Foundation, a nonprofit helping protect natural ecosystems in Southern Africa, is using Microsoft \n",
      "Dynamics 365 and Power BI to secure essential funding, as well as our Azure AI and IoT solutions to help \n",
      "rangers scale their park maintenance and wildlife crime prevention work.  \n",
      "• One of the world’s largest robotics companies, Kawasaki Heavy Industries, is using the breadth of our tools —\n",
      "from Azure IoT and HoloLens—to create an industrial metaverse solution that brings its distributed workforce \n",
      "together with its network of connected equipment to improve productivity and keep employees safe.  \n",
      "• Globo, the biggest media and TV company in Brazil, is using Power Platform to empower its employees to \n",
      "build their own solutions for everything from booking sets to setting schedules.  \n",
      "• And Ørsted, which produces a quarter of the world’s wind energy, is using the Microsoft Intelligent Data \n",
      "Platform to turn data from its offshore turbines into insights for predictive maintenance.  \n",
      "Amid this dynamic environment, we delivered record results in fiscal year 2022: We reported $198  billion in revenue and \n",
      "$83 billion in operating income. And the Microsoft Cloud surpassed $100 billion in annualized revenue for the first time.  \n",
      "OUR RESPONSIBILITY  \n",
      "As a corporation, our purpose and actions must be aligned with addressing the world’s problems, not creating new ones. \n",
      "At our very core, we need to deliver innovation that helps drive broad economic growth. We, as a company, will do well \n",
      "when the world around us does well.  \n",
      "That’s what I believe will lead to widespread human progress and ultimately improve the lives of everyone. There is no \n",
      "more powerful input than digital technology to drive the world’s economic output. This is the core thesis for our being as a \n",
      "company, but it’s not enough. As we drive global economic growth, we must also commit to creating a more inclusive, \n",
      "equitable, sustainable, and trusted future.  \n",
      "Support inclusive economic growth  \n",
      "We must ensure the growth we drive reaches every person, organization, community, and country. This starts with \n",
      "increasing access to digital skills. This year alone, more than 23  million people accessed digital skills training as part of \n",
      "our global skills initiative.\n"
     ]
    }
   ],
   "source": [
    "from pypdf import PdfReader\n",
    "\n",
    "reader = PdfReader(\"data/microsoft_annual_report_2022.pdf\")\n",
    "\n",
    "# Reading the pages and extracting the text\n",
    "pdf_texts = [p.extract_text().strip() for p in reader.pages]\n",
    "\n",
    "# Filte out the empty text strings\n",
    "pdf_texts = [text for text in pdf_texts if text]\n",
    "\n",
    "#print(word_wrap(pdf_texts[0]))\n",
    "# Print out the first piece\n",
    "print(pdf_texts[0])"
   ]
  },
  {
   "cell_type": "markdown",
   "id": "5961c22e",
   "metadata": {},
   "source": [
    "**Note: Take a look at the first page of the document**\n",
    "(pdf_texts[0] is the first page)"
   ]
  },
  {
   "cell_type": "markdown",
   "id": "4bcd493b",
   "metadata": {},
   "source": [
    "# Load Langchain text splitter tools"
   ]
  },
  {
   "cell_type": "markdown",
   "id": "6ab90347",
   "metadata": {},
   "source": [
    "### Recursive Character splitter\n",
    "Splitting text by recursively look at characters.\n",
    "\n",
    "Recursively tries to split by different characters to find one that works.\n"
   ]
  },
  {
   "cell_type": "code",
   "execution_count": 6,
   "id": "a338ec83-6301-41a5-9ab1-e5d583306a3f",
   "metadata": {
    "height": 64
   },
   "outputs": [],
   "source": [
    "from langchain.text_splitter import RecursiveCharacterTextSplitter"
   ]
  },
  {
   "cell_type": "markdown",
   "id": "81e1efc3",
   "metadata": {},
   "source": [
    "*Note: Because the way we read in the pdf via text there are no paragraphs so chunking doesn't really work* "
   ]
  },
  {
   "cell_type": "code",
   "execution_count": 7,
   "id": "888a86f8-2fe2-4682-bdaf-c15129ed1a32",
   "metadata": {
    "height": 183
   },
   "outputs": [
    {
     "name": "stdout",
     "output_type": "stream",
     "text": [
      "Chunk#=0 Chunk=1 \n",
      "Dear shareholders, colleagues, customers, and partners:  \n",
      "We are living through a period of historic economic, societal, and geopolitical change. The world in 2022 looks nothing like \n",
      "the world in 2019. As I write this, inflation is at a 40 -year high, supply chains are stretched, and the war in Ukraine is \n",
      "ongoing. At the same time, we are entering a technological era with the potential to power awesome advancements \n",
      "across every sector of our economy and society. As the world’s largest software company, this places us at a historic \n",
      "intersection of opportunity and responsibility to the world around us.  \n",
      "Our mission to empower every person and every organization on the planet to achieve more has never been more \n",
      "urgent or more necessary. For all the uncertainty in the world, one thing is clear: People and organizations in every \n",
      "industry are increasingly looking to digital technology to overcome today’s challenges and emerge stronger. And no \n",
      "\n",
      "Chunk#=1 Chunk=company is better positioned to help them than Microsoft.  \n",
      "Every day this past fiscal year I have had the privilege to witness our customers use our platforms and tools to connect \n",
      "what technology can do with what the world needs it to do.  \n",
      "Here are just a few examples:  \n",
      "• Ferrovial, which builds and manages some of the world’s busiest airports and highways, is using our cloud \n",
      "infrastructure to build safer roads as it prepares for a future of autonomous transportation.  \n",
      "• Peace Parks Foundation, a nonprofit helping protect natural ecosystems in Southern Africa, is using Microsoft \n",
      "Dynamics 365 and Power BI to secure essential funding, as well as our Azure AI and IoT solutions to help \n",
      "rangers scale their park maintenance and wildlife crime prevention work.  \n",
      "• One of the world’s largest robotics companies, Kawasaki Heavy Industries, is using the breadth of our tools —\n",
      "from Azure IoT and HoloLens—to create an industrial metaverse solution that brings its distributed workforce \n",
      "\n",
      "Chunk#=2 Chunk=together with its network of connected equipment to improve productivity and keep employees safe.  \n",
      "• Globo, the biggest media and TV company in Brazil, is using Power Platform to empower its employees to \n",
      "build their own solutions for everything from booking sets to setting schedules.  \n",
      "• And Ørsted, which produces a quarter of the world’s wind energy, is using the Microsoft Intelligent Data \n",
      "Platform to turn data from its offshore turbines into insights for predictive maintenance.  \n",
      "Amid this dynamic environment, we delivered record results in fiscal year 2022: We reported $198  billion in revenue and \n",
      "$83 billion in operating income. And the Microsoft Cloud surpassed $100 billion in annualized revenue for the first time.  \n",
      "OUR RESPONSIBILITY  \n",
      "As a corporation, our purpose and actions must be aligned with addressing the world’s problems, not creating new ones. \n",
      "At our very core, we need to deliver innovation that helps drive broad economic growth. We, as a company, will do well \n",
      "\n",
      "Chunk#=3 Chunk=when the world around us does well.  \n",
      "That’s what I believe will lead to widespread human progress and ultimately improve the lives of everyone. There is no \n",
      "more powerful input than digital technology to drive the world’s economic output. This is the core thesis for our being as a \n",
      "company, but it’s not enough. As we drive global economic growth, we must also commit to creating a more inclusive, \n",
      "equitable, sustainable, and trusted future.  \n",
      "Support inclusive economic growth  \n",
      "We must ensure the growth we drive reaches every person, organization, community, and country. This starts with \n",
      "increasing access to digital skills. This year alone, more than 23  million people accessed digital skills training as part of \n",
      "our global skills initiative. \n",
      "\n",
      "Chunk#=4 Chunk=2 \n",
      "  \n",
      "But skills alone aren’t enough —we need to help people better prepare for and connect to jobs. That’s why we’ve \n",
      "committed to equip 10 million people from underserved communities with skills for jobs in the digital economy by 2025.  \n",
      "One area of digital skills has become especially critical: cybersecurity. Cybersecurity is a significant threat for \n",
      "governments, businesses, and individuals around the world, yet there simply aren’t enough people with cybersecurity \n",
      "skills to fill open jobs.  \n",
      "To help address this, we’ve committed to skill and recruit 250,000 people into the US cybersecurity workforce by 2025 —\n",
      "especially those underrepresented in the field. And we’re helping an additional 24 countries with substantial cybersecurity \n",
      "workforce shortages close their gaps too.  \n",
      "We also continue to deliver affordable, relevant cloud technology and industry -specific solutions to nonprofit organizations \n",
      "\n",
      "\n",
      "Total chunks: 344\n"
     ]
    }
   ],
   "source": [
    "character_splitter = RecursiveCharacterTextSplitter(\n",
    "    #separators=[\"\\n\\n\", \"\\n\", \". \", \" \", \"\"],\n",
    "    chunk_size=1000,\n",
    "    chunk_overlap=0,\n",
    ")\n",
    "character_split_texts = character_splitter.split_text('\\n\\n'.join(pdf_texts))\n",
    "\n",
    "# print the first 5 chunks\n",
    "for i in range(5):\n",
    "    print(\"Chunk#=\" + str(i) + \" Chunk=\" + character_split_texts[i],\"\\n\")\n",
    "\n",
    "print(f\"\\nTotal chunks: {len(character_split_texts)}\")"
   ]
  },
  {
   "cell_type": "markdown",
   "id": "501100fb",
   "metadata": {},
   "source": [
    "\n",
    "For Example: chunk0\n",
    "\n",
    "- 960 characters\n",
    "- 155 words\n",
    "- 193 tokens\n",
    "\n",
    "[Check out the OpenAI tokenizer](https://platform.openai.com/tokenizer)\n",
    "\n"
   ]
  },
  {
   "cell_type": "markdown",
   "id": "bddb6651",
   "metadata": {},
   "source": [
    "## SentenceTransformersTokenTextSplitter\n",
    "Splitting text to tokens using sentence model tokenizer. The default model is `sentence-transformers/all-mpnet-base-v2'`"
   ]
  },
  {
   "cell_type": "code",
   "execution_count": 8,
   "id": "5665c695-22ea-4264-b1ac-5ba720b6d78b",
   "metadata": {
    "height": 166
   },
   "outputs": [
    {
     "name": "stderr",
     "output_type": "stream",
     "text": [
      "/Users/johnwillis/.pyenv/versions/3.11.9/lib/python3.11/site-packages/tqdm/auto.py:21: TqdmWarning: IProgress not found. Please update jupyter and ipywidgets. See https://ipywidgets.readthedocs.io/en/stable/user_install.html\n",
      "  from .autonotebook import tqdm as notebook_tqdm\n"
     ]
    },
    {
     "name": "stdout",
     "output_type": "stream",
     "text": [
      "Chunk#=0 Chunk= 1 dear shareholders, colleagues, customers, and partners : we are living through a period of historic economic, societal, and geopolitical change. the world in 2022 looks nothing like the world in 2019. as i write this, inflation is at a 40 - year high, supply chains are stretched, and the war in ukraine is ongoing. at the same time, we are entering a technological era with the potential to power awesome advancements across every sector of our economy and society. as the world ’ s largest software company, this places us at a historic intersection of opportunity and responsibility to the world around us. our mission to empower every person and every organization on the planet to achieve more has never been more urgent or more necessary. for all the uncertainty in the world, one thing is clear : people and organizations in every industry are increasingly looking to digital technology to overcome today ’ s challenges and emerge stronger. and no \n",
      "\n",
      "Chunk#=1 Chunk= company is better positioned to help them than microsoft. every day this past fiscal year i have had the privilege to witness our customers use our platforms and tools to connect what technology can do with what the world needs it to do. here are just a few examples : • ferrovial, which builds and manages some of the world ’ s busiest airports and highways, is using our cloud infrastructure to build safer roads as it prepares for a future of autonomous transportation. • peace parks foundation, a nonprofit helping protect natural ecosystems in southern africa, is using microsoft dynamics 365 and power bi to secure essential funding, as well as our azure ai and iot solutions to help rangers scale their park maintenance and wildlife crime prevention work. • one of the world ’ s largest robotics companies, kawasaki heavy industries, is using the breadth of our tools — from azure iot and hololens — to create an industrial metaverse solution that brings its distributed workforce \n",
      "\n",
      "Chunk#=2 Chunk= together with its network of connected equipment to improve productivity and keep employees safe. • globo, the biggest media and tv company in brazil, is using power platform to empower its employees to build their own solutions for everything from booking sets to setting schedules. • and ørsted, which produces a quarter of the world ’ s wind energy, is using the microsoft intelligent data platform to turn data from its offshore turbines into insights for predictive maintenance. amid this dynamic environment, we delivered record results in fiscal year 2022 : we reported $ 198 billion in revenue and $ 83 billion in operating income. and the microsoft cloud surpassed $ 100 billion in annualized revenue for the first time. our responsibility as a corporation, our purpose and actions must be aligned with addressing the world ’ s problems, not creating new ones. at our very core, we need to deliver innovation that helps drive broad economic growth. we, as a company, will do well \n",
      "\n",
      "Chunk#=3 Chunk= when the world around us does well. that ’ s what i believe will lead to widespread human progress and ultimately improve the lives of everyone. there is no more powerful input than digital technology to drive the world ’ s economic output. this is the core thesis for our being as a company, but it ’ s not enough. as we drive global economic growth, we must also commit to creating a more inclusive, equitable, sustainable, and trusted future. support inclusive economic growth we must ensure the growth we drive reaches every person, organization, community, and country. this starts with increasing access to digital skills. this year alone, more than 23 million people accessed digital skills training as part of our global skills initiative. \n",
      "\n",
      "Chunk#=4 Chunk= 2 but skills alone aren ’ t enough — we need to help people better prepare for and connect to jobs. that ’ s why we ’ ve committed to equip 10 million people from underserved communities with skills for jobs in the digital economy by 2025. one area of digital skills has become especially critical : cybersecurity. cybersecurity is a significant threat for governments, businesses, and individuals around the world, yet there simply aren ’ t enough people with cybersecurity skills to fill open jobs. to help address this, we ’ ve committed to skill and recruit 250, 000 people into the us cybersecurity workforce by 2025 — especially those underrepresented in the field. and we ’ re helping an additional 24 countries with substantial cybersecurity workforce shortages close their gaps too. we also continue to deliver affordable, relevant cloud technology and industry - specific solutions to nonprofit organizations \n",
      "\n",
      "\n",
      "Total chunks: 349\n"
     ]
    }
   ],
   "source": [
    "from langchain.text_splitter import SentenceTransformersTokenTextSplitter\n",
    "\n",
    "token_splitter = SentenceTransformersTokenTextSplitter(chunk_overlap=0, tokens_per_chunk=256)\n",
    "\n",
    "token_split_texts = []\n",
    "for text in character_split_texts:\n",
    "    token_split_texts += token_splitter.split_text(text)\n",
    "\n",
    "# print the first 5 chunks\n",
    "for i in range(5):\n",
    "    print(\"Chunk#=\" + str(i) + \" Chunk=\",token_split_texts[i],\"\\n\")\n",
    "print(f\"\\nTotal chunks: {len(token_split_texts)}\")"
   ]
  },
  {
   "cell_type": "markdown",
   "id": "02a79f02",
   "metadata": {},
   "source": [
    "Note: for cleanup rm -rf ~/.cache/huggingface/hub/models--sentence-transformers--a"
   ]
  },
  {
   "cell_type": "markdown",
   "id": "3eda86ee",
   "metadata": {},
   "source": [
    "## Setting up the embeddings"
   ]
  },
  {
   "cell_type": "code",
   "execution_count": 9,
   "id": "c2a13d14-4484-46f0-8e67-277337f9d138",
   "metadata": {
    "height": 115
   },
   "outputs": [
    {
     "name": "stdout",
     "output_type": "stream",
     "text": [
      "Model used for embeddings:\n",
      "{'all-MiniLM-L6-v2': SentenceTransformer(\n",
      "  (0): Transformer({'max_seq_length': 256, 'do_lower_case': False}) with Transformer model: BertModel \n",
      "  (1): Pooling({'word_embedding_dimension': 384, 'pooling_mode_cls_token': False, 'pooling_mode_mean_tokens': True, 'pooling_mode_max_tokens': False, 'pooling_mode_mean_sqrt_len_tokens': False, 'pooling_mode_weightedmean_tokens': False, 'pooling_mode_lasttoken': False, 'include_prompt': True})\n",
      "  (2): Normalize()\n",
      ")}\n"
     ]
    }
   ],
   "source": [
    "import chromadb\n",
    "from chromadb.utils.embedding_functions import SentenceTransformerEmbeddingFunction\n",
    "\n",
    "embedding_function = SentenceTransformerEmbeddingFunction()\n",
    "model = embedding_function.models\n",
    "print(\"Model used for embeddings:\")\n",
    "print(model)"
   ]
  },
  {
   "cell_type": "markdown",
   "id": "0470bd3f",
   "metadata": {},
   "source": [
    "## Calculate embedding of the first chunk"
   ]
  },
  {
   "cell_type": "code",
   "execution_count": 10,
   "id": "b666d351",
   "metadata": {},
   "outputs": [
    {
     "name": "stdout",
     "output_type": "stream",
     "text": [
      "[array([-5.13007939e-02, -1.17733087e-02,  4.94027101e-02, -7.97345638e-02,\n",
      "        1.48219615e-02, -1.70856435e-02, -3.71209905e-02,  1.02431932e-02,\n",
      "        2.94433925e-02, -1.15510272e-02, -2.93060150e-02,  5.98760024e-02,\n",
      "        4.19336706e-02,  9.10995353e-04, -2.48187600e-04,  5.57056069e-02,\n",
      "       -9.50447619e-02, -1.12392426e-01, -4.46705669e-02, -2.80091935e-03,\n",
      "       -2.43211202e-02, -1.56625286e-02, -4.96853776e-02,  1.72557365e-02,\n",
      "       -4.19295765e-02,  2.93179043e-02, -2.14536637e-02, -7.14381263e-02,\n",
      "       -3.47528681e-02,  2.16383133e-02, -1.52904131e-02,  5.06820604e-02,\n",
      "        2.92439535e-02,  4.42516655e-02,  3.54527347e-02,  2.26889979e-02,\n",
      "        6.83844984e-02, -2.03300379e-02,  1.90997757e-02, -9.92355794e-02,\n",
      "       -1.11536924e-02, -1.27988830e-01, -3.55314650e-02,  1.63593609e-02,\n",
      "        6.48760647e-02, -1.84402391e-02,  3.01106423e-02, -6.47870940e-04,\n",
      "       -6.11424632e-02,  6.25531375e-03, -1.04723796e-01, -1.23378366e-01,\n",
      "        7.17751011e-02, -4.87641208e-02, -3.53497453e-02,  4.44118530e-02,\n",
      "        8.68332908e-02, -1.28899971e-02,  5.64454310e-02, -5.07108308e-02,\n",
      "       -8.45263433e-03, -9.81617719e-02,  1.23242196e-02,  8.45775455e-02,\n",
      "        8.16561803e-02,  2.79098134e-02,  7.86491781e-02,  4.33683023e-02,\n",
      "       -9.59353447e-02,  4.15376090e-02,  1.47652859e-02, -1.65347680e-02,\n",
      "        9.35474038e-03,  4.34486289e-03, -2.46608481e-02, -8.33650678e-03,\n",
      "       -3.90431448e-03,  3.36755253e-02,  9.03051645e-02,  8.84036161e-03,\n",
      "        1.50367364e-01, -4.85957116e-02, -1.45974262e-02,  6.70003286e-03,\n",
      "       -1.74168974e-01,  6.58663735e-03,  1.47725577e-02, -2.24033487e-03,\n",
      "        2.41443552e-02, -4.36561974e-03, -6.44840226e-02,  1.21958442e-02,\n",
      "        6.97704479e-02,  7.97351003e-02, -5.42487949e-02, -4.30957275e-03,\n",
      "        3.07494658e-04, -3.29166278e-02, -1.31222075e-02,  2.77515948e-02,\n",
      "        4.99946158e-03,  8.34173858e-02,  2.75201593e-02, -1.02971740e-01,\n",
      "       -4.93787564e-02, -4.71635610e-02, -1.24862278e-02,  3.60292532e-02,\n",
      "        6.89822156e-03,  4.07543033e-03, -4.28616852e-02, -8.12385883e-03,\n",
      "       -4.22810502e-02, -8.12631473e-02, -1.73195731e-04, -4.40919586e-02,\n",
      "       -6.30724728e-02,  5.95947765e-02,  6.90768212e-02, -5.53471036e-03,\n",
      "        3.48259360e-02,  5.11186421e-02, -1.02697924e-01,  1.94666404e-02,\n",
      "        1.37082264e-02, -7.32512213e-03, -2.75925845e-02,  3.03176064e-33,\n",
      "       -1.44136976e-02,  3.58213857e-02, -2.16065487e-03,  7.01512173e-02,\n",
      "       -3.09585016e-02,  3.81929949e-02, -1.02840764e-02,  2.44087130e-02,\n",
      "       -7.15214461e-02, -3.92883830e-02, -2.95406934e-02,  4.63060848e-02,\n",
      "       -2.71681380e-02,  6.46305755e-02,  1.02637090e-01, -1.00579709e-01,\n",
      "       -2.90219784e-02,  1.66145526e-02,  9.00492594e-02,  1.62865222e-02,\n",
      "        5.35444506e-02, -3.81633118e-02, -8.79158359e-03, -1.99794769e-02,\n",
      "        3.51754315e-02, -7.33486935e-03,  2.68074102e-03,  1.33741843e-02,\n",
      "        8.14232677e-02,  1.39814420e-02,  1.28013100e-02,  5.29326079e-03,\n",
      "        1.27139343e-02, -4.23664525e-02, -4.48428579e-02, -1.82598010e-02,\n",
      "       -9.51150805e-02, -1.75474714e-02,  3.32482755e-02, -2.94609717e-03,\n",
      "       -5.73788434e-02,  5.46589456e-02, -9.31560844e-02, -5.79778291e-02,\n",
      "        7.57911280e-02,  3.13624414e-03,  1.20449200e-01,  2.06741150e-02,\n",
      "       -2.04727240e-02,  4.58004996e-02, -6.19443730e-02,  3.64261866e-02,\n",
      "       -4.14596498e-02,  2.20644604e-02,  7.13953748e-02, -7.25091323e-02,\n",
      "       -1.38803869e-02, -8.45449567e-02,  4.66997623e-02, -2.85012238e-02,\n",
      "        1.44448588e-02, -2.29203459e-02,  7.12269777e-03,  5.02038486e-02,\n",
      "       -4.51657288e-02,  5.42370565e-02,  7.35287145e-02,  5.79756685e-03,\n",
      "       -5.27839996e-02,  9.03891847e-02,  2.56568585e-02, -5.22058643e-02,\n",
      "       -4.27197665e-02, -1.31424726e-03, -3.34284306e-02,  3.85446213e-02,\n",
      "        1.32877305e-02, -6.18723705e-02,  3.14350659e-03,  1.39616411e-02,\n",
      "       -3.36217694e-02,  3.77273820e-02,  8.86723548e-02,  2.54643597e-02,\n",
      "        7.18490034e-02,  4.02712785e-02,  4.05020155e-02,  1.82754416e-02,\n",
      "       -2.61406377e-02,  8.37687328e-02, -1.14826240e-01, -4.68242057e-02,\n",
      "        8.52652732e-03,  1.05631784e-01,  2.42928509e-02, -6.36431156e-33,\n",
      "        1.89543273e-02,  1.51299161e-03,  3.95140657e-03,  6.92786230e-03,\n",
      "       -1.34927202e-02, -6.91381767e-02,  7.89454614e-04,  3.15782428e-02,\n",
      "        4.36582007e-02,  4.68626954e-02,  1.52474893e-02,  1.30041949e-02,\n",
      "        2.15988960e-02,  3.36107239e-02, -6.09072000e-02, -5.97850382e-02,\n",
      "        7.21110255e-02, -1.20707363e-01, -4.53142934e-02, -8.66036415e-02,\n",
      "        6.16143597e-03,  1.18013341e-02, -7.75575638e-02,  5.36526553e-02,\n",
      "       -2.21663825e-02,  4.15195189e-02,  4.83535752e-02, -5.18108085e-02,\n",
      "       -1.47162308e-03,  3.89325917e-02, -7.92360008e-02, -6.24137372e-02,\n",
      "        3.48858861e-03,  7.70645142e-02,  6.74908534e-02, -2.73257419e-02,\n",
      "        4.06507701e-02, -9.66148674e-02,  8.97781085e-03,  2.71135680e-02,\n",
      "        8.42599943e-03,  3.91328111e-02, -7.36812204e-02,  3.28868802e-04,\n",
      "       -2.19620708e-02,  1.43464282e-02,  2.77265906e-02, -1.16661591e-02,\n",
      "        2.29132790e-02, -5.78205697e-02,  4.60510775e-02,  2.51366533e-02,\n",
      "        3.15434076e-02, -3.35056111e-02, -2.93280296e-02, -1.01652620e-02,\n",
      "        1.90931596e-02, -1.34754432e-02, -9.46102384e-03,  2.68904073e-03,\n",
      "       -3.59796919e-02, -1.97536778e-02, -3.02089821e-03,  3.99817936e-02,\n",
      "       -1.81018244e-02, -2.57971659e-02,  4.85587604e-02,  8.14823732e-02,\n",
      "       -5.36070317e-02,  9.58667416e-03,  7.33486339e-02, -3.39852199e-02,\n",
      "       -1.64630979e-01, -4.62937653e-02, -6.49536401e-02,  3.38103659e-02,\n",
      "       -9.24417656e-03, -1.15341414e-02, -3.65950689e-02, -9.46261082e-03,\n",
      "        5.15652075e-02,  1.00538813e-01,  5.61540835e-02, -4.77122702e-03,\n",
      "        2.46484648e-03,  2.21984498e-02,  2.91178580e-02, -4.36195508e-02,\n",
      "       -1.25964627e-01, -4.84941415e-02, -1.54124066e-01, -1.06571857e-02,\n",
      "       -7.89289176e-02,  1.89867467e-02, -8.99806805e-03, -6.56141026e-08,\n",
      "       -1.81210432e-02, -3.66474986e-02,  2.42718104e-02,  2.39961371e-02,\n",
      "        2.42969822e-02, -3.25783528e-02,  5.34837618e-02,  4.23263013e-02,\n",
      "        2.56362390e-02,  5.49107045e-02,  2.98086628e-02, -5.17808944e-02,\n",
      "       -1.19360266e-02,  5.99443875e-02,  4.81324680e-02,  6.66619912e-02,\n",
      "       -9.30770114e-02,  1.03859873e-02, -5.34520932e-02, -2.19316892e-02,\n",
      "        6.25119358e-02,  2.11280435e-02,  2.87192110e-02, -5.27607277e-02,\n",
      "       -9.42792092e-03, -3.48429398e-06, -4.95042512e-03,  9.60796233e-03,\n",
      "       -1.48257008e-03,  2.60940217e-03, -4.92538288e-02, -4.84931655e-02,\n",
      "       -4.54809889e-02, -3.73727046e-02, -5.17127514e-02, -7.44581223e-02,\n",
      "        2.53092907e-02,  3.78965363e-02,  2.09062826e-02, -4.67990190e-02,\n",
      "       -3.38318273e-02,  3.37936059e-02, -1.15209790e-02,  4.30305712e-02,\n",
      "       -1.88413039e-02, -1.39827490e-01, -5.61245494e-02,  3.02731302e-02,\n",
      "       -1.71813983e-02, -2.42225789e-02, -6.00567386e-02,  3.80964926e-03,\n",
      "        1.49617791e-02,  7.09522814e-02,  4.53465842e-02, -1.24264453e-02,\n",
      "       -2.88146827e-02,  5.87038957e-02, -8.98574367e-02,  9.53329131e-02,\n",
      "        7.63507187e-02, -1.25161052e-01, -3.35461907e-02,  2.57177185e-02],\n",
      "      dtype=float32)]\n"
     ]
    }
   ],
   "source": [
    "embedding = embedding_function([token_split_texts[0]])\n",
    "print(embedding)"
   ]
  },
  {
   "cell_type": "markdown",
   "id": "f7f6c236",
   "metadata": {},
   "source": [
    "## Setting up the ChromaDB vector database\n",
    "\n",
    "Note: Beware of similarity metrics."
   ]
  },
  {
   "cell_type": "code",
   "execution_count": 11,
   "id": "8ba6c8c5-9ce4-44d0-9223-6fdd77871f87",
   "metadata": {
    "height": 149
   },
   "outputs": [],
   "source": [
    "#chroma_client = chromadb.Client()\n",
    "#chroma_client = chromadb.Client(persist_directory=\"../data/chroma_db/\")\n",
    "from chromadb.config import DEFAULT_TENANT, DEFAULT_DATABASE, Settings\n",
    "\n",
    "chroma_client = chromadb.PersistentClient(\n",
    "    path=\"data/chroma_db/\",\n",
    "    settings=Settings(),\n",
    "    tenant=DEFAULT_TENANT,\n",
    "    database=DEFAULT_DATABASE,\n",
    ")\n",
    "\n",
    "COLLECTION_NAME = \"microsoft_annual_report_2022\"\n",
    "\n",
    "# Removing any existing collection\n",
    "#collection = chroma_client.get_collection(COLLECTION_NAME)\n",
    "#if (collection):\n",
    "#chroma_client.delete_collection(COLLECTION_NAME)\n",
    "\n",
    "# The default is Euclidean distance\n",
    "\n",
    "#chroma_collection = chroma_client.create_collection(COLLECTION_NAME, embedding_function=embedding_function)\n",
    "\n",
    "# The use metadata for cosine\n",
    "\n",
    "chroma_collection = chroma_client.create_collection(COLLECTION_NAME, embedding_function=embedding_function,metadata={\"hnsw:space\": \"cosine\"})\n"
   ]
  },
  {
   "cell_type": "markdown",
   "id": "e18f4611",
   "metadata": {},
   "source": [
    "## Index all chunks in the vector database"
   ]
  },
  {
   "cell_type": "code",
   "execution_count": 12,
   "id": "13daebc6",
   "metadata": {},
   "outputs": [
    {
     "data": {
      "text/plain": [
       "349"
      ]
     },
     "execution_count": 12,
     "metadata": {},
     "output_type": "execute_result"
    }
   ],
   "source": [
    "ids = [str(i) for i in range(len(token_split_texts))]\n",
    "\n",
    "chroma_collection.add(ids=ids, documents=token_split_texts)\n",
    "\n",
    "# Print the number of documents indexed\n",
    "chroma_collection.count()"
   ]
  },
  {
   "cell_type": "markdown",
   "id": "ce5b550a",
   "metadata": {},
   "source": [
    "## Helper function to print the results our vector search"
   ]
  },
  {
   "cell_type": "code",
   "execution_count": 13,
   "id": "448ade64",
   "metadata": {},
   "outputs": [],
   "source": [
    "def print_results_and_documents(results, retrieved_documents, word_wrap):\n",
    "    \"\"\"\n",
    "    Prints keys and values from the results dictionary and documents with word wrapping.\n",
    "\n",
    "    Args:\n",
    "        results (dict): A dictionary where keys are strings and values are either strings or lists.\n",
    "        retrieved_documents (list): A list of documents to be printed.\n",
    "        word_wrap (function): A function to apply word wrapping to the documents.\n",
    "\n",
    "    Returns:\n",
    "        None\n",
    "    \"\"\"\n",
    "    # Iterate through the dictionary and print each key with its associated value\n",
    "    for key, value in results.items():\n",
    "        print(f\"{key}:\")\n",
    "\n",
    "        # Check if the value is a list and print its elements\n",
    "        if isinstance(value, list):\n",
    "            for i, item in enumerate(value):\n",
    "                print(f\"  Item {i+1}: {item}\")\n",
    "        else:\n",
    "            # Directly print the value if it's not a list\n",
    "            print(f\"  {value}\")\n",
    "\n",
    "        print()  # Add a newline for better readability\n",
    "\n",
    "    # Iterate through the list of documents and print each one with word wrapping\n",
    "    for document in retrieved_documents:\n",
    "        print(word_wrap(document))\n",
    "        print('\\n')"
   ]
  },
  {
   "cell_type": "markdown",
   "id": "ab9f0a8b",
   "metadata": {},
   "source": [
    "## Searching the vector database"
   ]
  },
  {
   "cell_type": "code",
   "execution_count": 14,
   "id": "bfdb54db-a442-423c-b006-c33a257cd7d7",
   "metadata": {
    "height": 149
   },
   "outputs": [
    {
     "name": "stdout",
     "output_type": "stream",
     "text": [
      "ids:\n",
      "  Item 1: ['293', '331', '319', '194', '320']\n",
      "\n",
      "embeddings:\n",
      "  Item 1: [[-0.03879594 -0.00056903 -0.00237735 ... -0.09649955 -0.03808513\n",
      "  -0.07317519]\n",
      " [ 0.00312779  0.01599092 -0.0443514  ... -0.06616331  0.02492891\n",
      "  -0.01841382]\n",
      " [ 0.01663858 -0.05533892  0.0223398  ... -0.09261022 -0.02912271\n",
      "  -0.03096254]\n",
      " [-0.00725529 -0.00870073  0.02653533 ... -0.08715806 -0.03856301\n",
      "  -0.07218203]\n",
      " [ 0.052216   -0.03315055  0.03330245 ... -0.07793505 -0.00250688\n",
      "  -0.02969674]]\n",
      "\n",
      "documents:\n",
      "  Item 1: ['74 note 13 — unearned revenue unearned revenue by segment was as follows : ( in millions ) june 30, 2022 2021 productivity and business processes $ 24, 558 $ 22, 120 intelligent cloud 19, 371 17, 710 more personal computing 4, 479 4, 311 total $ 48, 408 $ 44, 141 changes in unearned revenue were as follows : ( in millions ) year ended june 30, 2022 balance, beginning of period $ 44, 141 deferral of revenue 110, 455 recognition of unearned revenue ( 106, 188 ) balance, end of period $ 48, 408 revenue allocated to remaining performance obligations, which includes unearned revenue and amounts that will be invoiced and recognized as revenue in future periods, was $ 193 billion as of june 30, 2022, of which $ 189 billion is related to the commercial portion of revenue. we expect to recognize approximately 45 % of this revenue over the next 12 months and the remainder thereafter. note 14 — leases', 'that are not sold separately. • we tested the mathematical accuracy of management ’ s calculations of revenue and the associated timing of revenue recognized in the financial statements.', '82 in addition, certain costs incurred at a corporate level that are identifiable and that benefit our segments are allocated to them. these allocated costs include legal, including settlements and fines, information technology, human resources, finance, excise taxes, field selling, shared facilities services, and customer service and support. each allocation is measured differently based on the specific facts and circumstances of the costs being allocated. segment revenue and operating income were as follows during the periods presented : ( in millions ) year ended june 30, 2022 2021 2020 revenue productivity and business processes $ 63, 364 $ 53, 915 $ 46, 398 intelligent cloud 75, 251 60, 080 48, 366 more personal computing 59, 655 54, 093 48, 251 total $ 198, 270 $ 168, 088 $ 143, 015 operating income productivity and business processes $ 29, 687 $ 24, 351 $ 18, 724', '47 financial statements and supplementary data income statements ( in millions, except per share amounts ) year ended june 30, 2022 2021 2020 revenue : product $ 72, 732 $ 71, 074 $ 68, 041 service and other 125, 538 97, 014 74, 974 total revenue 198, 270 168, 088 143, 015 cost of revenue : product 19, 064 18, 219 16, 017 service and other 43, 586 34, 013 30, 061 total cost of revenue 62, 650 52, 232 46, 078 gross margin 135, 620 115, 856 96, 937 research and development 24, 512 20, 716 19, 269 sales and marketing 21, 825 20, 117 19, 598 general and administrative 5, 900 5, 107 5, 111 operating income 83, 383 69, 916 52, 959 other income, net 333 1, 186 77 income before income taxes 83, 716 71, 102 53, 036 provision for income taxes 10, 978 9, 831 8, 755 net income $ 72, 738 $ 61, 271 $ 44, 281', 'intelligent cloud 32, 721 26, 126 18, 324 more personal computing 20, 975 19, 439 15, 911 total $ 83, 383 $ 69, 916 $ 52, 959 no sales to an individual customer or country other than the united states accounted for more than 10 % of revenue for fiscal years 2022, 2021, or 2020. revenue, classified by the major geographic areas in which our customers were located, was as follows : ( in millions ) year ended june 30, 2022 2021 2020 united states ( a ) $ 100, 218 $ 83, 953 $ 73, 160 other countries 98, 052 84, 135 69, 855 total $ 198, 270 $ 168, 088 $ 143, 015 ( a ) includes billings to oems and certain multinational organizations because of the nature of these businesses and the impracticability of determining the geographic source of the revenue. revenue, classified by significant product and service offerings, was as follows : ( in millions ) year ended june 30, 2022 2021 2020']\n",
      "\n",
      "uris:\n",
      "  None\n",
      "\n",
      "data:\n",
      "  None\n",
      "\n",
      "metadatas:\n",
      "  None\n",
      "\n",
      "distances:\n",
      "  Item 1: [0.4293467402458191, 0.4562008571324251, 0.46365521696495504, 0.466378390789032, 0.46648226661844816]\n",
      "\n",
      "included:\n",
      "  Item 1: IncludeEnum.embeddings\n",
      "  Item 2: IncludeEnum.distances\n",
      "  Item 3: IncludeEnum.documents\n",
      "\n",
      "74 note 13 — unearned revenue unearned revenue by segment was as\n",
      "follows : ( in millions ) june 30, 2022 2021 productivity and business\n",
      "processes $ 24, 558 $ 22, 120 intelligent cloud 19, 371 17, 710 more\n",
      "personal computing 4, 479 4, 311 total $ 48, 408 $ 44, 141 changes in\n",
      "unearned revenue were as follows : ( in millions ) year ended june 30,\n",
      "2022 balance, beginning of period $ 44, 141 deferral of revenue 110,\n",
      "455 recognition of unearned revenue ( 106, 188 ) balance, end of period\n",
      "$ 48, 408 revenue allocated to remaining performance obligations, which\n",
      "includes unearned revenue and amounts that will be invoiced and\n",
      "recognized as revenue in future periods, was $ 193 billion as of june\n",
      "30, 2022, of which $ 189 billion is related to the commercial portion\n",
      "of revenue. we expect to recognize approximately 45 % of this revenue\n",
      "over the next 12 months and the remainder thereafter. note 14 — leases\n",
      "\n",
      "\n",
      "that are not sold separately. • we tested the mathematical accuracy of\n",
      "management ’ s calculations of revenue and the associated timing of\n",
      "revenue recognized in the financial statements.\n",
      "\n",
      "\n",
      "82 in addition, certain costs incurred at a corporate level that are\n",
      "identifiable and that benefit our segments are allocated to them. these\n",
      "allocated costs include legal, including settlements and fines,\n",
      "information technology, human resources, finance, excise taxes, field\n",
      "selling, shared facilities services, and customer service and support.\n",
      "each allocation is measured differently based on the specific facts and\n",
      "circumstances of the costs being allocated. segment revenue and\n",
      "operating income were as follows during the periods presented : ( in\n",
      "millions ) year ended june 30, 2022 2021 2020 revenue productivity and\n",
      "business processes $ 63, 364 $ 53, 915 $ 46, 398 intelligent cloud 75,\n",
      "251 60, 080 48, 366 more personal computing 59, 655 54, 093 48, 251\n",
      "total $ 198, 270 $ 168, 088 $ 143, 015 operating income productivity\n",
      "and business processes $ 29, 687 $ 24, 351 $ 18, 724\n",
      "\n",
      "\n",
      "47 financial statements and supplementary data income statements ( in\n",
      "millions, except per share amounts ) year ended june 30, 2022 2021 2020\n",
      "revenue : product $ 72, 732 $ 71, 074 $ 68, 041 service and other 125,\n",
      "538 97, 014 74, 974 total revenue 198, 270 168, 088 143, 015 cost of\n",
      "revenue : product 19, 064 18, 219 16, 017 service and other 43, 586 34,\n",
      "013 30, 061 total cost of revenue 62, 650 52, 232 46, 078 gross margin\n",
      "135, 620 115, 856 96, 937 research and development 24, 512 20, 716 19,\n",
      "269 sales and marketing 21, 825 20, 117 19, 598 general and\n",
      "administrative 5, 900 5, 107 5, 111 operating income 83, 383 69, 916\n",
      "52, 959 other income, net 333 1, 186 77 income before income taxes 83,\n",
      "716 71, 102 53, 036 provision for income taxes 10, 978 9, 831 8, 755\n",
      "net income $ 72, 738 $ 61, 271 $ 44, 281\n",
      "\n",
      "\n",
      "intelligent cloud 32, 721 26, 126 18, 324 more personal computing 20,\n",
      "975 19, 439 15, 911 total $ 83, 383 $ 69, 916 $ 52, 959 no sales to an\n",
      "individual customer or country other than the united states accounted\n",
      "for more than 10 % of revenue for fiscal years 2022, 2021, or 2020.\n",
      "revenue, classified by the major geographic areas in which our\n",
      "customers were located, was as follows : ( in millions ) year ended\n",
      "june 30, 2022 2021 2020 united states ( a ) $ 100, 218 $ 83, 953 $ 73,\n",
      "160 other countries 98, 052 84, 135 69, 855 total $ 198, 270 $ 168, 088\n",
      "$ 143, 015 ( a ) includes billings to oems and certain multinational\n",
      "organizations because of the nature of these businesses and the\n",
      "impracticability of determining the geographic source of the revenue.\n",
      "revenue, classified by significant product and service offerings, was\n",
      "as follows : ( in millions ) year ended june 30, 2022 2021 2020\n",
      "\n",
      "\n"
     ]
    }
   ],
   "source": [
    "query = \"What was the total revenue?\"\n",
    "\n",
    "results = chroma_collection.query(query_texts=query,\n",
    "                                   n_results=5, \n",
    "                                   include=['documents', 'embeddings', \"distances\"])\n",
    "\n",
    "retrieved_documents = results['documents'][0]\n",
    "\n",
    "from helper_utils import word_wrap\n",
    "print_results_and_documents(results, retrieved_documents, word_wrap)"
   ]
  },
  {
   "cell_type": "markdown",
   "id": "6d3bb32a",
   "metadata": {},
   "source": [
    "**Questions for understanding:**\n",
    "- what are the chromadb query output fields\n",
    "- how does a chromadb query find the documents\n",
    "- Can you explain how the similarity search works\n"
   ]
  },
  {
   "cell_type": "markdown",
   "id": "dd342cad",
   "metadata": {},
   "source": [
    "## Using the RAG documents in the LLM prompt"
   ]
  },
  {
   "cell_type": "markdown",
   "id": "c00e6e9b",
   "metadata": {},
   "source": [
    "### Setting up the LLM\n"
   ]
  },
  {
   "cell_type": "code",
   "execution_count": 14,
   "id": "fa87e46e",
   "metadata": {},
   "outputs": [],
   "source": [
    "from openai import OpenAI\n",
    "openai_client = OpenAI()"
   ]
  },
  {
   "cell_type": "markdown",
   "id": "ef444be4",
   "metadata": {},
   "source": [
    "## Mixing the retrieved documents in the prompt"
   ]
  },
  {
   "cell_type": "code",
   "execution_count": 39,
   "id": "ba0ed8ca-6640-4c09-9cb3-9de5e7cf46dc",
   "metadata": {
    "height": 336
   },
   "outputs": [],
   "source": [
    "def rag(query, retrieved_documents, model=\"gpt-4o\"):\n",
    "    information = \"\\n\\n\".join(retrieved_documents)\n",
    "\n",
    "    messages = [\n",
    "        {\n",
    "            \"role\": \"system\",\n",
    "            \"content\": \"You are a helpful expert financial research assistant. Your users are asking questions about information contained in an annual report.\"\n",
    "            \"You will be shown the user's question, and the relevant information from the annual report. Answer the user's question using only this information.\"\n",
    "        },\n",
    "        {\"role\": \"user\", \"content\": f\"Question: {query}. \\n Information: {information}\"}\n",
    "    ]\n",
    "    \n",
    "    response = openai_client.chat.completions.create(\n",
    "        model=model,\n",
    "        messages=messages,\n",
    "    )\n",
    "    content = response.choices[0].message.content\n",
    "    return content"
   ]
  },
  {
   "cell_type": "code",
   "execution_count": 40,
   "id": "28bac3a2-0d29-48dc-9b48-2d9313239a25",
   "metadata": {
    "height": 64
   },
   "outputs": [],
   "source": [
    "output = rag(query=query, retrieved_documents=retrieved_documents)"
   ]
  },
  {
   "cell_type": "code",
   "execution_count": 41,
   "id": "7eca02f0",
   "metadata": {},
   "outputs": [
    {
     "name": "stdout",
     "output_type": "stream",
     "text": [
      "The total revenue for the year ended June 30, 2022, was $198,270\n",
      "million.\n"
     ]
    }
   ],
   "source": [
    "print(word_wrap(output))"
   ]
  }
 ],
 "metadata": {
  "kernelspec": {
   "display_name": "3.11.9",
   "language": "python",
   "name": "python3"
  },
  "language_info": {
   "codemirror_mode": {
    "name": "ipython",
    "version": 3
   },
   "file_extension": ".py",
   "mimetype": "text/x-python",
   "name": "python",
   "nbconvert_exporter": "python",
   "pygments_lexer": "ipython3",
   "version": "3.11.9"
  }
 },
 "nbformat": 4,
 "nbformat_minor": 5
}
