{
 "cells": [
  {
   "cell_type": "markdown",
   "id": "f057401b-a4ee-462a-9ba9-3e342e06eb1a",
   "metadata": {},
   "source": [
    "# Cross-encoder re-ranking"
   ]
  },
  {
   "cell_type": "markdown",
   "id": "ebe523b2",
   "metadata": {},
   "source": [
    "The basic idea is that we want to score the results from the retrived results (i.e., the vector database.) This way instead of just taking the bi-encoders probaility of the best results from the document, we can use the cross-encoder to check the similarity score against each retrieved chunk. Therefore we rerank the results we ultimitl want to send the LLM. \n",
    "\n",
    "Note: Cross-encoders are light weight."
   ]
  },
  {
   "cell_type": "markdown",
   "id": "0c57cac2",
   "metadata": {},
   "source": [
    "## Installation"
   ]
  },
  {
   "cell_type": "code",
   "execution_count": 19,
   "id": "04b6ff45",
   "metadata": {},
   "outputs": [
    {
     "name": "stderr",
     "output_type": "stream",
     "text": [
      "huggingface/tokenizers: The current process just got forked, after parallelism has already been used. Disabling parallelism to avoid deadlocks...\n",
      "To disable this warning, you can either:\n",
      "\t- Avoid using `tokenizers` before the fork if possible\n",
      "\t- Explicitly set the environment variable TOKENIZERS_PARALLELISM=(true | false)\n"
     ]
    },
    {
     "name": "stdout",
     "output_type": "stream",
     "text": [
      "\n",
      "\u001b[1m[\u001b[0m\u001b[34;49mnotice\u001b[0m\u001b[1;39;49m]\u001b[0m\u001b[39;49m A new release of pip is available: \u001b[0m\u001b[31;49m24.0\u001b[0m\u001b[39;49m -> \u001b[0m\u001b[32;49m25.0.1\u001b[0m\n",
      "\u001b[1m[\u001b[0m\u001b[34;49mnotice\u001b[0m\u001b[1;39;49m]\u001b[0m\u001b[39;49m To update, run: \u001b[0m\u001b[32;49mpip install --upgrade pip\u001b[0m\n",
      "Note: you may need to restart the kernel to use updated packages.\n"
     ]
    }
   ],
   "source": [
    "%pip install -q -r requirements.txt"
   ]
  },
  {
   "cell_type": "markdown",
   "id": "ab32bb35",
   "metadata": {},
   "source": [
    "## Connecting to the vector database"
   ]
  },
  {
   "cell_type": "code",
   "execution_count": 20,
   "id": "c11949c6",
   "metadata": {},
   "outputs": [],
   "source": [
    "import chromadb\n",
    "from helper_utils import load_chroma, word_wrap, project_embeddings\n",
    "from chromadb.utils.embedding_functions import SentenceTransformerEmbeddingFunction\n",
    "from chromadb.config import DEFAULT_TENANT, DEFAULT_DATABASE, Settings\n",
    "import numpy as np"
   ]
  },
  {
   "cell_type": "code",
   "execution_count": 21,
   "id": "3748b16d-d4a7-49c3-a48a-57dcfc42acd6",
   "metadata": {
    "height": 98
   },
   "outputs": [
    {
     "name": "stdout",
     "output_type": "stream",
     "text": [
      "Number of items in the collection 'microsoft_annual_report_2022': 349\n"
     ]
    }
   ],
   "source": [
    "chroma_client = chromadb.PersistentClient(\n",
    "    path=\"data/chroma_db/\",\n",
    "    settings=Settings(),\n",
    "    tenant=DEFAULT_TENANT,\n",
    "    database=DEFAULT_DATABASE,\n",
    ")\n",
    "# Load the existing collection by its name\n",
    "collection_name = 'microsoft_annual_report_2022'\n",
    "chroma_collection = chroma_client.get_or_create_collection(name=collection_name)\n",
    "\n",
    "# Count the number of items in the collection\n",
    "count = chroma_collection.count()\n",
    "print(f\"Number of items in the collection '{collection_name}': {count}\")"
   ]
  },
  {
   "cell_type": "markdown",
   "id": "0f4037ce",
   "metadata": {},
   "source": [
    "## Setup the embedding function"
   ]
  },
  {
   "cell_type": "code",
   "execution_count": 22,
   "id": "fae1f29a",
   "metadata": {},
   "outputs": [
    {
     "name": "stdout",
     "output_type": "stream",
     "text": [
      "{'all-MiniLM-L6-v2': SentenceTransformer(\n",
      "  (0): Transformer({'max_seq_length': 256, 'do_lower_case': False}) with Transformer model: BertModel \n",
      "  (1): Pooling({'word_embedding_dimension': 384, 'pooling_mode_cls_token': False, 'pooling_mode_mean_tokens': True, 'pooling_mode_max_tokens': False, 'pooling_mode_mean_sqrt_len_tokens': False, 'pooling_mode_weightedmean_tokens': False, 'pooling_mode_lasttoken': False, 'include_prompt': True})\n",
      "  (2): Normalize()\n",
      ")}\n"
     ]
    }
   ],
   "source": [
    "# Access the underlying SentenceTransformer model (Defaults)\n",
    "embedding_function = SentenceTransformerEmbeddingFunction()\n",
    "model = embedding_function.models\n",
    "print(model)"
   ]
  },
  {
   "cell_type": "markdown",
   "id": "4ca292fe",
   "metadata": {},
   "source": [
    "## Helper to print the retrieved results"
   ]
  },
  {
   "cell_type": "code",
   "execution_count": 24,
   "id": "088e0a0b",
   "metadata": {},
   "outputs": [],
   "source": [
    "def print_results_and_documents(results, retrieved_documents, word_wrap):\n",
    "    \"\"\"\n",
    "    Prints keys and values from the results dictionary and documents with word wrapping.\n",
    "\n",
    "    Args:\n",
    "        results (dict): A dictionary where keys are strings and values are either strings or lists.\n",
    "        retrieved_documents (list): A list of documents to be printed.\n",
    "        word_wrap (function): A function to apply word wrapping to the documents.\n",
    "\n",
    "    Returns:\n",
    "        None\n",
    "    \"\"\"\n",
    "    # Iterate through the dictionary and print each key with its associated value\n",
    "    for key, value in results.items():\n",
    "        print(f\"{key}:\")\n",
    "\n",
    "        # Check if the value is a list and print its elements\n",
    "        if isinstance(value, list):\n",
    "            for i, item in enumerate(value):\n",
    "                print(f\"  Item {i+1}: {item}\")\n",
    "        else:\n",
    "            # Directly print the value if it's not a list\n",
    "            print(f\"  {value}\")\n",
    "\n",
    "        print()  # Add a newline for better readability\n",
    "\n",
    "    # Iterate through the list of documents and print each one with word wrapping\n",
    "    #for document in retrieved_documents:\n",
    "    #    print(word_wrap(document))\n",
    "    #    print('\\n')"
   ]
  },
  {
   "cell_type": "markdown",
   "id": "68486bf8-37dd-4257-a23b-9ef50c47bcc5",
   "metadata": {},
   "source": [
    "## Retrieving the results"
   ]
  },
  {
   "cell_type": "code",
   "execution_count": 66,
   "id": "888a86f8-2fe2-4682-bdaf-c15129ed1a32",
   "metadata": {
    "height": 166
   },
   "outputs": [],
   "source": [
    "query = \"What has been the investment in research and development?\"\n",
    "\n",
    "results = chroma_collection.query(query_texts=query,\n",
    "                                   n_results=10, \n",
    "                                   include=['documents', 'embeddings', \"distances\"])\n",
    "\n",
    "retrieved_documents = results['documents'][0]\n",
    "#print_results_and_documents(results, retrieved_documents, word_wrap)\n",
    "\n",
    "#for document in results['documents'][0]:\n",
    "#    print(word_wrap(document))\n",
    "#    print('')"
   ]
  },
  {
   "cell_type": "markdown",
   "id": "5bb9d1f8",
   "metadata": {},
   "source": [
    "Note:   \n",
    "What were doing is asking for more results (10) so instead of just getting nearest neighbors we are getting a long tail."
   ]
  },
  {
   "cell_type": "markdown",
   "id": "c72c294c",
   "metadata": {},
   "source": [
    "## Setting up a cross_encoder\n",
    "\n",
    "Sentence encoders are made up of two kinds of models (bi-encoders and cross-encoders)   \n",
    "  \n",
    "bi-encoders give us similaries (Euclidean and Cosine)   (e,g, all-MiniLM-L6-v2)   \n",
    ">  bi-encoders do a nearest neighbor with the query against all the documents  \n",
    ">  The query and the document (vector database) embedding are callcuated independantly  \n",
    "\n",
    "Note: This is basically what you use in the classic RAG model. We query the vector database and specify n_results (how many chunks/documents we want back) based on the similarity score (i.e., highest to lowest). This is done agains the whole vector datbase.\n",
    "\n",
    "cross-encoders give us a score via a classifier  (e.g, ms-marco-MiniLM-L-6-v2)        \n",
    ">  cross-encoders compare the query to each document and return a score. In otherwords the query and the chunk are compared individualy (not the shole vector datbase). Each comparison returns a similarity metric.  \n",
    ">  The query and chunck embeddings are calculated at the same time.    \n",
    ">  The default for cross-encoders is cosine simialrity\n",
    ">  The the list of similarity cores can be sorted based on distance to use as the new retrieval list to pass to the LLM.    \n",
    "\n",
    "Note: This is basically what you use to rerank."
   ]
  },
  {
   "cell_type": "markdown",
   "id": "8cd8d428",
   "metadata": {},
   "source": [
    "<https://huggingface.co/cross-encoder/ms-marco-MiniLM-L-6-v2>"
   ]
  },
  {
   "cell_type": "code",
   "execution_count": 67,
   "id": "5665c695-22ea-4264-b1ac-5ba720b6d78b",
   "metadata": {
    "height": 47
   },
   "outputs": [],
   "source": [
    "from sentence_transformers import CrossEncoder\n",
    "cross_encoder = CrossEncoder('cross-encoder/ms-marco-MiniLM-L-6-v2')"
   ]
  },
  {
   "cell_type": "markdown",
   "id": "90e6f4ba",
   "metadata": {},
   "source": [
    "## Calculating the scores\n",
    "\n",
    "Note: In this example the scores come back unsorted.\n",
    "\n",
    "Also notice the encoder returns unbounded ranges and is not normilized (0 to 1). Beware of of simlarity scores. "
   ]
  },
  {
   "cell_type": "code",
   "execution_count": 68,
   "id": "c2a13d14-4484-46f0-8e67-277337f9d138",
   "metadata": {
    "height": 98
   },
   "outputs": [
    {
     "name": "stdout",
     "output_type": "stream",
     "text": [
      "Scores:\n",
      "0.8762942\n",
      "2.6445775\n",
      "-0.2680337\n",
      "-10.731592\n",
      "-7.706603\n",
      "-5.6469946\n",
      "-4.2970343\n",
      "-10.933231\n",
      "-8.666394\n",
      "-7.038426\n"
     ]
    }
   ],
   "source": [
    "pairs = [[query, doc] for doc in retrieved_documents]\n",
    "scores = cross_encoder.predict(pairs)\n",
    "print(\"Scores:\")\n",
    "for score in scores:\n",
    "    print(score)"
   ]
  },
  {
   "cell_type": "markdown",
   "id": "0ce2d47c",
   "metadata": {},
   "source": [
    "In this example chunk#2 is the most similar with 2.64. #3 is 2 and #3 is 3. #7 is next. In fact after the first 3 the rest are probaly distractors.\n",
    "\n",
    "Note: When you use corss-encoders you tend to ask for more n_results (in this example 10). This is becuase after you sort the socres you will only pass back the most similar chunks to the LLM."
   ]
  },
  {
   "cell_type": "markdown",
   "id": "a5ae10b4",
   "metadata": {},
   "source": [
    "## Re-ranking the results based on the scores"
   ]
  },
  {
   "cell_type": "code",
   "execution_count": 74,
   "id": "c1cc09ea",
   "metadata": {},
   "outputs": [
    {
     "name": "stdout",
     "output_type": "stream",
     "text": [
      "New Chunk Ordering:\n",
      "Chunk 1 with score: 2.6445775032043457\n",
      "Chunk 2 with score: 0.8762941956520081\n",
      "Chunk 3 with score: -0.2680337131023407\n",
      "Chunk 4 with score: -4.29703426361084\n",
      "Chunk 5 with score: -5.646994590759277\n",
      "Chunk 6 with score: -7.038425922393799\n",
      "Chunk 7 with score: -7.706603050231934\n",
      "Chunk 8 with score: -8.666394233703613\n",
      "Chunk 9 with score: -10.731592178344727\n",
      "Chunk 10 with score: -10.933231353759766\n"
     ]
    }
   ],
   "source": [
    "pairs = [[query, doc] for doc in retrieved_documents]\n",
    "scores = cross_encoder.predict(pairs)\n",
    "\n",
    "# Combine scores with documents\n",
    "scored_documents = list(zip(scores, retrieved_documents))\n",
    "\n",
    "# Sort by scores in descending order\n",
    "scored_documents.sort(key=lambda x: x[0], reverse=True)\n",
    "\n",
    "print(\"New Chunk Ordering:\")\n",
    "for idx, (score, doc) in enumerate(scored_documents, start=1):\n",
    "    print(f\"Chunk {idx} with score: {score}\")\n",
    "    "
   ]
  },
  {
   "cell_type": "markdown",
   "id": "d6bb6e8b",
   "metadata": {},
   "source": [
    "Orignal scores:   \n",
    "0.8762942\n",
    "2.6445775\n",
    "-0.2680337\n",
    "-10.731592\n",
    "-7.706603\n",
    "-5.6469946\n",
    "-4.2970343\n",
    "-10.933231\n",
    "-8.666394\n",
    "-7.038426 \n",
    " \n",
    "  Now if we process the top 5 we get a long tail with more relavant information.\n",
    "\n",
    "We might only pass the first two chunks into the LLM. The other chunks might be distractors. \n",
    "\n"
   ]
  },
  {
   "cell_type": "markdown",
   "id": "9f54cc00-eebc-4294-91bf-1a2cdce51708",
   "metadata": {},
   "source": [
    "# Re-ranking with Query Expansion"
   ]
  },
  {
   "cell_type": "code",
   "execution_count": 99,
   "id": "377a84aa-1d93-4e97-9b2d-d59c46355338",
   "metadata": {
    "height": 166
   },
   "outputs": [],
   "source": [
    "original_query = \"What were the most important factors that contributed to increases in revenue?\"\n",
    "generated_queries = [\n",
    "    \"What were the major drivers of revenue growth?\",\n",
    "    \"Were there any new product launches that contributed to the increase in revenue?\",\n",
    "    \"Did any changes in pricing or promotions impact the revenue growth?\",\n",
    "    \"What were the key market trends that facilitated the increase in revenue?\",\n",
    "    \"Did any acquisitions or partnerships contribute to the revenue growth?\"\n",
    "]"
   ]
  },
  {
   "cell_type": "markdown",
   "id": "e46bbde6",
   "metadata": {},
   "source": [
    "Note: The combined queries will ask six questions and get six 10x chuncks each (60 documents)"
   ]
  },
  {
   "cell_type": "code",
   "execution_count": 100,
   "id": "ba0ed8ca-6640-4c09-9cb3-9de5e7cf46dc",
   "metadata": {
    "height": 98
   },
   "outputs": [
    {
     "name": "stdout",
     "output_type": "stream",
     "text": [
      "ids:\n",
      "  Item 1: ['143', '166', '152', '210', '148', '149', '147', '141', '151', '319']\n",
      "  Item 2: ['143', '152', '319', '147', '148', '210', '145', '144', '293', '166']\n",
      "  Item 3: ['145', '127', '210', '149', '148', '139', '150', '141', '188', '320']\n",
      "  Item 4: ['151', '145', '148', '149', '127', '143', '141', '147', '293', '331']\n",
      "  Item 5: ['149', '148', '145', '143', '166', '151', '141', '147', '319', '293']\n",
      "  Item 6: ['143', '152', '166', '145', '149', '148', '127', '262', '210', '194']\n",
      "\n",
      "embeddings:\n",
      "  Item 1: [[-0.01560105  0.00026607  0.03910113 ... -0.12766221 -0.0023229\n",
      "  -0.01344453]\n",
      " [ 0.00745113 -0.10491197  0.00869199 ... -0.11494956  0.01285286\n",
      "  -0.02947784]\n",
      " [ 0.08230967 -0.0701528   0.02381334 ... -0.15965647 -0.00994389\n",
      "  -0.0155568 ]\n",
      " ...\n",
      " [-0.03467573 -0.02139045  0.04252068 ... -0.13420498  0.00859338\n",
      "  -0.01510288]\n",
      " [ 0.02047033 -0.05500471  0.04936543 ... -0.132761   -0.01696662\n",
      "   0.02401748]\n",
      " [ 0.01663858 -0.05533892  0.0223398  ... -0.09261022 -0.02912271\n",
      "  -0.03096254]]\n",
      "  Item 2: [[-0.01560105  0.00026607  0.03910113 ... -0.12766221 -0.0023229\n",
      "  -0.01344453]\n",
      " [ 0.08230967 -0.0701528   0.02381334 ... -0.15965647 -0.00994389\n",
      "  -0.0155568 ]\n",
      " [ 0.01663858 -0.05533892  0.0223398  ... -0.09261022 -0.02912271\n",
      "  -0.03096254]\n",
      " ...\n",
      " [ 0.06130257 -0.05895161  0.01971567 ... -0.11310045 -0.0218299\n",
      "  -0.02815688]\n",
      " [-0.03879594 -0.00056903 -0.00237735 ... -0.09649955 -0.03808513\n",
      "  -0.07317519]\n",
      " [ 0.00745113 -0.10491197  0.00869199 ... -0.11494956  0.01285286\n",
      "  -0.02947784]]\n",
      "  Item 3: [[ 0.0009769  -0.10045259  0.00218422 ... -0.11110105  0.02459783\n",
      "  -0.0047747 ]\n",
      " [ 0.00406333 -0.05736865  0.01089351 ... -0.10996085  0.04742263\n",
      "  -0.01532855]\n",
      " [-0.033298   -0.04710432  0.00948359 ... -0.06933984  0.07953496\n",
      "  -0.02293731]\n",
      " ...\n",
      " [-0.03467573 -0.02139045  0.04252068 ... -0.13420498  0.00859338\n",
      "  -0.01510288]\n",
      " [-0.00441431 -0.06499448  0.05568251 ... -0.11297514 -0.03358014\n",
      "  -0.03754449]\n",
      " [ 0.052216   -0.03315055  0.03330245 ... -0.07793505 -0.00250688\n",
      "  -0.02969674]]\n",
      "  Item 4: [[ 0.02047033 -0.05500471  0.04936543 ... -0.132761   -0.01696662\n",
      "   0.02401748]\n",
      " [ 0.0009769  -0.10045259  0.00218422 ... -0.11110105  0.02459783\n",
      "  -0.0047747 ]\n",
      " [ 0.02741265 -0.01216991  0.00637542 ... -0.09229133  0.05480155\n",
      "  -0.02041869]\n",
      " ...\n",
      " [ 0.05338674 -0.06246202 -0.00673396 ... -0.13487715  0.03528043\n",
      "  -0.06167716]\n",
      " [-0.03879594 -0.00056903 -0.00237735 ... -0.09649955 -0.03808513\n",
      "  -0.07317519]\n",
      " [ 0.00312779  0.01599092 -0.0443514  ... -0.06616331  0.02492891\n",
      "  -0.01841382]]\n",
      "  Item 5: [[ 0.05584258 -0.09918498 -0.0154345  ... -0.09061968  0.00294234\n",
      "  -0.01396636]\n",
      " [ 0.02741265 -0.01216991  0.00637542 ... -0.09229133  0.05480155\n",
      "  -0.02041869]\n",
      " [ 0.0009769  -0.10045259  0.00218422 ... -0.11110105  0.02459783\n",
      "  -0.0047747 ]\n",
      " ...\n",
      " [ 0.05338674 -0.06246202 -0.00673396 ... -0.13487715  0.03528043\n",
      "  -0.06167716]\n",
      " [ 0.01663858 -0.05533892  0.0223398  ... -0.09261022 -0.02912271\n",
      "  -0.03096254]\n",
      " [-0.03879594 -0.00056903 -0.00237735 ... -0.09649955 -0.03808513\n",
      "  -0.07317519]]\n",
      "  Item 6: [[-0.01560105  0.00026607  0.03910113 ... -0.12766221 -0.0023229\n",
      "  -0.01344453]\n",
      " [ 0.08230967 -0.0701528   0.02381334 ... -0.15965647 -0.00994389\n",
      "  -0.0155568 ]\n",
      " [ 0.00745113 -0.10491197  0.00869199 ... -0.11494956  0.01285286\n",
      "  -0.02947784]\n",
      " ...\n",
      " [ 0.02634826 -0.01937923  0.06718504 ... -0.1393232  -0.04701187\n",
      "   0.00300966]\n",
      " [-0.033298   -0.04710432  0.00948359 ... -0.06933984  0.07953496\n",
      "  -0.02293731]\n",
      " [-0.00725529 -0.00870073  0.02653533 ... -0.08715806 -0.03856301\n",
      "  -0.07218203]]\n",
      "\n",
      "documents:\n",
      "  Item 1: ['engineering, gaming, and linkedin. • sales and marketing expenses increased $ 1. 7 billion or 8 % driven by investments in commercial sales and linkedin. sales and marketing included a favorable foreign currency impact of 2 %. • general and administrative expenses increased $ 793 million or 16 % driven by investments in corporate functions. operating income increased $ 13. 5 billion or 19 % driven by growth across each of our segments. current year net income and diluted eps were positively impacted by the net tax benefit related to the transfer of intangible properties, which resulted in an increase to net income and diluted eps of $ 3. 3 billion and $ 0. 44, respectively. prior year net income and diluted eps were positively impacted by the net tax benefit related to the india supreme court decision on withholding taxes, which resulted in an increase to net income and diluted eps of $ 620 million and $ 0. 08, respectively.', 'independent recalculation of prices where appropriate. cash flows cash from operations increased $ 12. 3 billion to $ 89. 0 billion for fiscal year 2022, mainly due to an increase in cash received from customers, offset in part by an increase in cash paid to suppliers and employees. cash used in financing increased $ 10. 4 billion to $ 58. 9 billion for fiscal year 2022, mainly due to a $ 5. 3 billion increase in common stock repurchases and a $ 5. 3 billion increase in repayments of debt. cash used in investing increased $ 2. 7 billion to $ 30. 3 billion for fiscal year 2022, mainly due to a $ 13. 1 billion increase in cash used for acquisitions of companies, net of cash acquired, and purchases of intangible and other assets, and a $ 3. 3 billion increase in additions to property and equipment, offset in part by a $ 15. 6 billion increase in cash from net investment purchases, sales, and maturities.', '37 general and administrative expenses include payroll, employee benefits, stock - based compensation expense, and other headcount - related expenses associated with finance, legal, facilities, certain human resources and other administrative personnel, certain taxes, and legal and other administrative fees. general and administrative expenses increased $ 793 million or 16 % driven by investments in corporate functions. other income ( expense ), net the components of other income ( expense ), net were as follows : ( in millions ) year ended june 30, 2022 2021 interest and dividends income $ 2, 094 $ 2, 131 interest expense ( 2, 063 ) ( 2, 346 ) net recognized gains on investments 461 1, 232 net gains ( losses ) on derivatives ( 52 ) 17 net gains ( losses ) on foreign currency remeasurements ( 75 ) 54 other, net ( 32 ) 98 total $ 333 $ 1, 186', 'product revenue includes sales from operating systems, cross - device productivity applications, server applications, business solution applications, desktop and server management tools, software development tools, video games, and hardware such as pcs, tablets, gaming and entertainment consoles, other intelligent devices, and related accessories.', '• windows revenue increased $ 2. 3 billion or 10 % driven by growth in windows oem and windows commercial. windows oem revenue increased 11 % driven by continued strength in the commercial pc market, which has higher revenue per license. windows commercial products and cloud services revenue increased 11 % driven by demand for microsoft 365.', '36 • search and news advertising revenue increased $ 2. 3 billion or 25 %. search and news advertising revenue excluding traffic acquisition costs increased 27 % driven by higher revenue per search and search volume. • gaming revenue increased $ 860 million or 6 % on a strong prior year comparable that benefited from xbox series x | s launches and stay - at - home scenarios, driven by growth in xbox hardware and xbox content and services. xbox hardware revenue increased 16 % due to continued demand for xbox series x | s. xbox content and services revenue increased 3 % driven by growth in xbox game pass subscriptions and first - party content, offset in part by a decline in third - party content. • surface revenue increased $ 226 million or 3 %. operating income increased $ 1. 5 billion or 8 %. • gross margin increased $ 3. 1 billion or 10 % driven by growth in windows and search and news advertising. gross margin percentage was relatively unchanged.', 'services. server products revenue increased 5 % driven by hybrid solutions, including windows server and sql server running in multi - cloud environments. • enterprise services revenue increased $ 464 million or 7 % driven by growth in enterprise support services. operating income increased $ 6. 6 billion or 25 %. • gross margin increased $ 9. 4 billion or 22 % driven by growth in azure and other cloud services. gross margin percentage decreased. excluding the impact of the change in accounting estimate, gross margin percentage was relatively unchanged driven by improvement in azure and other cloud services, offset in part by sales mix shift to azure and other cloud services. • operating expenses increased $ 2. 8 billion or 16 % driven by investments in azure and other cloud services. revenue and operating income included an unfavorable foreign currency impact of 2 % and 3 %, respectively. more personal computing revenue increased $ 5. 6 billion or 10 %.', '34 net income tax benefit related to an india supreme court decision on withholding taxes in the third quarter of fiscal year 2021. refer to the non - gaap financial measures section below for a reconciliation of our financial results reported in accordance with gaap to non - gaap financial results. see note 12 – income taxes of the notes to financial statements in our fiscal year 2022 form 10 - k for further discussion. fiscal year 2022 compared with fiscal year 2021 revenue increased $ 30. 2 billion or 18 % driven by growth across each of our segments. intelligent cloud revenue increased driven by azure and other cloud services. productivity and business processes revenue increased driven by office 365 commercial and linkedin. more personal computing revenue increased driven by search and news advertising and windows. cost of revenue increased $ 10. 4 billion or 20 % driven by growth in microsoft cloud.', 'percentage change sales and marketing $ 21, 825 $ 20, 117 8 % as a percent of revenue 11 % 12 % ( 1 ) ppt sales and marketing expenses include payroll, employee benefits, stock - based compensation expense, and other headcount - related expenses associated with sales and marketing personnel, and the costs of advertising, promotions, trade shows, seminars, and other programs. sales and marketing expenses increased $ 1. 7 billion or 8 % driven by investments in commercial sales and linkedin. sales and marketing included a favorable foreign currency impact of 2 %. general and administrative ( in millions, except percentages ) 2022 2021 percentage change general and administrative $ 5, 900 $ 5, 107 16 % as a percent of revenue 3 % 3 % 0ppt', '82 in addition, certain costs incurred at a corporate level that are identifiable and that benefit our segments are allocated to them. these allocated costs include legal, including settlements and fines, information technology, human resources, finance, excise taxes, field selling, shared facilities services, and customer service and support. each allocation is measured differently based on the specific facts and circumstances of the costs being allocated. segment revenue and operating income were as follows during the periods presented : ( in millions ) year ended june 30, 2022 2021 2020 revenue productivity and business processes $ 63, 364 $ 53, 915 $ 46, 398 intelligent cloud 75, 251 60, 080 48, 366 more personal computing 59, 655 54, 093 48, 251 total $ 198, 270 $ 168, 088 $ 143, 015 operating income productivity and business processes $ 29, 687 $ 24, 351 $ 18, 724']\n",
      "  Item 2: ['engineering, gaming, and linkedin. • sales and marketing expenses increased $ 1. 7 billion or 8 % driven by investments in commercial sales and linkedin. sales and marketing included a favorable foreign currency impact of 2 %. • general and administrative expenses increased $ 793 million or 16 % driven by investments in corporate functions. operating income increased $ 13. 5 billion or 19 % driven by growth across each of our segments. current year net income and diluted eps were positively impacted by the net tax benefit related to the transfer of intangible properties, which resulted in an increase to net income and diluted eps of $ 3. 3 billion and $ 0. 44, respectively. prior year net income and diluted eps were positively impacted by the net tax benefit related to the india supreme court decision on withholding taxes, which resulted in an increase to net income and diluted eps of $ 620 million and $ 0. 08, respectively.', '37 general and administrative expenses include payroll, employee benefits, stock - based compensation expense, and other headcount - related expenses associated with finance, legal, facilities, certain human resources and other administrative personnel, certain taxes, and legal and other administrative fees. general and administrative expenses increased $ 793 million or 16 % driven by investments in corporate functions. other income ( expense ), net the components of other income ( expense ), net were as follows : ( in millions ) year ended june 30, 2022 2021 interest and dividends income $ 2, 094 $ 2, 131 interest expense ( 2, 063 ) ( 2, 346 ) net recognized gains on investments 461 1, 232 net gains ( losses ) on derivatives ( 52 ) 17 net gains ( losses ) on foreign currency remeasurements ( 75 ) 54 other, net ( 32 ) 98 total $ 333 $ 1, 186', '82 in addition, certain costs incurred at a corporate level that are identifiable and that benefit our segments are allocated to them. these allocated costs include legal, including settlements and fines, information technology, human resources, finance, excise taxes, field selling, shared facilities services, and customer service and support. each allocation is measured differently based on the specific facts and circumstances of the costs being allocated. segment revenue and operating income were as follows during the periods presented : ( in millions ) year ended june 30, 2022 2021 2020 revenue productivity and business processes $ 63, 364 $ 53, 915 $ 46, 398 intelligent cloud 75, 251 60, 080 48, 366 more personal computing 59, 655 54, 093 48, 251 total $ 198, 270 $ 168, 088 $ 143, 015 operating income productivity and business processes $ 29, 687 $ 24, 351 $ 18, 724', 'services. server products revenue increased 5 % driven by hybrid solutions, including windows server and sql server running in multi - cloud environments. • enterprise services revenue increased $ 464 million or 7 % driven by growth in enterprise support services. operating income increased $ 6. 6 billion or 25 %. • gross margin increased $ 9. 4 billion or 22 % driven by growth in azure and other cloud services. gross margin percentage decreased. excluding the impact of the change in accounting estimate, gross margin percentage was relatively unchanged driven by improvement in azure and other cloud services, offset in part by sales mix shift to azure and other cloud services. • operating expenses increased $ 2. 8 billion or 16 % driven by investments in azure and other cloud services. revenue and operating income included an unfavorable foreign currency impact of 2 % and 3 %, respectively. more personal computing revenue increased $ 5. 6 billion or 10 %.', '• windows revenue increased $ 2. 3 billion or 10 % driven by growth in windows oem and windows commercial. windows oem revenue increased 11 % driven by continued strength in the commercial pc market, which has higher revenue per license. windows commercial products and cloud services revenue increased 11 % driven by demand for microsoft 365.', 'product revenue includes sales from operating systems, cross - device productivity applications, server applications, business solution applications, desktop and server management tools, software development tools, video games, and hardware such as pcs, tablets, gaming and entertainment consoles, other intelligent devices, and related accessories.', '35 reportable segments fiscal year 2022 compared with fiscal year 2021 productivity and business processes revenue increased $ 9. 4 billion or 18 %. • office commercial products and cloud services revenue increased $ 4. 4 billion or 13 %. office 365 commercial revenue grew 18 % driven by seat growth of 14 %, with continued momentum in small and medium business and frontline worker offerings, as well as growth in revenue per user. office commercial products revenue declined 22 % driven by continued customer shift to cloud offerings. • office consumer products and cloud services revenue increased $ 641 million or 11 % driven by microsoft 365 consumer subscription revenue. microsoft 365 consumer subscribers grew 15 % to 59. 7 million. • linkedin revenue increased $ 3. 5 billion or 34 % driven by a strong job market in our talent solutions business and advertising demand in our marketing solutions business.', 'gross margin and operating income both included an unfavorable foreign currency impact of 2 %. segment results of operations ( in millions, except percentages ) 2022 2021 percentage change revenue productivity and business processes $ 63, 364 $ 53, 915 18 % intelligent cloud 75, 251 60, 080 25 % more personal computing 59, 655 54, 093 10 % total $ 198, 270 $ 168, 088 18 % operating income productivity and business processes $ 29, 687 $ 24, 351 22 % intelligent cloud 32, 721 26, 126 25 % more personal computing 20, 975 19, 439 8 % total $ 83, 383 $ 69, 916 19 %', '74 note 13 — unearned revenue unearned revenue by segment was as follows : ( in millions ) june 30, 2022 2021 productivity and business processes $ 24, 558 $ 22, 120 intelligent cloud 19, 371 17, 710 more personal computing 4, 479 4, 311 total $ 48, 408 $ 44, 141 changes in unearned revenue were as follows : ( in millions ) year ended june 30, 2022 balance, beginning of period $ 44, 141 deferral of revenue 110, 455 recognition of unearned revenue ( 106, 188 ) balance, end of period $ 48, 408 revenue allocated to remaining performance obligations, which includes unearned revenue and amounts that will be invoiced and recognized as revenue in future periods, was $ 193 billion as of june 30, 2022, of which $ 189 billion is related to the commercial portion of revenue. we expect to recognize approximately 45 % of this revenue over the next 12 months and the remainder thereafter. note 14 — leases', 'independent recalculation of prices where appropriate. cash flows cash from operations increased $ 12. 3 billion to $ 89. 0 billion for fiscal year 2022, mainly due to an increase in cash received from customers, offset in part by an increase in cash paid to suppliers and employees. cash used in financing increased $ 10. 4 billion to $ 58. 9 billion for fiscal year 2022, mainly due to a $ 5. 3 billion increase in common stock repurchases and a $ 5. 3 billion increase in repayments of debt. cash used in investing increased $ 2. 7 billion to $ 30. 3 billion for fiscal year 2022, mainly due to a $ 13. 1 billion increase in cash used for acquisitions of companies, net of cash acquired, and purchases of intangible and other assets, and a $ 3. 3 billion increase in additions to property and equipment, offset in part by a $ 15. 6 billion increase in cash from net investment purchases, sales, and maturities.']\n",
      "  Item 3: ['35 reportable segments fiscal year 2022 compared with fiscal year 2021 productivity and business processes revenue increased $ 9. 4 billion or 18 %. • office commercial products and cloud services revenue increased $ 4. 4 billion or 13 %. office 365 commercial revenue grew 18 % driven by seat growth of 14 %, with continued momentum in small and medium business and frontline worker offerings, as well as growth in revenue per user. office commercial products revenue declined 22 % driven by continued customer shift to cloud offerings. • office consumer products and cloud services revenue increased $ 641 million or 11 % driven by microsoft 365 consumer subscription revenue. microsoft 365 consumer subscribers grew 15 % to 59. 7 million. • linkedin revenue increased $ 3. 5 billion or 34 % driven by a strong job market in our talent solutions business and advertising demand in our marketing solutions business.', 'highlights from fiscal year 2022 compared with fiscal year 2021 included : • microsoft cloud ( formerly commercial cloud ) revenue increased 32 % to $ 91. 2 billion. • office commercial products and cloud services revenue increased 13 % driven by office 365 commercial growth of 18 %. • office consumer products and cloud services revenue increased 11 % and microsoft 365 consumer subscribers grew to 59. 7 million. • linkedin revenue increased 34 %. • dynamics products and cloud services revenue increased 25 % driven by dynamics 365 growth of 39 %. • server products and cloud services revenue increased 28 % driven by azure and other cloud services growth of 45 %. • windows original equipment manufacturer licensing ( “ windows oem ” ) revenue increased 11 %. • windows commercial products and cloud services revenue increased 11 %. • xbox content and services revenue increased 3 %. • search and news advertising revenue excluding traffic acquisition costs increased 27 %.', 'product revenue includes sales from operating systems, cross - device productivity applications, server applications, business solution applications, desktop and server management tools, software development tools, video games, and hardware such as pcs, tablets, gaming and entertainment consoles, other intelligent devices, and related accessories.', '36 • search and news advertising revenue increased $ 2. 3 billion or 25 %. search and news advertising revenue excluding traffic acquisition costs increased 27 % driven by higher revenue per search and search volume. • gaming revenue increased $ 860 million or 6 % on a strong prior year comparable that benefited from xbox series x | s launches and stay - at - home scenarios, driven by growth in xbox hardware and xbox content and services. xbox hardware revenue increased 16 % due to continued demand for xbox series x | s. xbox content and services revenue increased 3 % driven by growth in xbox game pass subscriptions and first - party content, offset in part by a decline in third - party content. • surface revenue increased $ 226 million or 3 %. operating income increased $ 1. 5 billion or 8 %. • gross margin increased $ 3. 1 billion or 10 % driven by growth in windows and search and news advertising. gross margin percentage was relatively unchanged.', '• windows revenue increased $ 2. 3 billion or 10 % driven by growth in windows oem and windows commercial. windows oem revenue increased 11 % driven by continued strength in the commercial pc market, which has higher revenue per license. windows commercial products and cloud services revenue increased 11 % driven by demand for microsoft 365.', 'commercial and consumer businesses. as we have diversity of target audiences and sales motions within the windows business, we monitor metrics that are reflective of those varying motions. windows oem revenue growth revenue from sales of windows pro and non - pro licenses sold through the oem channel windows commercial products and cloud services revenue growth revenue from windows commercial products and cloud services, comprising volume licensing of the windows operating system, windows cloud services, and other windows commercial offerings surface revenue growth revenue from surface devices and accessories xbox content and services revenue growth revenue from xbox content and services, comprising first - and third - party content ( including games and in - game content ), xbox game pass and other subscriptions, xbox cloud gaming, third - party disc royalties, advertising, and other cloud services search and news advertising revenue,', '• operating expenses increased $ 1. 5 billion or 14 % driven by investments in gaming, search and news advertising, and windows marketing. operating expenses research and development ( in millions, except percentages ) 2022 2021 percentage change research and development $ 24, 512 $ 20, 716 18 % as a percent of revenue 12 % 12 % 0ppt research and development expenses include payroll, employee benefits, stock - based compensation expense, and other headcount - related expenses associated with product development. research and development expenses also include third - party development and programming costs, localization costs incurred to translate software for international markets, and the amortization of purchased software code and services content. research and development expenses increased $ 3. 8 billion or 18 % driven by investments in cloud engineering, gaming, and linkedin. sales and marketing ( in millions, except percentages ) 2022 2021', '34 net income tax benefit related to an india supreme court decision on withholding taxes in the third quarter of fiscal year 2021. refer to the non - gaap financial measures section below for a reconciliation of our financial results reported in accordance with gaap to non - gaap financial results. see note 12 – income taxes of the notes to financial statements in our fiscal year 2022 form 10 - k for further discussion. fiscal year 2022 compared with fiscal year 2021 revenue increased $ 30. 2 billion or 18 % driven by growth across each of our segments. intelligent cloud revenue increased driven by azure and other cloud services. productivity and business processes revenue increased driven by office 365 commercial and linkedin. more personal computing revenue increased driven by search and news advertising and windows. cost of revenue increased $ 10. 4 billion or 20 % driven by growth in microsoft cloud.', 'change will increase our fiscal year 2023 operating income by $ 3. 7 billion. we had previously increased the estimated useful lives of both server and network equipment in july 2020.', 'intelligent cloud 32, 721 26, 126 18, 324 more personal computing 20, 975 19, 439 15, 911 total $ 83, 383 $ 69, 916 $ 52, 959 no sales to an individual customer or country other than the united states accounted for more than 10 % of revenue for fiscal years 2022, 2021, or 2020. revenue, classified by the major geographic areas in which our customers were located, was as follows : ( in millions ) year ended june 30, 2022 2021 2020 united states ( a ) $ 100, 218 $ 83, 953 $ 73, 160 other countries 98, 052 84, 135 69, 855 total $ 198, 270 $ 168, 088 $ 143, 015 ( a ) includes billings to oems and certain multinational organizations because of the nature of these businesses and the impracticability of determining the geographic source of the revenue. revenue, classified by significant product and service offerings, was as follows : ( in millions ) year ended june 30, 2022 2021 2020']\n",
      "  Item 4: ['percentage change sales and marketing $ 21, 825 $ 20, 117 8 % as a percent of revenue 11 % 12 % ( 1 ) ppt sales and marketing expenses include payroll, employee benefits, stock - based compensation expense, and other headcount - related expenses associated with sales and marketing personnel, and the costs of advertising, promotions, trade shows, seminars, and other programs. sales and marketing expenses increased $ 1. 7 billion or 8 % driven by investments in commercial sales and linkedin. sales and marketing included a favorable foreign currency impact of 2 %. general and administrative ( in millions, except percentages ) 2022 2021 percentage change general and administrative $ 5, 900 $ 5, 107 16 % as a percent of revenue 3 % 3 % 0ppt', '35 reportable segments fiscal year 2022 compared with fiscal year 2021 productivity and business processes revenue increased $ 9. 4 billion or 18 %. • office commercial products and cloud services revenue increased $ 4. 4 billion or 13 %. office 365 commercial revenue grew 18 % driven by seat growth of 14 %, with continued momentum in small and medium business and frontline worker offerings, as well as growth in revenue per user. office commercial products revenue declined 22 % driven by continued customer shift to cloud offerings. • office consumer products and cloud services revenue increased $ 641 million or 11 % driven by microsoft 365 consumer subscription revenue. microsoft 365 consumer subscribers grew 15 % to 59. 7 million. • linkedin revenue increased $ 3. 5 billion or 34 % driven by a strong job market in our talent solutions business and advertising demand in our marketing solutions business.', '• windows revenue increased $ 2. 3 billion or 10 % driven by growth in windows oem and windows commercial. windows oem revenue increased 11 % driven by continued strength in the commercial pc market, which has higher revenue per license. windows commercial products and cloud services revenue increased 11 % driven by demand for microsoft 365.', '36 • search and news advertising revenue increased $ 2. 3 billion or 25 %. search and news advertising revenue excluding traffic acquisition costs increased 27 % driven by higher revenue per search and search volume. • gaming revenue increased $ 860 million or 6 % on a strong prior year comparable that benefited from xbox series x | s launches and stay - at - home scenarios, driven by growth in xbox hardware and xbox content and services. xbox hardware revenue increased 16 % due to continued demand for xbox series x | s. xbox content and services revenue increased 3 % driven by growth in xbox game pass subscriptions and first - party content, offset in part by a decline in third - party content. • surface revenue increased $ 226 million or 3 %. operating income increased $ 1. 5 billion or 8 %. • gross margin increased $ 3. 1 billion or 10 % driven by growth in windows and search and news advertising. gross margin percentage was relatively unchanged.', 'highlights from fiscal year 2022 compared with fiscal year 2021 included : • microsoft cloud ( formerly commercial cloud ) revenue increased 32 % to $ 91. 2 billion. • office commercial products and cloud services revenue increased 13 % driven by office 365 commercial growth of 18 %. • office consumer products and cloud services revenue increased 11 % and microsoft 365 consumer subscribers grew to 59. 7 million. • linkedin revenue increased 34 %. • dynamics products and cloud services revenue increased 25 % driven by dynamics 365 growth of 39 %. • server products and cloud services revenue increased 28 % driven by azure and other cloud services growth of 45 %. • windows original equipment manufacturer licensing ( “ windows oem ” ) revenue increased 11 %. • windows commercial products and cloud services revenue increased 11 %. • xbox content and services revenue increased 3 %. • search and news advertising revenue excluding traffic acquisition costs increased 27 %.', 'engineering, gaming, and linkedin. • sales and marketing expenses increased $ 1. 7 billion or 8 % driven by investments in commercial sales and linkedin. sales and marketing included a favorable foreign currency impact of 2 %. • general and administrative expenses increased $ 793 million or 16 % driven by investments in corporate functions. operating income increased $ 13. 5 billion or 19 % driven by growth across each of our segments. current year net income and diluted eps were positively impacted by the net tax benefit related to the transfer of intangible properties, which resulted in an increase to net income and diluted eps of $ 3. 3 billion and $ 0. 44, respectively. prior year net income and diluted eps were positively impacted by the net tax benefit related to the india supreme court decision on withholding taxes, which resulted in an increase to net income and diluted eps of $ 620 million and $ 0. 08, respectively.', '34 net income tax benefit related to an india supreme court decision on withholding taxes in the third quarter of fiscal year 2021. refer to the non - gaap financial measures section below for a reconciliation of our financial results reported in accordance with gaap to non - gaap financial results. see note 12 – income taxes of the notes to financial statements in our fiscal year 2022 form 10 - k for further discussion. fiscal year 2022 compared with fiscal year 2021 revenue increased $ 30. 2 billion or 18 % driven by growth across each of our segments. intelligent cloud revenue increased driven by azure and other cloud services. productivity and business processes revenue increased driven by office 365 commercial and linkedin. more personal computing revenue increased driven by search and news advertising and windows. cost of revenue increased $ 10. 4 billion or 20 % driven by growth in microsoft cloud.', 'services. server products revenue increased 5 % driven by hybrid solutions, including windows server and sql server running in multi - cloud environments. • enterprise services revenue increased $ 464 million or 7 % driven by growth in enterprise support services. operating income increased $ 6. 6 billion or 25 %. • gross margin increased $ 9. 4 billion or 22 % driven by growth in azure and other cloud services. gross margin percentage decreased. excluding the impact of the change in accounting estimate, gross margin percentage was relatively unchanged driven by improvement in azure and other cloud services, offset in part by sales mix shift to azure and other cloud services. • operating expenses increased $ 2. 8 billion or 16 % driven by investments in azure and other cloud services. revenue and operating income included an unfavorable foreign currency impact of 2 % and 3 %, respectively. more personal computing revenue increased $ 5. 6 billion or 10 %.', '74 note 13 — unearned revenue unearned revenue by segment was as follows : ( in millions ) june 30, 2022 2021 productivity and business processes $ 24, 558 $ 22, 120 intelligent cloud 19, 371 17, 710 more personal computing 4, 479 4, 311 total $ 48, 408 $ 44, 141 changes in unearned revenue were as follows : ( in millions ) year ended june 30, 2022 balance, beginning of period $ 44, 141 deferral of revenue 110, 455 recognition of unearned revenue ( 106, 188 ) balance, end of period $ 48, 408 revenue allocated to remaining performance obligations, which includes unearned revenue and amounts that will be invoiced and recognized as revenue in future periods, was $ 193 billion as of june 30, 2022, of which $ 189 billion is related to the commercial portion of revenue. we expect to recognize approximately 45 % of this revenue over the next 12 months and the remainder thereafter. note 14 — leases', 'that are not sold separately. • we tested the mathematical accuracy of management ’ s calculations of revenue and the associated timing of revenue recognized in the financial statements.']\n",
      "  Item 5: ['36 • search and news advertising revenue increased $ 2. 3 billion or 25 %. search and news advertising revenue excluding traffic acquisition costs increased 27 % driven by higher revenue per search and search volume. • gaming revenue increased $ 860 million or 6 % on a strong prior year comparable that benefited from xbox series x | s launches and stay - at - home scenarios, driven by growth in xbox hardware and xbox content and services. xbox hardware revenue increased 16 % due to continued demand for xbox series x | s. xbox content and services revenue increased 3 % driven by growth in xbox game pass subscriptions and first - party content, offset in part by a decline in third - party content. • surface revenue increased $ 226 million or 3 %. operating income increased $ 1. 5 billion or 8 %. • gross margin increased $ 3. 1 billion or 10 % driven by growth in windows and search and news advertising. gross margin percentage was relatively unchanged.', '• windows revenue increased $ 2. 3 billion or 10 % driven by growth in windows oem and windows commercial. windows oem revenue increased 11 % driven by continued strength in the commercial pc market, which has higher revenue per license. windows commercial products and cloud services revenue increased 11 % driven by demand for microsoft 365.', '35 reportable segments fiscal year 2022 compared with fiscal year 2021 productivity and business processes revenue increased $ 9. 4 billion or 18 %. • office commercial products and cloud services revenue increased $ 4. 4 billion or 13 %. office 365 commercial revenue grew 18 % driven by seat growth of 14 %, with continued momentum in small and medium business and frontline worker offerings, as well as growth in revenue per user. office commercial products revenue declined 22 % driven by continued customer shift to cloud offerings. • office consumer products and cloud services revenue increased $ 641 million or 11 % driven by microsoft 365 consumer subscription revenue. microsoft 365 consumer subscribers grew 15 % to 59. 7 million. • linkedin revenue increased $ 3. 5 billion or 34 % driven by a strong job market in our talent solutions business and advertising demand in our marketing solutions business.', 'engineering, gaming, and linkedin. • sales and marketing expenses increased $ 1. 7 billion or 8 % driven by investments in commercial sales and linkedin. sales and marketing included a favorable foreign currency impact of 2 %. • general and administrative expenses increased $ 793 million or 16 % driven by investments in corporate functions. operating income increased $ 13. 5 billion or 19 % driven by growth across each of our segments. current year net income and diluted eps were positively impacted by the net tax benefit related to the transfer of intangible properties, which resulted in an increase to net income and diluted eps of $ 3. 3 billion and $ 0. 44, respectively. prior year net income and diluted eps were positively impacted by the net tax benefit related to the india supreme court decision on withholding taxes, which resulted in an increase to net income and diluted eps of $ 620 million and $ 0. 08, respectively.', 'independent recalculation of prices where appropriate. cash flows cash from operations increased $ 12. 3 billion to $ 89. 0 billion for fiscal year 2022, mainly due to an increase in cash received from customers, offset in part by an increase in cash paid to suppliers and employees. cash used in financing increased $ 10. 4 billion to $ 58. 9 billion for fiscal year 2022, mainly due to a $ 5. 3 billion increase in common stock repurchases and a $ 5. 3 billion increase in repayments of debt. cash used in investing increased $ 2. 7 billion to $ 30. 3 billion for fiscal year 2022, mainly due to a $ 13. 1 billion increase in cash used for acquisitions of companies, net of cash acquired, and purchases of intangible and other assets, and a $ 3. 3 billion increase in additions to property and equipment, offset in part by a $ 15. 6 billion increase in cash from net investment purchases, sales, and maturities.', 'percentage change sales and marketing $ 21, 825 $ 20, 117 8 % as a percent of revenue 11 % 12 % ( 1 ) ppt sales and marketing expenses include payroll, employee benefits, stock - based compensation expense, and other headcount - related expenses associated with sales and marketing personnel, and the costs of advertising, promotions, trade shows, seminars, and other programs. sales and marketing expenses increased $ 1. 7 billion or 8 % driven by investments in commercial sales and linkedin. sales and marketing included a favorable foreign currency impact of 2 %. general and administrative ( in millions, except percentages ) 2022 2021 percentage change general and administrative $ 5, 900 $ 5, 107 16 % as a percent of revenue 3 % 3 % 0ppt', '34 net income tax benefit related to an india supreme court decision on withholding taxes in the third quarter of fiscal year 2021. refer to the non - gaap financial measures section below for a reconciliation of our financial results reported in accordance with gaap to non - gaap financial results. see note 12 – income taxes of the notes to financial statements in our fiscal year 2022 form 10 - k for further discussion. fiscal year 2022 compared with fiscal year 2021 revenue increased $ 30. 2 billion or 18 % driven by growth across each of our segments. intelligent cloud revenue increased driven by azure and other cloud services. productivity and business processes revenue increased driven by office 365 commercial and linkedin. more personal computing revenue increased driven by search and news advertising and windows. cost of revenue increased $ 10. 4 billion or 20 % driven by growth in microsoft cloud.', 'services. server products revenue increased 5 % driven by hybrid solutions, including windows server and sql server running in multi - cloud environments. • enterprise services revenue increased $ 464 million or 7 % driven by growth in enterprise support services. operating income increased $ 6. 6 billion or 25 %. • gross margin increased $ 9. 4 billion or 22 % driven by growth in azure and other cloud services. gross margin percentage decreased. excluding the impact of the change in accounting estimate, gross margin percentage was relatively unchanged driven by improvement in azure and other cloud services, offset in part by sales mix shift to azure and other cloud services. • operating expenses increased $ 2. 8 billion or 16 % driven by investments in azure and other cloud services. revenue and operating income included an unfavorable foreign currency impact of 2 % and 3 %, respectively. more personal computing revenue increased $ 5. 6 billion or 10 %.', '82 in addition, certain costs incurred at a corporate level that are identifiable and that benefit our segments are allocated to them. these allocated costs include legal, including settlements and fines, information technology, human resources, finance, excise taxes, field selling, shared facilities services, and customer service and support. each allocation is measured differently based on the specific facts and circumstances of the costs being allocated. segment revenue and operating income were as follows during the periods presented : ( in millions ) year ended june 30, 2022 2021 2020 revenue productivity and business processes $ 63, 364 $ 53, 915 $ 46, 398 intelligent cloud 75, 251 60, 080 48, 366 more personal computing 59, 655 54, 093 48, 251 total $ 198, 270 $ 168, 088 $ 143, 015 operating income productivity and business processes $ 29, 687 $ 24, 351 $ 18, 724', '74 note 13 — unearned revenue unearned revenue by segment was as follows : ( in millions ) june 30, 2022 2021 productivity and business processes $ 24, 558 $ 22, 120 intelligent cloud 19, 371 17, 710 more personal computing 4, 479 4, 311 total $ 48, 408 $ 44, 141 changes in unearned revenue were as follows : ( in millions ) year ended june 30, 2022 balance, beginning of period $ 44, 141 deferral of revenue 110, 455 recognition of unearned revenue ( 106, 188 ) balance, end of period $ 48, 408 revenue allocated to remaining performance obligations, which includes unearned revenue and amounts that will be invoiced and recognized as revenue in future periods, was $ 193 billion as of june 30, 2022, of which $ 189 billion is related to the commercial portion of revenue. we expect to recognize approximately 45 % of this revenue over the next 12 months and the remainder thereafter. note 14 — leases']\n",
      "  Item 6: ['engineering, gaming, and linkedin. • sales and marketing expenses increased $ 1. 7 billion or 8 % driven by investments in commercial sales and linkedin. sales and marketing included a favorable foreign currency impact of 2 %. • general and administrative expenses increased $ 793 million or 16 % driven by investments in corporate functions. operating income increased $ 13. 5 billion or 19 % driven by growth across each of our segments. current year net income and diluted eps were positively impacted by the net tax benefit related to the transfer of intangible properties, which resulted in an increase to net income and diluted eps of $ 3. 3 billion and $ 0. 44, respectively. prior year net income and diluted eps were positively impacted by the net tax benefit related to the india supreme court decision on withholding taxes, which resulted in an increase to net income and diluted eps of $ 620 million and $ 0. 08, respectively.', '37 general and administrative expenses include payroll, employee benefits, stock - based compensation expense, and other headcount - related expenses associated with finance, legal, facilities, certain human resources and other administrative personnel, certain taxes, and legal and other administrative fees. general and administrative expenses increased $ 793 million or 16 % driven by investments in corporate functions. other income ( expense ), net the components of other income ( expense ), net were as follows : ( in millions ) year ended june 30, 2022 2021 interest and dividends income $ 2, 094 $ 2, 131 interest expense ( 2, 063 ) ( 2, 346 ) net recognized gains on investments 461 1, 232 net gains ( losses ) on derivatives ( 52 ) 17 net gains ( losses ) on foreign currency remeasurements ( 75 ) 54 other, net ( 32 ) 98 total $ 333 $ 1, 186', 'independent recalculation of prices where appropriate. cash flows cash from operations increased $ 12. 3 billion to $ 89. 0 billion for fiscal year 2022, mainly due to an increase in cash received from customers, offset in part by an increase in cash paid to suppliers and employees. cash used in financing increased $ 10. 4 billion to $ 58. 9 billion for fiscal year 2022, mainly due to a $ 5. 3 billion increase in common stock repurchases and a $ 5. 3 billion increase in repayments of debt. cash used in investing increased $ 2. 7 billion to $ 30. 3 billion for fiscal year 2022, mainly due to a $ 13. 1 billion increase in cash used for acquisitions of companies, net of cash acquired, and purchases of intangible and other assets, and a $ 3. 3 billion increase in additions to property and equipment, offset in part by a $ 15. 6 billion increase in cash from net investment purchases, sales, and maturities.', '35 reportable segments fiscal year 2022 compared with fiscal year 2021 productivity and business processes revenue increased $ 9. 4 billion or 18 %. • office commercial products and cloud services revenue increased $ 4. 4 billion or 13 %. office 365 commercial revenue grew 18 % driven by seat growth of 14 %, with continued momentum in small and medium business and frontline worker offerings, as well as growth in revenue per user. office commercial products revenue declined 22 % driven by continued customer shift to cloud offerings. • office consumer products and cloud services revenue increased $ 641 million or 11 % driven by microsoft 365 consumer subscription revenue. microsoft 365 consumer subscribers grew 15 % to 59. 7 million. • linkedin revenue increased $ 3. 5 billion or 34 % driven by a strong job market in our talent solutions business and advertising demand in our marketing solutions business.', '36 • search and news advertising revenue increased $ 2. 3 billion or 25 %. search and news advertising revenue excluding traffic acquisition costs increased 27 % driven by higher revenue per search and search volume. • gaming revenue increased $ 860 million or 6 % on a strong prior year comparable that benefited from xbox series x | s launches and stay - at - home scenarios, driven by growth in xbox hardware and xbox content and services. xbox hardware revenue increased 16 % due to continued demand for xbox series x | s. xbox content and services revenue increased 3 % driven by growth in xbox game pass subscriptions and first - party content, offset in part by a decline in third - party content. • surface revenue increased $ 226 million or 3 %. operating income increased $ 1. 5 billion or 8 %. • gross margin increased $ 3. 1 billion or 10 % driven by growth in windows and search and news advertising. gross margin percentage was relatively unchanged.', '• windows revenue increased $ 2. 3 billion or 10 % driven by growth in windows oem and windows commercial. windows oem revenue increased 11 % driven by continued strength in the commercial pc market, which has higher revenue per license. windows commercial products and cloud services revenue increased 11 % driven by demand for microsoft 365.', 'highlights from fiscal year 2022 compared with fiscal year 2021 included : • microsoft cloud ( formerly commercial cloud ) revenue increased 32 % to $ 91. 2 billion. • office commercial products and cloud services revenue increased 13 % driven by office 365 commercial growth of 18 %. • office consumer products and cloud services revenue increased 11 % and microsoft 365 consumer subscribers grew to 59. 7 million. • linkedin revenue increased 34 %. • dynamics products and cloud services revenue increased 25 % driven by dynamics 365 growth of 39 %. • server products and cloud services revenue increased 28 % driven by azure and other cloud services growth of 45 %. • windows original equipment manufacturer licensing ( “ windows oem ” ) revenue increased 11 %. • windows commercial products and cloud services revenue increased 11 %. • xbox content and services revenue increased 3 %. • search and news advertising revenue excluding traffic acquisition costs increased 27 %.', '66 gains ( losses ), net of tax, on derivative instruments recognized in our consolidated comprehensive income statements were as follows : ( in millions ) year ended june 30, 2022 2021 2020 designated as cash flow hedging instruments foreign exchange contracts included in effectiveness assessment $ ( 57 ) $ 34 $ ( 38 ) note 6 — inventories the components of inventories were as follows : ( in millions ) june 30, 2022 2021 raw materials $ 1, 144 $ 1, 190 work in process 82 79 finished goods 2, 516 1, 367 total $ 3, 742 $ 2, 636 note 7 — property and equipment the components of property and equipment were as follows : ( in millions ) june 30, 2022 2021 land $ 4, 734 $ 3, 660 buildings and improvements 55, 014 43, 928 leasehold improvements 7, 819 6, 884 computer equipment and software 60, 631 51, 250', 'product revenue includes sales from operating systems, cross - device productivity applications, server applications, business solution applications, desktop and server management tools, software development tools, video games, and hardware such as pcs, tablets, gaming and entertainment consoles, other intelligent devices, and related accessories.', '47 financial statements and supplementary data income statements ( in millions, except per share amounts ) year ended june 30, 2022 2021 2020 revenue : product $ 72, 732 $ 71, 074 $ 68, 041 service and other 125, 538 97, 014 74, 974 total revenue 198, 270 168, 088 143, 015 cost of revenue : product 19, 064 18, 219 16, 017 service and other 43, 586 34, 013 30, 061 total cost of revenue 62, 650 52, 232 46, 078 gross margin 135, 620 115, 856 96, 937 research and development 24, 512 20, 716 19, 269 sales and marketing 21, 825 20, 117 19, 598 general and administrative 5, 900 5, 107 5, 111 operating income 83, 383 69, 916 52, 959 other income, net 333 1, 186 77 income before income taxes 83, 716 71, 102 53, 036 provision for income taxes 10, 978 9, 831 8, 755 net income $ 72, 738 $ 61, 271 $ 44, 281']\n",
      "\n",
      "uris:\n",
      "  None\n",
      "\n",
      "data:\n",
      "  None\n",
      "\n",
      "metadatas:\n",
      "  None\n",
      "\n",
      "distances:\n",
      "  Item 1: [0.4731324315071106, 0.5255225896835327, 0.5317317247390747, 0.5491475462913513, 0.5512220859527588, 0.5530130863189697, 0.5624938011169434, 0.5659999847412109, 0.5685654878616333, 0.5692278149672001]\n",
      "  Item 2: [0.502371072769165, 0.5311310291290283, 0.5376170598255918, 0.5381580591201782, 0.5400863885879517, 0.5418449640274048, 0.5418819189071655, 0.5446561574935913, 0.5509474277496338, 0.5521199703216553]\n",
      "  Item 3: [0.4382109045982361, 0.4548628330230713, 0.46078962087631226, 0.4617156982421875, 0.46246248483657837, 0.5190184116363525, 0.5316863059997559, 0.5363013744354248, 0.541559100151062, 0.5449103515624716]\n",
      "  Item 4: [0.4298704266548157, 0.4402526021003723, 0.458316445350647, 0.45963597297668457, 0.4737142324447632, 0.47388535737991333, 0.4742024540901184, 0.5107691287994385, 0.5215421915054321, 0.5236331342234768]\n",
      "  Item 5: [0.5070925951004028, 0.5144283771514893, 0.5175608396530151, 0.5272879004478455, 0.5289405584335327, 0.5376431345939636, 0.5507569909095764, 0.5638771653175354, 0.5715713151256931, 0.577284038066864]\n",
      "  Item 6: [0.47840309143066406, 0.4939611554145813, 0.49695682525634766, 0.5018198490142822, 0.5057615637779236, 0.5074950456619263, 0.5162050724029541, 0.5173031091690063, 0.524802565574646, 0.525784432888031]\n",
      "\n",
      "included:\n",
      "  Item 1: IncludeEnum.embeddings\n",
      "  Item 2: IncludeEnum.distances\n",
      "  Item 3: IncludeEnum.documents\n",
      "\n"
     ]
    }
   ],
   "source": [
    "queries = [original_query] + generated_queries\n",
    "\n",
    "results = chroma_collection.query(query_texts=queries,\n",
    "                                   n_results=10, \n",
    "                                   include=['documents', 'embeddings', \"distances\"])\n",
    "\n",
    "retrieved_documents = results['documents'][0]\n",
    "print_results_and_documents(results, retrieved_documents, word_wrap)\n"
   ]
  },
  {
   "cell_type": "markdown",
   "id": "0902b733",
   "metadata": {},
   "source": [
    "## Re-ranking the long tail\n",
    "\n",
    "First we get rid of duplicates. This gets us down from 60 chunks to less than 50. "
   ]
  },
  {
   "cell_type": "code",
   "execution_count": 101,
   "id": "28bac3a2-0d29-48dc-9b48-2d9313239a25",
   "metadata": {
    "height": 132
   },
   "outputs": [
    {
     "name": "stdout",
     "output_type": "stream",
     "text": [
      "48  Unique Documents\n"
     ]
    }
   ],
   "source": [
    "# Deduplicate the retrieved documents\n",
    "unique_documents = set()\n",
    "for documents in retrieved_documents:\n",
    "    for document in documents:\n",
    "        unique_documents.add(document)\n",
    "\n",
    "unique_documents = list(unique_documents)\n",
    "print(len(unique_documents),\" Unique Documents\")"
   ]
  },
  {
   "cell_type": "code",
   "execution_count": 102,
   "id": "db9f2758-0f5a-49e5-b1fa-517b91324575",
   "metadata": {
    "height": 64
   },
   "outputs": [],
   "source": [
    "pairs = []\n",
    "for doc in unique_documents:\n",
    "    pairs.append([original_query, doc])"
   ]
  },
  {
   "cell_type": "code",
   "execution_count": 103,
   "id": "aee59493-8a99-4da8-b94f-4747efcfc79d",
   "metadata": {
    "height": 47
   },
   "outputs": [],
   "source": [
    "scores = cross_encoder.predict(pairs)\n"
   ]
  },
  {
   "cell_type": "code",
   "execution_count": 104,
   "id": "f5eda9bc-ae76-4db6-9e0c-ae099d852d78",
   "metadata": {
    "height": 64
   },
   "outputs": [
    {
     "name": "stdout",
     "output_type": "stream",
     "text": [
      "Scores:\n",
      "-9.072264\n",
      "-8.111133\n",
      "-8.0000925\n",
      "-7.4521346\n",
      "-7.731777\n",
      "-8.733776\n",
      "-7.0936494\n",
      "-8.700952\n",
      "-8.394533\n",
      "-7.290472\n",
      "-8.777536\n",
      "-9.152418\n",
      "-8.603168\n",
      "-8.771975\n",
      "-8.442549\n",
      "-8.039276\n",
      "-8.305858\n",
      "-6.9356394\n",
      "-8.212902\n",
      "-8.831294\n",
      "-8.321934\n",
      "-9.139928\n",
      "-8.321725\n",
      "-9.103209\n",
      "-7.958362\n",
      "-8.125719\n",
      "-7.6008224\n",
      "-8.759289\n",
      "-8.859444\n",
      "-8.928579\n",
      "-8.520397\n",
      "-8.266382\n",
      "-8.338873\n",
      "-8.023626\n",
      "-8.618933\n",
      "-7.429163\n",
      "-8.897442\n",
      "-9.0392685\n",
      "-8.415417\n",
      "-8.560882\n",
      "-8.742549\n",
      "-8.211147\n",
      "-5.9334097\n",
      "-7.3718023\n",
      "-6.7395134\n",
      "-8.204199\n",
      "-8.078914\n",
      "-8.152823\n"
     ]
    }
   ],
   "source": [
    "print(\"Scores:\")\n",
    "for score in scores:\n",
    "    print(score)"
   ]
  },
  {
   "cell_type": "code",
   "execution_count": null,
   "id": "ade17be9",
   "metadata": {},
   "outputs": [
    {
     "name": "stdout",
     "output_type": "stream",
     "text": [
      "New Chunk Ordering:\n",
      "Chunk 1 with score: -5.933409690856934\n",
      "Chunk 2 with score: -6.739513397216797\n",
      "Chunk 3 with score: -6.935639381408691\n",
      "Chunk 4 with score: -7.093649387359619\n",
      "Chunk 5 with score: -7.290472030639648\n",
      "Chunk 6 with score: -7.37180233001709\n",
      "Chunk 7 with score: -7.429162979125977\n",
      "Chunk 8 with score: -7.452134609222412\n",
      "Chunk 9 with score: -7.600822448730469\n",
      "Chunk 10 with score: -7.731777191162109\n",
      "Chunk 11 with score: -7.958362102508545\n",
      "Chunk 12 with score: -8.000092506408691\n",
      "Chunk 13 with score: -8.023626327514648\n",
      "Chunk 14 with score: -8.039276123046875\n",
      "Chunk 15 with score: -8.078913688659668\n",
      "Chunk 16 with score: -8.111132621765137\n",
      "Chunk 17 with score: -8.12571907043457\n",
      "Chunk 18 with score: -8.152823448181152\n",
      "Chunk 19 with score: -8.204198837280273\n",
      "Chunk 20 with score: -8.21114730834961\n",
      "Chunk 21 with score: -8.212902069091797\n",
      "Chunk 22 with score: -8.266382217407227\n",
      "Chunk 23 with score: -8.30585765838623\n",
      "Chunk 24 with score: -8.321724891662598\n",
      "Chunk 25 with score: -8.32193374633789\n",
      "Chunk 26 with score: -8.338872909545898\n",
      "Chunk 27 with score: -8.394533157348633\n",
      "Chunk 28 with score: -8.415416717529297\n",
      "Chunk 29 with score: -8.442548751831055\n",
      "Chunk 30 with score: -8.520397186279297\n",
      "Chunk 31 with score: -8.560881614685059\n",
      "Chunk 32 with score: -8.603167533874512\n",
      "Chunk 33 with score: -8.618932723999023\n",
      "Chunk 34 with score: -8.70095157623291\n",
      "Chunk 35 with score: -8.733776092529297\n",
      "Chunk 36 with score: -8.742548942565918\n",
      "Chunk 37 with score: -8.759288787841797\n",
      "Chunk 38 with score: -8.771974563598633\n",
      "Chunk 39 with score: -8.777536392211914\n",
      "Chunk 40 with score: -8.831294059753418\n",
      "Chunk 41 with score: -8.859443664550781\n",
      "Chunk 42 with score: -8.897441864013672\n",
      "Chunk 43 with score: -8.928579330444336\n",
      "Chunk 44 with score: -9.039268493652344\n",
      "Chunk 45 with score: -9.072263717651367\n",
      "Chunk 46 with score: -9.103208541870117\n",
      "Chunk 47 with score: -9.139927864074707\n",
      "Chunk 48 with score: -9.15241813659668\n"
     ]
    }
   ],
   "source": [
    "# Combine scores with documents\n",
    "scored_documents = list(zip(scores, pairs))\n",
    "\n",
    "# Sort by scores in descending order\n",
    "scored_documents.sort(key=lambda x: x[0], reverse=True)\n",
    "\n",
    "print(\"New Chunk Ordering:\")\n",
    "for idx, (score, doc) in enumerate(scored_documents, start=1):\n",
    "    print(f\"Chunk {idx} with score: {score}\")"
   ]
  },
  {
   "cell_type": "markdown",
   "id": "cc712056",
   "metadata": {},
   "source": [
    "At this point during our dev phase we would want to use a human in the middle approach to see where the relavent number of chunks should be passed to the LLM. We started out with 60 chunks, we reduced around 10 as duplicate. Now we need to figure what a good cutoff score would be to add code to decied what to pass to the LLM."
   ]
  }
 ],
 "metadata": {
  "kernelspec": {
   "display_name": "3.11.9",
   "language": "python",
   "name": "python3"
  },
  "language_info": {
   "codemirror_mode": {
    "name": "ipython",
    "version": 3
   },
   "file_extension": ".py",
   "mimetype": "text/x-python",
   "name": "python",
   "nbconvert_exporter": "python",
   "pygments_lexer": "ipython3",
   "version": "3.11.9"
  }
 },
 "nbformat": 4,
 "nbformat_minor": 5
}
