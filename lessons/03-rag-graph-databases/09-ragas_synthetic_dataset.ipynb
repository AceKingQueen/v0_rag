{
 "cells": [
  {
   "cell_type": "markdown",
   "metadata": {},
   "source": [
    "# Building a test dataset\n",
    "## Introduction\n",
    "- To run test, it's important to have a test dataset.\n",
    "- We can use an LLM to generate a synthetic dataset.\n",
    "- Here's we'll use RAGAS to generate a synthetic dataset.\n",
    "## Installation"
   ]
  },
  {
   "cell_type": "markdown",
   "metadata": {},
   "source": [
    "https://docs.ragas.io/en/stable/getstarted/rag_testset_generation/#load-documents"
   ]
  },
  {
   "cell_type": "code",
   "execution_count": 1,
   "metadata": {},
   "outputs": [
    {
     "name": "stdout",
     "output_type": "stream",
     "text": [
      "\n",
      "\u001b[1m[\u001b[0m\u001b[34;49mnotice\u001b[0m\u001b[1;39;49m]\u001b[0m\u001b[39;49m A new release of pip is available: \u001b[0m\u001b[31;49m24.0\u001b[0m\u001b[39;49m -> \u001b[0m\u001b[32;49m25.0.1\u001b[0m\n",
      "\u001b[1m[\u001b[0m\u001b[34;49mnotice\u001b[0m\u001b[1;39;49m]\u001b[0m\u001b[39;49m To update, run: \u001b[0m\u001b[32;49mpip install --upgrade pip\u001b[0m\n",
      "Note: you may need to restart the kernel to use updated packages.\n"
     ]
    }
   ],
   "source": [
    "%pip install -q ragas langchain_openai langchain pypdf"
   ]
  },
  {
   "cell_type": "code",
   "execution_count": 2,
   "metadata": {},
   "outputs": [],
   "source": [
    "import sys\n",
    "sys.path.append('../..')"
   ]
  },
  {
   "cell_type": "markdown",
   "metadata": {},
   "source": [
    "## Setup embeddings and llm"
   ]
  },
  {
   "cell_type": "code",
   "execution_count": 9,
   "metadata": {},
   "outputs": [],
   "source": [
    "from ragas.llms import LangchainLLMWrapper\n",
    "from ragas.embeddings import LangchainEmbeddingsWrapper\n",
    "\n",
    "from langchain_openai import ChatOpenAI, OpenAIEmbeddings\n",
    "\n",
    "# Directly create instances of ChatOpenAI and OpenAIEmbeddings\n",
    "llm = ChatOpenAI(model=\"gpt-4o\")\n",
    "embeddings = OpenAIEmbeddings(model=\"text-embedding-3-small\")\n",
    "\n",
    "generator_llm = LangchainLLMWrapper(llm)\n",
    "generator_embeddings = LangchainEmbeddingsWrapper(embeddings)\n"
   ]
  },
  {
   "cell_type": "markdown",
   "metadata": {},
   "source": [
    "## Load and index the documents"
   ]
  },
  {
   "cell_type": "markdown",
   "metadata": {},
   "source": [
    "- Here we use a Webloader to load in some documents from the website."
   ]
  },
  {
   "cell_type": "code",
   "execution_count": null,
   "metadata": {},
   "outputs": [
    {
     "name": "stdout",
     "output_type": "stream",
     "text": [
      "25\n"
     ]
    }
   ],
   "source": [
    "from langchain.document_loaders import WebBaseLoader\n",
    "from langchain.text_splitter import RecursiveCharacterTextSplitter\n",
    "from typing import List\n",
    "\n",
    "# Load text from webpage\n",
    "web_url = \"https://docs.ragas.io/en/stable/\"\n",
    "\n",
    "loader = WebBaseLoader(web_url, show_progress=True, )\n",
    "data = loader.load()\n",
    "\n",
    "# Split text into documents\n",
    "text_splitter = RecursiveCharacterTextSplitter(chunk_size=500, chunk_overlap=0)\n",
    "documents  = text_splitter.split_documents(data)\n",
    "print(len(documents))"
   ]
  },
  {
   "cell_type": "markdown",
   "metadata": {},
   "source": [
    "- To handle PDF documents, we use the PyPDFLoader."
   ]
  },
  {
   "cell_type": "code",
   "execution_count": 5,
   "metadata": {},
   "outputs": [
    {
     "name": "stdout",
     "output_type": "stream",
     "text": [
      "PDF pages: 93\n",
      "Documents: 93\n"
     ]
    }
   ],
   "source": [
    "from langchain_community.document_loaders import PyPDFLoader\n",
    "pdf_url = \"data/papers/microsoft_annual_report_2022.pdf\"\n",
    "loader = PyPDFLoader(pdf_url)\n",
    "\n",
    "documents = []\n",
    "pages = []\n",
    "async for page in loader.alazy_load():\n",
    "    pages.append(page)\n",
    "\n",
    "print(\"PDF pages:\", len(pages))\n",
    "\n",
    "# Add PDF pages to the documents\n",
    "documents.extend(pages)\n",
    "print(\"Documents:\", len(documents))"
   ]
  },
  {
   "cell_type": "markdown",
   "metadata": {},
   "source": [
    "- Internally RAGAS uses `rapidfuzz` to calculate the string distance."
   ]
  },
  {
   "cell_type": "code",
   "execution_count": 6,
   "metadata": {},
   "outputs": [
    {
     "name": "stdout",
     "output_type": "stream",
     "text": [
      "\n",
      "\u001b[1m[\u001b[0m\u001b[34;49mnotice\u001b[0m\u001b[1;39;49m]\u001b[0m\u001b[39;49m A new release of pip is available: \u001b[0m\u001b[31;49m24.0\u001b[0m\u001b[39;49m -> \u001b[0m\u001b[32;49m25.0.1\u001b[0m\n",
      "\u001b[1m[\u001b[0m\u001b[34;49mnotice\u001b[0m\u001b[1;39;49m]\u001b[0m\u001b[39;49m To update, run: \u001b[0m\u001b[32;49mpip install --upgrade pip\u001b[0m\n",
      "Note: you may need to restart the kernel to use updated packages.\n"
     ]
    }
   ],
   "source": [
    "%pip install -q rapidfuzz"
   ]
  },
  {
   "cell_type": "code",
   "execution_count": 10,
   "metadata": {},
   "outputs": [
    {
     "name": "stderr",
     "output_type": "stream",
     "text": [
      "Applying HeadlineSplitter:   0%|          | 0/93 [00:00<?, ?it/s]           unable to apply transformation: 'headlines' property not found in this node\n",
      "unable to apply transformation: 'headlines' property not found in this node\n",
      "unable to apply transformation: 'headlines' property not found in this node\n",
      "unable to apply transformation: 'headlines' property not found in this node\n",
      "unable to apply transformation: 'headlines' property not found in this node\n",
      "unable to apply transformation: 'headlines' property not found in this node\n",
      "unable to apply transformation: 'headlines' property not found in this node\n",
      "unable to apply transformation: 'headlines' property not found in this node\n",
      "unable to apply transformation: 'headlines' property not found in this node\n",
      "unable to apply transformation: 'headlines' property not found in this node\n",
      "unable to apply transformation: 'headlines' property not found in this node\n",
      "unable to apply transformation: 'headlines' property not found in this node\n",
      "unable to apply transformation: 'headlines' property not found in this node\n",
      "unable to apply transformation: 'headlines' property not found in this node\n",
      "unable to apply transformation: 'headlines' property not found in this node\n",
      "unable to apply transformation: 'headlines' property not found in this node\n",
      "Applying SummaryExtractor:  49%|████▉     | 68/138 [00:21<00:28,  2.42it/s]Property 'summary' already exists in node '203984'. Skipping!\n",
      "Applying SummaryExtractor:  54%|█████▎    | 74/138 [00:22<00:14,  4.46it/s]Property 'summary' already exists in node '38ee81'. Skipping!\n",
      "Applying SummaryExtractor:  56%|█████▌    | 77/138 [00:22<00:13,  4.65it/s]Property 'summary' already exists in node 'b984d1'. Skipping!\n",
      "Applying SummaryExtractor:  57%|█████▋    | 79/138 [00:23<00:20,  2.85it/s]Property 'summary' already exists in node '48e535'. Skipping!\n",
      "Applying SummaryExtractor:  58%|█████▊    | 80/138 [00:23<00:17,  3.29it/s]Property 'summary' already exists in node '6b01bc'. Skipping!\n",
      "Property 'summary' already exists in node 'c1491e'. Skipping!\n",
      "Property 'summary' already exists in node '482b2f'. Skipping!\n",
      "Applying SummaryExtractor:  60%|██████    | 83/138 [00:24<00:11,  4.93it/s]Property 'summary' already exists in node 'f0416c'. Skipping!\n",
      "Applying SummaryExtractor:  62%|██████▏   | 85/138 [00:24<00:09,  5.45it/s]Property 'summary' already exists in node '1590e2'. Skipping!\n",
      "Applying SummaryExtractor:  62%|██████▏   | 86/138 [00:24<00:13,  3.96it/s]Property 'summary' already exists in node '00af09'. Skipping!\n",
      "Applying SummaryExtractor:  63%|██████▎   | 87/138 [00:25<00:18,  2.76it/s]Property 'summary' already exists in node 'c7edf7'. Skipping!\n",
      "Applying SummaryExtractor:  64%|██████▍   | 88/138 [00:25<00:15,  3.29it/s]Property 'summary' already exists in node '2951bf'. Skipping!\n",
      "Applying SummaryExtractor:  64%|██████▍   | 89/138 [00:25<00:12,  3.85it/s]Property 'summary' already exists in node 'f47558'. Skipping!\n",
      "Property 'summary' already exists in node '2ea1c5'. Skipping!\n",
      "Applying SummaryExtractor:  66%|██████▌   | 91/138 [00:26<00:13,  3.52it/s]Property 'summary' already exists in node '81ddc1'. Skipping!\n",
      "Applying SummaryExtractor:  67%|██████▋   | 92/138 [00:26<00:11,  3.87it/s]Property 'summary' already exists in node '0e129c'. Skipping!\n",
      "Applying SummaryExtractor:  67%|██████▋   | 93/138 [00:26<00:11,  3.93it/s]Property 'summary' already exists in node '21c1ab'. Skipping!\n",
      "Applying SummaryExtractor:  68%|██████▊   | 94/138 [00:27<00:09,  4.69it/s]Property 'summary' already exists in node '9d1e75'. Skipping!\n",
      "Applying SummaryExtractor:  69%|██████▉   | 95/138 [00:27<00:09,  4.76it/s]Property 'summary' already exists in node 'a27455'. Skipping!\n",
      "Applying SummaryExtractor:  70%|██████▉   | 96/138 [00:27<00:12,  3.39it/s]Property 'summary' already exists in node 'e73fa3'. Skipping!\n",
      "Property 'summary' already exists in node '91ed56'. Skipping!\n",
      "Applying SummaryExtractor:  71%|███████   | 98/138 [00:28<00:10,  3.91it/s]Property 'summary' already exists in node '8973f5'. Skipping!\n",
      "Applying SummaryExtractor:  72%|███████▏  | 99/138 [00:28<00:09,  4.00it/s]Property 'summary' already exists in node '104733'. Skipping!\n",
      "Property 'summary' already exists in node '69f080'. Skipping!\n",
      "Applying SummaryExtractor:  73%|███████▎  | 101/138 [00:28<00:09,  4.07it/s]Property 'summary' already exists in node '1074e5'. Skipping!\n",
      "Property 'summary' already exists in node '32c188'. Skipping!\n",
      "Applying SummaryExtractor:  75%|███████▍  | 103/138 [00:29<00:09,  3.72it/s]Property 'summary' already exists in node '76035d'. Skipping!\n",
      "Applying SummaryExtractor:  75%|███████▌  | 104/138 [00:30<00:10,  3.13it/s]Property 'summary' already exists in node 'a0ae8d'. Skipping!\n",
      "Property 'summary' already exists in node '1db785'. Skipping!\n",
      "Applying SummaryExtractor:  77%|███████▋  | 106/138 [00:30<00:11,  2.84it/s]Property 'summary' already exists in node 'a4c66b'. Skipping!\n",
      "Property 'summary' already exists in node 'aa92f0'. Skipping!\n",
      "Applying SummaryExtractor:  78%|███████▊  | 108/138 [00:31<00:09,  3.32it/s]Property 'summary' already exists in node '1b318d'. Skipping!\n",
      "Applying SummaryExtractor:  79%|███████▉  | 109/138 [00:31<00:08,  3.50it/s]Property 'summary' already exists in node '5522ee'. Skipping!\n",
      "Property 'summary' already exists in node 'b97a9e'. Skipping!\n",
      "Applying SummaryExtractor:  80%|████████  | 111/138 [00:31<00:05,  4.92it/s]Property 'summary' already exists in node '0a0a15'. Skipping!\n",
      "Property 'summary' already exists in node '3ddc51'. Skipping!\n",
      "Applying SummaryExtractor:  82%|████████▏ | 113/138 [00:31<00:04,  5.51it/s]Property 'summary' already exists in node 'b9e923'. Skipping!\n",
      "Property 'summary' already exists in node 'cbc2c4'. Skipping!\n",
      "Property 'summary' already exists in node '93d19d'. Skipping!\n",
      "Applying SummaryExtractor:  84%|████████▍ | 116/138 [00:32<00:03,  7.00it/s]Property 'summary' already exists in node '2ba628'. Skipping!\n",
      "Applying SummaryExtractor:  85%|████████▍ | 117/138 [00:32<00:04,  4.26it/s]Property 'summary' already exists in node 'df312a'. Skipping!\n",
      "Applying SummaryExtractor:  86%|████████▌ | 118/138 [00:33<00:06,  3.30it/s]Property 'summary' already exists in node 'c87cc7'. Skipping!\n",
      "Applying SummaryExtractor:  86%|████████▌ | 119/138 [00:34<00:07,  2.48it/s]Property 'summary' already exists in node 'c30b89'. Skipping!\n",
      "Applying SummaryExtractor:  87%|████████▋ | 120/138 [00:34<00:07,  2.26it/s]Property 'summary' already exists in node 'cebb26'. Skipping!\n",
      "Applying SummaryExtractor:  88%|████████▊ | 121/138 [00:34<00:06,  2.79it/s]Property 'summary' already exists in node 'abb77f'. Skipping!\n",
      "Applying SummaryExtractor:  88%|████████▊ | 122/138 [00:34<00:04,  3.37it/s]Property 'summary' already exists in node '6eab93'. Skipping!\n",
      "Applying SummaryExtractor:  89%|████████▉ | 123/138 [00:35<00:04,  3.67it/s]Property 'summary' already exists in node '83ac37'. Skipping!\n",
      "Applying SummaryExtractor:  90%|████████▉ | 124/138 [00:35<00:03,  4.24it/s]Property 'summary' already exists in node '36dc25'. Skipping!\n",
      "Applying SummaryExtractor:  91%|█████████ | 125/138 [00:35<00:03,  3.92it/s]Property 'summary' already exists in node '8a86fd'. Skipping!\n",
      "Applying SummaryExtractor:  91%|█████████▏| 126/138 [00:35<00:03,  3.69it/s]Property 'summary' already exists in node '9ee992'. Skipping!\n",
      "Applying SummaryExtractor:  92%|█████████▏| 127/138 [00:36<00:02,  4.15it/s]Property 'summary' already exists in node 'bab561'. Skipping!\n",
      "Applying SummaryExtractor:  93%|█████████▎| 128/138 [00:36<00:02,  3.76it/s]Property 'summary' already exists in node '2da557'. Skipping!\n",
      "Property 'summary' already exists in node '79419b'. Skipping!\n",
      "Applying SummaryExtractor:  94%|█████████▍| 130/138 [00:37<00:02,  3.45it/s]Property 'summary' already exists in node 'c60784'. Skipping!\n",
      "Applying SummaryExtractor:  95%|█████████▍| 131/138 [00:37<00:02,  2.65it/s]Property 'summary' already exists in node 'a543c6'. Skipping!\n",
      "Applying SummaryExtractor:  96%|█████████▌| 132/138 [00:38<00:02,  2.65it/s]Property 'summary' already exists in node '20f005'. Skipping!\n",
      "Applying SummaryExtractor:  96%|█████████▋| 133/138 [00:38<00:01,  3.04it/s]Property 'summary' already exists in node 'fa361c'. Skipping!\n",
      "Property 'summary' already exists in node '39d05e'. Skipping!\n",
      "Property 'summary' already exists in node '0623ae'. Skipping!\n",
      "Applying SummaryExtractor:  99%|█████████▊| 136/138 [00:38<00:00,  3.72it/s]Property 'summary' already exists in node '411475'. Skipping!\n",
      "Applying SummaryExtractor:  99%|█████████▉| 137/138 [00:39<00:00,  3.12it/s]Property 'summary' already exists in node '4b57ab'. Skipping!\n",
      "Applying [EmbeddingExtractor, ThemesExtractor, NERExtractor]:   0%|          | 0/202 [00:00<?, ?it/s]Property 'summary_embedding' already exists in node '203984'. Skipping!\n",
      "Property 'summary_embedding' already exists in node '48e535'. Skipping!\n",
      "Property 'summary_embedding' already exists in node '38ee81'. Skipping!\n",
      "Property 'summary_embedding' already exists in node '6b01bc'. Skipping!\n",
      "Property 'summary_embedding' already exists in node 'b984d1'. Skipping!\n",
      "Property 'summary_embedding' already exists in node '0e129c'. Skipping!\n",
      "Property 'summary_embedding' already exists in node '2951bf'. Skipping!\n",
      "Property 'summary_embedding' already exists in node '8973f5'. Skipping!\n",
      "Property 'summary_embedding' already exists in node 'f0416c'. Skipping!\n",
      "Property 'summary_embedding' already exists in node '1590e2'. Skipping!\n",
      "Property 'summary_embedding' already exists in node 'c1491e'. Skipping!\n",
      "Property 'summary_embedding' already exists in node '482b2f'. Skipping!\n",
      "Property 'summary_embedding' already exists in node '81ddc1'. Skipping!\n",
      "Property 'summary_embedding' already exists in node '00af09'. Skipping!\n",
      "Property 'summary_embedding' already exists in node 'c7edf7'. Skipping!\n",
      "Property 'summary_embedding' already exists in node 'f47558'. Skipping!\n",
      "Property 'summary_embedding' already exists in node '76035d'. Skipping!\n",
      "Property 'summary_embedding' already exists in node 'a27455'. Skipping!\n",
      "Property 'summary_embedding' already exists in node '21c1ab'. Skipping!\n",
      "Property 'summary_embedding' already exists in node '2ea1c5'. Skipping!\n",
      "Property 'summary_embedding' already exists in node '69f080'. Skipping!\n",
      "Property 'summary_embedding' already exists in node '9d1e75'. Skipping!\n",
      "Property 'summary_embedding' already exists in node 'e73fa3'. Skipping!\n",
      "Property 'summary_embedding' already exists in node '104733'. Skipping!\n",
      "Property 'summary_embedding' already exists in node '91ed56'. Skipping!\n",
      "Property 'summary_embedding' already exists in node 'a4c66b'. Skipping!\n",
      "Property 'summary_embedding' already exists in node '93d19d'. Skipping!\n",
      "Property 'summary_embedding' already exists in node '1074e5'. Skipping!\n",
      "Property 'summary_embedding' already exists in node 'b97a9e'. Skipping!\n",
      "Property 'summary_embedding' already exists in node '1db785'. Skipping!\n",
      "Property 'summary_embedding' already exists in node '32c188'. Skipping!\n",
      "Property 'summary_embedding' already exists in node 'cebb26'. Skipping!\n",
      "Property 'summary_embedding' already exists in node 'a0ae8d'. Skipping!\n",
      "Property 'summary_embedding' already exists in node '2ba628'. Skipping!\n",
      "Property 'summary_embedding' already exists in node 'aa92f0'. Skipping!\n",
      "Property 'summary_embedding' already exists in node '0a0a15'. Skipping!\n",
      "Property 'summary_embedding' already exists in node 'b9e923'. Skipping!\n",
      "Property 'summary_embedding' already exists in node '3ddc51'. Skipping!\n",
      "Property 'summary_embedding' already exists in node '5522ee'. Skipping!\n",
      "Property 'summary_embedding' already exists in node 'cbc2c4'. Skipping!\n",
      "Property 'summary_embedding' already exists in node '1b318d'. Skipping!\n",
      "Property 'summary_embedding' already exists in node 'df312a'. Skipping!\n",
      "Property 'summary_embedding' already exists in node 'c30b89'. Skipping!\n",
      "Property 'summary_embedding' already exists in node '83ac37'. Skipping!\n",
      "Property 'summary_embedding' already exists in node '36dc25'. Skipping!\n",
      "Property 'summary_embedding' already exists in node 'c87cc7'. Skipping!\n",
      "Property 'summary_embedding' already exists in node '39d05e'. Skipping!\n",
      "Property 'summary_embedding' already exists in node 'a543c6'. Skipping!\n",
      "Property 'summary_embedding' already exists in node 'abb77f'. Skipping!\n",
      "Property 'summary_embedding' already exists in node '2da557'. Skipping!\n",
      "Property 'summary_embedding' already exists in node '9ee992'. Skipping!\n",
      "Property 'summary_embedding' already exists in node '6eab93'. Skipping!\n",
      "Property 'summary_embedding' already exists in node '8a86fd'. Skipping!\n",
      "Property 'summary_embedding' already exists in node '20f005'. Skipping!\n",
      "Property 'summary_embedding' already exists in node '79419b'. Skipping!\n",
      "Property 'summary_embedding' already exists in node '0623ae'. Skipping!\n",
      "Property 'summary_embedding' already exists in node 'bab561'. Skipping!\n",
      "Property 'summary_embedding' already exists in node 'c60784'. Skipping!\n",
      "Property 'summary_embedding' already exists in node 'fa361c'. Skipping!\n",
      "Property 'summary_embedding' already exists in node '4b57ab'. Skipping!\n",
      "Property 'summary_embedding' already exists in node '411475'. Skipping!\n",
      "Generating personas: 100%|██████████| 3/3 [00:01<00:00,  2.18it/s]                                             \n",
      "Generating Scenarios: 100%|██████████| 3/3 [00:14<00:00,  4.84s/it]\n",
      "Generating Samples: 100%|██████████| 12/12 [00:05<00:00,  2.04it/s]\n"
     ]
    }
   ],
   "source": [
    "from ragas.testset import TestsetGenerator # type: ignore\n",
    "\n",
    "# Number of questions to generate\n",
    "testset_size = 10\n",
    "\n",
    "generator = TestsetGenerator(llm=generator_llm, embedding_model=generator_embeddings)\n",
    "dataset = generator.generate_with_langchain_docs(documents, testset_size=testset_size)"
   ]
  },
  {
   "cell_type": "markdown",
   "metadata": {},
   "source": [
    "## Show the generated dataset\n",
    "- We can see the `user_input` and the `reference` = answer.\n",
    "- It also indicates the `reference_contexts` that was used to generate the answer."
   ]
  },
  {
   "cell_type": "code",
   "execution_count": 11,
   "metadata": {},
   "outputs": [
    {
     "data": {
      "text/html": [
       "<style type=\"text/css\">\n",
       "#T_77ff8_row0_col0, #T_77ff8_row0_col1, #T_77ff8_row0_col2, #T_77ff8_row1_col0, #T_77ff8_row1_col1, #T_77ff8_row1_col2, #T_77ff8_row2_col0, #T_77ff8_row2_col1, #T_77ff8_row2_col2, #T_77ff8_row3_col0, #T_77ff8_row3_col1, #T_77ff8_row3_col2, #T_77ff8_row4_col0, #T_77ff8_row4_col1, #T_77ff8_row4_col2, #T_77ff8_row5_col0, #T_77ff8_row5_col1, #T_77ff8_row5_col2, #T_77ff8_row6_col0, #T_77ff8_row6_col1, #T_77ff8_row6_col2, #T_77ff8_row7_col0, #T_77ff8_row7_col1, #T_77ff8_row7_col2, #T_77ff8_row8_col0, #T_77ff8_row8_col1, #T_77ff8_row8_col2, #T_77ff8_row9_col0, #T_77ff8_row9_col1, #T_77ff8_row9_col2, #T_77ff8_row10_col0, #T_77ff8_row10_col1, #T_77ff8_row10_col2, #T_77ff8_row11_col0, #T_77ff8_row11_col1, #T_77ff8_row11_col2 {\n",
       "  text-align: left;\n",
       "}\n",
       "</style>\n",
       "<table id=\"T_77ff8\">\n",
       "  <thead>\n",
       "    <tr>\n",
       "      <th class=\"blank level0\" >&nbsp;</th>\n",
       "      <th id=\"T_77ff8_level0_col0\" class=\"col_heading level0 col0\" >user_input</th>\n",
       "      <th id=\"T_77ff8_level0_col1\" class=\"col_heading level0 col1\" >reference</th>\n",
       "      <th id=\"T_77ff8_level0_col2\" class=\"col_heading level0 col2\" >reference_contexts</th>\n",
       "    </tr>\n",
       "  </thead>\n",
       "  <tbody>\n",
       "    <tr>\n",
       "      <th id=\"T_77ff8_level0_row0\" class=\"row_heading level0 row0\" >0</th>\n",
       "      <td id=\"T_77ff8_row0_col0\" class=\"data row0 col0\" >What happening in Ukraine and how it affect Microsoft?</td>\n",
       "      <td id=\"T_77ff8_row0_col1\" class=\"data row0 col1\" >The war in Ukraine is ongoing, and it is part of the historic economic, societal, and geopolitical changes affecting the world. Microsoft is positioned at a historic intersection of opportunity and responsibility, with a mission to empower every person and organization to achieve more, especially during these uncertain times.</td>\n",
       "      <td id=\"T_77ff8_row0_col2\" class=\"data row0 col2\" >['1 Dear shareholders, colleagues, customers, and partners: We are living through a period of historic economic, societal, and geopolitical change. The world in 2022 looks nothing like the world in 2019. As I write this, inflation is at a 40 -year high, supply chains are stretched, and the war in Ukraine is ongoing. At the same time, we are entering a technological era with the potential to power awesome advancements across every sector of our economy and society. As the world’s largest software company, this places us at a historic intersection of opportunity and responsibility to the world around us. Our mission to empower every person and every organization on the planet to achieve more has never been more urgent or more necessary. For all the uncertainty in the world, one thing is clear: People and organizations in every industry are increasingly looking to digital technology to overcome today’s challenges and emerge stronger. And no company is better positioned to help them than Microsoft. Every day this past fiscal year I have had the privilege to witness our customers use our platforms and tools to connect what technology can do with what the world needs it to do. Here are just a few examples: • Ferrovial, which builds and manages some of the world’s busiest airports and highways, is using our cloud infrastructure to build safer roads as it prepares for a future of autonomous transportation. • Peace Parks Foundation, a nonprofit helping protect natural ecosystems in Southern Africa, is using Microsoft Dynamics 365 and Power BI to secure essential funding, as well as our Azure AI and IoT solutions to help rangers scale their park maintenance and wildlife crime prevention work. • One of the world’s largest robotics companies, Kawasaki Heavy Industries, is using the breadth of our tools — from Azure IoT and HoloLens—to create an industrial metaverse solution that brings its distributed workforce together with its network of connected equipment to improve productivity and keep employees safe. • Globo, the biggest media and TV company in Brazil, is using Power Platform to empower its employees to build their own solutions for everything from booking sets to setting schedules. • And Ørsted, which produces a quarter of the world’s wind energy, is using the Microsoft Intelligent Data Platform to turn data from its offshore turbines into insights for predictive maintenance. Amid this dynamic environment, we delivered record results in fiscal year 2022: We reported $198 billion in revenue and $83 billion in operating income. And the Microsoft Cloud surpassed $100 billion in annualized revenue for the first time. OUR RESPONSIBILITY As a corporation, our purpose and actions must be aligned with addressing the world’s problems, not creating new ones. At our very core, we need to deliver innovation that helps drive broad economic growth. We, as a company, will do well when the world around us does well. That’s what I believe will lead to widespread human progress and ultimately improve the lives of everyone. There is no more powerful input than digital technology to drive the world’s economic output. This is the core thesis for our being as a company, but it’s not enough. As we drive global economic growth, we must also commit to creating a more inclusive, equitable, sustainable, and trusted future.']</td>\n",
       "    </tr>\n",
       "    <tr>\n",
       "      <th id=\"T_77ff8_level0_row1\" class=\"row_heading level0 row1\" >1</th>\n",
       "      <td id=\"T_77ff8_row1_col0\" class=\"data row1 col0\" >What Impact Summary say about Microsoft progress?</td>\n",
       "      <td id=\"T_77ff8_row1_col1\" class=\"data row1 col1\" >Our annual Impact Summary shares more about our progress and learnings across our commitments to responsibly develop and use technologies like AI, and it provides detailed reports on our environmental data, political activities, workforce demographics, human rights work, and more.</td>\n",
       "      <td id=\"T_77ff8_row1_col2\" class=\"data row1 col2\" >['4 Our commitment to responsibly develop and use technologies like AI is core to who we are. We put our commitment into practice, not only within Microsoft but by empowering our customers and partners to do the same and by advocating for policy change. We released our Responsible AI Standard, which outlines 17 goals aligned to our six AI principles and includes tools and practices to support them. And we share our open -source tools, including the new Responsible AI Dashboard, to help developers building AI technologies identify and mitigate issues before deployment. Finally, we provide clear reporting and information on how we run our business and how we work with customers and partners, delivering the transparency that is central to trust. Our annual Impact Summary shares more about our progress and learnings across these four commitments, and our Reports Hub provides detailed reports on our environmental data, our political activities, our workforce demographics, our human rights work, and more. We should all be proud of this work —and I am. But it’s easy to talk about what we’re doing well. As we look to the next year and beyond, we’ll continue to reflect on where the world needs us to do better. OUR OPPORTUNITY Now, let me turn to how we are positioned to capture the massive opportunities ahead. Over the past few years, I’ve written extensively about digital transformation, but now we need to go beyond that to deliver on what I call the “digital imperative.” Technology is a deflationary force in an inflationary economy. Every organization in every industry will need to infuse technology into every business process and function so they can do more with less. It’s what I believe will make the difference between organizations that thrive and those that get left behind. In the coming years, technology as a percentage of GDP will double from 5% to 10% and beyond, as technology moves from a back -office cost center to a defining feature of every product and service. But even more important will be technology’s influence on the other 90% of the world’s economy. From communications and commerce, to logistics, financial services, energy, healthcare, and entertainment, digital technology will power the entire global economy as every company becomes a software company in its own right. Across our customer solution areas, we are delivering powerful platforms, tools, and services that expand our opportunity to help every organization in every industry deliver on the digital imperative —with a business model that is trusted and always aligned with their success. Apps and infrastructure We are building Azure as the world’s computer, with more than 60 datacenter regions —more than any other provider — delivering faster access to cloud services while addressing critical data residency requirements. With Azure Arc, we’re bringing Azure anywhere, meeting customers where they are and enabling them to run apps across on-premises, edge, or multicloud environments. And we’re extending our infrastructure to the 5G network edge with Azure for Operators, introducing new solutions to help telecom operators deliver ultra-low-latency services closer to end users. As the digital and physical worlds come together, we’re also leading in the industrial metaverse. From smart factories, to smart buildings, to smart cities, we’re helping organizations use Azure IoT, Azure Digital Twins, and Microsoft Mesh to digitize people, places, and things, in order to visualize, simulate, and analyze any business process.']</td>\n",
       "    </tr>\n",
       "    <tr>\n",
       "      <th id=\"T_77ff8_level0_row2\" class=\"row_heading level0 row2\" >2</th>\n",
       "      <td id=\"T_77ff8_row2_col0\" class=\"data row2 col0\" >What Microsoft do with data?</td>\n",
       "      <td id=\"T_77ff8_row2_col1\" class=\"data row2 col1\" >Microsoft provides a comprehensive data stack that includes best-in-class databases and analytics, as well as data governance, to help organizations turn their data into predictive and analytical power.</td>\n",
       "      <td id=\"T_77ff8_row2_col2\" class=\"data row2 col2\" >['Data and AI From best-in-class databases and analytics to data governance, we have the most comprehensive data stack to help every organization turn its data into predictive and analytical power. With our new Microsoft Intelligent Data']</td>\n",
       "    </tr>\n",
       "    <tr>\n",
       "      <th id=\"T_77ff8_level0_row3\" class=\"row_heading level0 row3\" >3</th>\n",
       "      <td id=\"T_77ff8_row3_col0\" class=\"data row3 col0\" >Cud yu pleese explane the role of Sektion 21E of the Sekurities Exchange Act of 1934 in the context of forward-looking statements?</td>\n",
       "      <td id=\"T_77ff8_row3_col1\" class=\"data row3 col1\" >Section 21E of the Securities Exchange Act of 1934 is referenced in the context of forward-looking statements, which include estimates, projections, and statements relating to business plans, objectives, and expected operating results. These statements are identified by terms like 'believe,' 'project,' 'expect,' and similar expressions, and are based on current expectations and assumptions subject to risks and uncertainties that may cause actual results to differ materially.</td>\n",
       "      <td id=\"T_77ff8_row3_col2\" class=\"data row3 col2\" >['11 Note About Forward-Looking Statements This report includes estimates, projections, statements relating to our business plans, objectives, and expected operating results that are “forward -looking statements” within the meaning of the Private Securities Litigation Reform Act of 1995, Section 27A of the Securities Act of 1933, and Section 21E of the Securities Exchange Act of 1934. Forward -looking statements may appear throughout this report, including the following sections: “Business” in our fiscal year 2022 Form 10-K and “Management’s Discussion and Analysis of Financial Condition and Results of Operations” in our fiscal year 2022 Form 10 -K. These forward -looking statements generally are identified by the words “believe,” “project,” “expect,” “anticipate,” “estimate,” “intend,” “strategy,” “future,” “opportunity,” “plan,” “may,” “should,” “will,” “would,” “will be,” “will continue,” “will likely result,” and similar expressions. Forward -looking statements are based on current expectations and assumptions that are subject to risks and uncertainties that may cause actual results to differ materially. We describe risks and uncertainties that could cause actual results and events to differ materially in “Risk Factors,” “Management’s Discussion and Analysis of Financial Condition and Results of Operations,” and “Quantitative and Qualitative Disclosures about Market Risk\" in our fiscal year 2022 Form 10 -K. Readers are cautioned not to place undue reliance on forward - looking statements, which speak only as of the date they are made. We undertake no obligation to update or revise publicly any forward-looking statements, whether because of new information, future events, or otherwise. BUSINESS GENERAL Embracing Our Future Microsoft is a technology company whose mission is to empower every person and every organization on the planet to achieve more. We strive to create local opportunity, growth, and impact in every country around the world. Our platforms and tools help drive small business productivity, large business competitiveness, and public -sector efficiency. We are creating the tools and platforms that deliver better, faster, and more effective solutions to support new startups, improve educational and health outcomes, and empower human ingenuity. Microsoft is innovating and expanding our entire portfolio to help people and organizations overcome today’s challenges and emerge stronger. We bring technology and products together into experiences and solutions that unlock value for our customers. In a dynamic environment, digital technology is the key input that powers the world’s economic output. Our ecosystem of customers and partners have learned that while hybrid work is complex, embracing flexibility, different work styles, and a culture of trust can help navigate the challenges the world faces today. Organizations of all sizes have digitized business - critical functions, redefining what they can expect from their business applications. Customers are looking to unlock value while simplifying security and management. From infrastructure and data, to business applications and collaboration, we provide unique, differentiated value to customers. We are building a distributed computing fabric – across cloud and the edge – to help every organization build, run, and manage mission-critical workloads anywhere. In the next phase of innovation, artificial intelligence (“AI”) capabilities are rapidly advancing, fueled by data and knowledge of the world. We are enabling metaverse experiences at all layers of our stack, so customers can more effectively model, automate, simulate, and predict changes within their industrial environments, feel a greater sense of presence in the new world of hybrid work, and create custom immersive worlds to enable new opportunities for connection and experimentation.']</td>\n",
       "    </tr>\n",
       "    <tr>\n",
       "      <th id=\"T_77ff8_level0_row4\" class=\"row_heading level0 row4\" >4</th>\n",
       "      <td id=\"T_77ff8_row4_col0\" class=\"data row4 col0\" >How does Microsoft integrate AI principles and standards to drive economic change and ensure responsible development?</td>\n",
       "      <td id=\"T_77ff8_row4_col1\" class=\"data row4 col1\" >Microsoft integrates AI principles and standards to drive economic change and ensure responsible development by releasing its Responsible AI Standard, which outlines 17 goals aligned with six AI principles. This includes tools and practices to support these principles, such as the Responsible AI Dashboard, which helps developers identify and mitigate issues before deployment. Additionally, Microsoft empowers its customers and partners to adopt these standards and advocates for policy change, ensuring that technology acts as a deflationary force in an inflationary economy. This approach aligns with Microsoft's mission to drive broad economic growth while committing to a more inclusive, equitable, sustainable, and trusted future.</td>\n",
       "      <td id=\"T_77ff8_row4_col2\" class=\"data row4 col2\" >['<1-hop>\\n\\n1 Dear shareholders, colleagues, customers, and partners: We are living through a period of historic economic, societal, and geopolitical change. The world in 2022 looks nothing like the world in 2019. As I write this, inflation is at a 40 -year high, supply chains are stretched, and the war in Ukraine is ongoing. At the same time, we are entering a technological era with the potential to power awesome advancements across every sector of our economy and society. As the world’s largest software company, this places us at a historic intersection of opportunity and responsibility to the world around us. Our mission to empower every person and every organization on the planet to achieve more has never been more urgent or more necessary. For all the uncertainty in the world, one thing is clear: People and organizations in every industry are increasingly looking to digital technology to overcome today’s challenges and emerge stronger. And no company is better positioned to help them than Microsoft. Every day this past fiscal year I have had the privilege to witness our customers use our platforms and tools to connect what technology can do with what the world needs it to do. Here are just a few examples: • Ferrovial, which builds and manages some of the world’s busiest airports and highways, is using our cloud infrastructure to build safer roads as it prepares for a future of autonomous transportation. • Peace Parks Foundation, a nonprofit helping protect natural ecosystems in Southern Africa, is using Microsoft Dynamics 365 and Power BI to secure essential funding, as well as our Azure AI and IoT solutions to help rangers scale their park maintenance and wildlife crime prevention work. • One of the world’s largest robotics companies, Kawasaki Heavy Industries, is using the breadth of our tools — from Azure IoT and HoloLens—to create an industrial metaverse solution that brings its distributed workforce together with its network of connected equipment to improve productivity and keep employees safe. • Globo, the biggest media and TV company in Brazil, is using Power Platform to empower its employees to build their own solutions for everything from booking sets to setting schedules. • And Ørsted, which produces a quarter of the world’s wind energy, is using the Microsoft Intelligent Data Platform to turn data from its offshore turbines into insights for predictive maintenance. Amid this dynamic environment, we delivered record results in fiscal year 2022: We reported $198 billion in revenue and $83 billion in operating income. And the Microsoft Cloud surpassed $100 billion in annualized revenue for the first time. OUR RESPONSIBILITY As a corporation, our purpose and actions must be aligned with addressing the world’s problems, not creating new ones. At our very core, we need to deliver innovation that helps drive broad economic growth. We, as a company, will do well when the world around us does well. That’s what I believe will lead to widespread human progress and ultimately improve the lives of everyone. There is no more powerful input than digital technology to drive the world’s economic output. This is the core thesis for our being as a company, but it’s not enough. As we drive global economic growth, we must also commit to creating a more inclusive, equitable, sustainable, and trusted future.', '<2-hop>\\n\\n4 Our commitment to responsibly develop and use technologies like AI is core to who we are. We put our commitment into practice, not only within Microsoft but by empowering our customers and partners to do the same and by advocating for policy change. We released our Responsible AI Standard, which outlines 17 goals aligned to our six AI principles and includes tools and practices to support them. And we share our open -source tools, including the new Responsible AI Dashboard, to help developers building AI technologies identify and mitigate issues before deployment. Finally, we provide clear reporting and information on how we run our business and how we work with customers and partners, delivering the transparency that is central to trust. Our annual Impact Summary shares more about our progress and learnings across these four commitments, and our Reports Hub provides detailed reports on our environmental data, our political activities, our workforce demographics, our human rights work, and more. We should all be proud of this work —and I am. But it’s easy to talk about what we’re doing well. As we look to the next year and beyond, we’ll continue to reflect on where the world needs us to do better. OUR OPPORTUNITY Now, let me turn to how we are positioned to capture the massive opportunities ahead. Over the past few years, I’ve written extensively about digital transformation, but now we need to go beyond that to deliver on what I call the “digital imperative.” Technology is a deflationary force in an inflationary economy. Every organization in every industry will need to infuse technology into every business process and function so they can do more with less. It’s what I believe will make the difference between organizations that thrive and those that get left behind. In the coming years, technology as a percentage of GDP will double from 5% to 10% and beyond, as technology moves from a back -office cost center to a defining feature of every product and service. But even more important will be technology’s influence on the other 90% of the world’s economy. From communications and commerce, to logistics, financial services, energy, healthcare, and entertainment, digital technology will power the entire global economy as every company becomes a software company in its own right. Across our customer solution areas, we are delivering powerful platforms, tools, and services that expand our opportunity to help every organization in every industry deliver on the digital imperative —with a business model that is trusted and always aligned with their success. Apps and infrastructure We are building Azure as the world’s computer, with more than 60 datacenter regions —more than any other provider — delivering faster access to cloud services while addressing critical data residency requirements. With Azure Arc, we’re bringing Azure anywhere, meeting customers where they are and enabling them to run apps across on-premises, edge, or multicloud environments. And we’re extending our infrastructure to the 5G network edge with Azure for Operators, introducing new solutions to help telecom operators deliver ultra-low-latency services closer to end users. As the digital and physical worlds come together, we’re also leading in the industrial metaverse. From smart factories, to smart buildings, to smart cities, we’re helping organizations use Azure IoT, Azure Digital Twins, and Microsoft Mesh to digitize people, places, and things, in order to visualize, simulate, and analyze any business process.']</td>\n",
       "    </tr>\n",
       "    <tr>\n",
       "      <th id=\"T_77ff8_level0_row5\" class=\"row_heading level0 row5\" >5</th>\n",
       "      <td id=\"T_77ff8_row5_col0\" class=\"data row5 col0\" >How Microsoft use data and AI for responsible AI development and what tools they provide?</td>\n",
       "      <td id=\"T_77ff8_row5_col1\" class=\"data row5 col1\" >Microsoft is committed to responsibly developing and using AI technologies, which is a core part of their identity. They have released the Responsible AI Standard, which outlines 17 goals aligned with their six AI principles, and includes tools and practices to support these goals. To aid developers in identifying and mitigating issues before deployment, Microsoft shares open-source tools, including the new Responsible AI Dashboard. Additionally, Microsoft provides comprehensive data solutions, from best-in-class databases and analytics to data governance, to help organizations turn their data into predictive and analytical power. This approach ensures that AI development is responsible and aligned with their commitment to transparency and trust.</td>\n",
       "      <td id=\"T_77ff8_row5_col2\" class=\"data row5 col2\" >['<1-hop>\\n\\n4 Our commitment to responsibly develop and use technologies like AI is core to who we are. We put our commitment into practice, not only within Microsoft but by empowering our customers and partners to do the same and by advocating for policy change. We released our Responsible AI Standard, which outlines 17 goals aligned to our six AI principles and includes tools and practices to support them. And we share our open -source tools, including the new Responsible AI Dashboard, to help developers building AI technologies identify and mitigate issues before deployment. Finally, we provide clear reporting and information on how we run our business and how we work with customers and partners, delivering the transparency that is central to trust. Our annual Impact Summary shares more about our progress and learnings across these four commitments, and our Reports Hub provides detailed reports on our environmental data, our political activities, our workforce demographics, our human rights work, and more. We should all be proud of this work —and I am. But it’s easy to talk about what we’re doing well. As we look to the next year and beyond, we’ll continue to reflect on where the world needs us to do better. OUR OPPORTUNITY Now, let me turn to how we are positioned to capture the massive opportunities ahead. Over the past few years, I’ve written extensively about digital transformation, but now we need to go beyond that to deliver on what I call the “digital imperative.” Technology is a deflationary force in an inflationary economy. Every organization in every industry will need to infuse technology into every business process and function so they can do more with less. It’s what I believe will make the difference between organizations that thrive and those that get left behind. In the coming years, technology as a percentage of GDP will double from 5% to 10% and beyond, as technology moves from a back -office cost center to a defining feature of every product and service. But even more important will be technology’s influence on the other 90% of the world’s economy. From communications and commerce, to logistics, financial services, energy, healthcare, and entertainment, digital technology will power the entire global economy as every company becomes a software company in its own right. Across our customer solution areas, we are delivering powerful platforms, tools, and services that expand our opportunity to help every organization in every industry deliver on the digital imperative —with a business model that is trusted and always aligned with their success. Apps and infrastructure We are building Azure as the world’s computer, with more than 60 datacenter regions —more than any other provider — delivering faster access to cloud services while addressing critical data residency requirements. With Azure Arc, we’re bringing Azure anywhere, meeting customers where they are and enabling them to run apps across on-premises, edge, or multicloud environments. And we’re extending our infrastructure to the 5G network edge with Azure for Operators, introducing new solutions to help telecom operators deliver ultra-low-latency services closer to end users. As the digital and physical worlds come together, we’re also leading in the industrial metaverse. From smart factories, to smart buildings, to smart cities, we’re helping organizations use Azure IoT, Azure Digital Twins, and Microsoft Mesh to digitize people, places, and things, in order to visualize, simulate, and analyze any business process.', '<2-hop>\\n\\nData and AI From best-in-class databases and analytics to data governance, we have the most comprehensive data stack to help every organization turn its data into predictive and analytical power. With our new Microsoft Intelligent Data']</td>\n",
       "    </tr>\n",
       "    <tr>\n",
       "      <th id=\"T_77ff8_level0_row6\" class=\"row_heading level0 row6\" >6</th>\n",
       "      <td id=\"T_77ff8_row6_col0\" class=\"data row6 col0\" >How is Microsoft promoting diversity and inclusion through its investment strategies and community initiatives, and what impact does this have on representation and inclusion within the company and beyond?</td>\n",
       "      <td id=\"T_77ff8_row6_col1\" class=\"data row6 col1\" >Microsoft is promoting diversity and inclusion by making a $150 million investment to strengthen inclusion and double the number of Black, African American, Hispanic, and Latinx leaders in the United States by 2025. The company collaborates with partners and communities to launch and scale projects such as the Justice Reform Initiative, expanding access to affordable broadband and devices, and increasing technology support for nonprofits serving Black and African American communities. Microsoft has made significant progress, reaching 90 percent of its goal to double the number of Black and African American leaders and 50 percent for Hispanic and Latinx leaders in the U.S. Additionally, Microsoft has increased its transaction volumes with Black- and African American-owned financial institutions and enriched its supplier pipeline, nearing its goal to spend $500 million with Black and African American-owned suppliers. These efforts are part of a broader commitment to leverage resources to accelerate diversity and inclusion across its ecosystem, holding the company accountable for driving change both within Microsoft and in the wider community.</td>\n",
       "      <td id=\"T_77ff8_row6_col2\" class=\"data row6 col2\" >['<1-hop>\\n\\n18 Total Rewards We develop dynamic, sustainable, market-driven, and strategic programs with the goal of providing a highly differentiated portfolio to attract, reward, and retain top talent and enable our employees to thrive. These programs reinforce our culture and values such as collaboration and growth mindset. Managers evaluate and recommend rewards based on, for example, how well we leverage the work of others and contribute to the success of our colleagues. We monitor pay equity and career progress across multiple dimensions. As part of our effort to promote a One Microsoft and inclusive culture, in fiscal year 2021 we expanded stock eligibility to all Microsoft employees as part of our annual rewards process. This includes all non -exempt and exempt employees and equivalents across the globe including business support professionals and datacenter and retail employees. In response to the Great Reshuffle, in fiscal year 2022 we announced a sizable investment in annual merit and annual stock award opportunity for all employees below senior executive levels. We also invested in base salary adjustments for our datacenter and retail hourly employees and hourly equivalents outside the U.S. These investments have supported retention and help to ensure that Microsoft remains an employer of choice. Pay Equity In our 2021 Diversity and Inclusion Report, we reported that all racial and ethnic minority employees in the U.S. combined earn $1.006 for every $1.000 earned by their white counterparts, that women in the U.S. earn $1.002 for every $1.000 earned by their counterparts in the U.S. who are men, and women in the U.S. plus our twelve other largest employee geographies representing 86.6% of our global population (Australia, Canada, China, France, Germany, India, Ireland, Israel, Japan, Romania, Singapore, and the United Kingdom) combined earn $1.001 for every $1.000 by men in these countries. Our intended result is a global performance and development approach that fosters our culture, and competitive compensation that ensures equitable pay by role while supporting pay for performance. Wellness and Safety Microsoft is committed to supporting our employees’ well -being and safety while they are at work and in their personal lives. We took a wide variety of measures to protect the health and well -being of our employees, suppliers, and customers during the COVID -19 pandemic and are now supporting employees in shifting to return to office and/or hybrid arrangements. We developed hybrid guidelines for managers and employees to support the transition and continue to identify ways we can support hybrid work scenarios through our employee listening systems. We have invested significantly in holistic wellbeing, and offer a differentiated benefits package which includes many physical, emotional, and financial wellness programs including counseling through the Microsoft CARES Employee Assistance Program, mental wellbeing support, flexible fitness benefits, savings and investment tools, adoption assistance, and back-up care for children and elders. Finally, our Occupational Health and Safety program helps ensure employees can stay safe while they are working. We continue to strive to support our Ukrainian employees and their dependents during the Ukraine crisis with emergency relocation assistance, emergency leave, and other benefits.', '<2-hop>\\n\\n16 • Increasing representation and strengthening inclusion: build on our momentum, adding a $150 million investment to strengthen inclusion and double the number of Black, African American, Hispanic, and Latinx leaders in the United States by 2025. Over the last year, we collaborated with partners and worked within neighborhoods and communities to launch and scale a number of projects and programs, including: working with 70 organizations in 145 communities on the Justice Reform Initiative, expanding access to affordable broadband and devices for Black and African American communities and key institutions that support them in major urban centers, expanding access to skills and education to support Black and African American students and adults to succeed in the digital economy, and increasing technology support for nonprofits that provide critical services to Black and African American communities. We have made meaningful progress on representation and inclusion at Microsoft. We are 90 percent of the way to our 2025 commitment to double the number of Black and African American people managers, senior individual contributors, and senior leaders in the U.S., and 50 percent of the way for Hispanic and Latinx people managers, senior individual contributors, and senior leaders in the U.S. We exceeded our goal on increasing the percentage of transaction volumes with Black - and African American -owned financial institutions and increased our deposits with Black - and African American-owned minority depository institutions, enabling increased funds into local communities. Additionally, we enriched our supplier pipeline, reaching more than 90 percent of our goal to spend $500 million with double the number of Black and African American -owned suppliers. We also increased the number of identified partners in the Black Partner Growth Initiative and continue to invest in the partner community through the Black Channel Partner Alliance by supporting events focused on business growth, accelerators, and mentorship. Progress does not undo the egregious injustices of the past or diminish those who continue to live with inequity. We are committed to leveraging our resources to help accelerate diversity and inclusion across our ecosystem and to hold ourselves accountable to accelerate change – for Microsoft, and beyond. Investing in Digital Skills The COVID-19 pandemic led to record unemployment, disrupting livelihoods of people around the world. After helping over 30 million people in 249 countries and territories with our global skills initiative, we introduced a new initiative to support a more skills -based labor market, with greater flexibility and accessible learning paths to develop the right skills needed for the most in-demand jobs. Our skills initiative brings together learning resources, certification opportunities, and job-seeker tools from LinkedIn, GitHub, and Microsoft Learn, and is built on data insights drawn from LinkedIn’s Economic Graph. We previously invested $20 million in key non -profit partnerships through Microsoft Philanthropies to help people from underserved communities that are often excluded by the digital economy. We also launched a national campaign with U.S. community colleges to help skill and recruit into the cybersecurity workforce 250,000 people by 2025, representing half of the country’s workforce shortage. To that end, we are making curriculum available free of charge to all of the nation’s public community colleges, providing training for new and existing faculty at 150 community colleges, and providing scholarships and supplemental resources to 25,000 students.']</td>\n",
       "    </tr>\n",
       "    <tr>\n",
       "      <th id=\"T_77ff8_level0_row7\" class=\"row_heading level0 row7\" >7</th>\n",
       "      <td id=\"T_77ff8_row7_col0\" class=\"data row7 col0\" >How does Microsoft integrate responsible AI development with data management to support business strategies?</td>\n",
       "      <td id=\"T_77ff8_row7_col1\" class=\"data row7 col1\" >Microsoft integrates responsible AI development with data management by releasing their Responsible AI Standard, which outlines goals aligned with AI principles and includes tools and practices to support them. They provide open-source tools like the Responsible AI Dashboard to help developers identify and mitigate issues before deployment. Additionally, Microsoft offers a comprehensive data stack, including best-in-class databases and analytics, to help organizations turn data into predictive and analytical power, thereby supporting business strategies.</td>\n",
       "      <td id=\"T_77ff8_row7_col2\" class=\"data row7 col2\" >['<1-hop>\\n\\n4 Our commitment to responsibly develop and use technologies like AI is core to who we are. We put our commitment into practice, not only within Microsoft but by empowering our customers and partners to do the same and by advocating for policy change. We released our Responsible AI Standard, which outlines 17 goals aligned to our six AI principles and includes tools and practices to support them. And we share our open -source tools, including the new Responsible AI Dashboard, to help developers building AI technologies identify and mitigate issues before deployment. Finally, we provide clear reporting and information on how we run our business and how we work with customers and partners, delivering the transparency that is central to trust. Our annual Impact Summary shares more about our progress and learnings across these four commitments, and our Reports Hub provides detailed reports on our environmental data, our political activities, our workforce demographics, our human rights work, and more. We should all be proud of this work —and I am. But it’s easy to talk about what we’re doing well. As we look to the next year and beyond, we’ll continue to reflect on where the world needs us to do better. OUR OPPORTUNITY Now, let me turn to how we are positioned to capture the massive opportunities ahead. Over the past few years, I’ve written extensively about digital transformation, but now we need to go beyond that to deliver on what I call the “digital imperative.” Technology is a deflationary force in an inflationary economy. Every organization in every industry will need to infuse technology into every business process and function so they can do more with less. It’s what I believe will make the difference between organizations that thrive and those that get left behind. In the coming years, technology as a percentage of GDP will double from 5% to 10% and beyond, as technology moves from a back -office cost center to a defining feature of every product and service. But even more important will be technology’s influence on the other 90% of the world’s economy. From communications and commerce, to logistics, financial services, energy, healthcare, and entertainment, digital technology will power the entire global economy as every company becomes a software company in its own right. Across our customer solution areas, we are delivering powerful platforms, tools, and services that expand our opportunity to help every organization in every industry deliver on the digital imperative —with a business model that is trusted and always aligned with their success. Apps and infrastructure We are building Azure as the world’s computer, with more than 60 datacenter regions —more than any other provider — delivering faster access to cloud services while addressing critical data residency requirements. With Azure Arc, we’re bringing Azure anywhere, meeting customers where they are and enabling them to run apps across on-premises, edge, or multicloud environments. And we’re extending our infrastructure to the 5G network edge with Azure for Operators, introducing new solutions to help telecom operators deliver ultra-low-latency services closer to end users. As the digital and physical worlds come together, we’re also leading in the industrial metaverse. From smart factories, to smart buildings, to smart cities, we’re helping organizations use Azure IoT, Azure Digital Twins, and Microsoft Mesh to digitize people, places, and things, in order to visualize, simulate, and analyze any business process.', '<2-hop>\\n\\nData and AI From best-in-class databases and analytics to data governance, we have the most comprehensive data stack to help every organization turn its data into predictive and analytical power. With our new Microsoft Intelligent Data']</td>\n",
       "    </tr>\n",
       "    <tr>\n",
       "      <th id=\"T_77ff8_level0_row8\" class=\"row_heading level0 row8\" >8</th>\n",
       "      <td id=\"T_77ff8_row8_col0\" class=\"data row8 col0\" >How revenue from SA and cloud services like Office 365 is recognized, and what role does judgment play in determining SSP for these services?</td>\n",
       "      <td id=\"T_77ff8_row8_col1\" class=\"data row8 col1\" >Revenue from Software Assurance (SA) is generally recognized ratably over the contract period as customers simultaneously consume and receive benefits, given that SA comprises distinct performance obligations that are satisfied over time. For cloud services like Office 365, which depend on a significant level of integration, interdependency, and interrelation between desktop applications and cloud services, revenue is recognized ratably over the period in which the cloud services are provided. Judgment plays a crucial role in determining the Standalone Selling Price (SSP) for each distinct performance obligation. This includes using a single amount to estimate SSP for items not sold separately, such as on-premises licenses sold with SA, and using a range of amounts to estimate SSP when products and services are sold separately. Judgment is also required to assess the pattern of delivery and the exercise pattern of certain benefits across the customer portfolio.</td>\n",
       "      <td id=\"T_77ff8_row8_col2\" class=\"data row8 col2\" >['<1-hop>\\n\\n53 Service and other revenue includes sales from cloud -based solutions that provide customers with software, services, platforms, and content such as Office 365, Azure, Dynamics 365, and Xbox; solution support; and consulting services. Service and other revenue also includes sales from online advertising and LinkedIn. Revenue Recognition Revenue is recognized upon transfer of control of promised products or services to customers in an amount that reflects the consideration we expect to receive in exchange for those products or services. We enter into contracts that can include various combinations of products and services, which are generally capable of being distinct and accounted for as separate performance obligations. Revenue is recognized net of allowances for returns and any taxes collected from customers, which are subsequently remitted to governmental authorities. Nature of Products and Services Licenses for on-premises software provide the customer with a right to use the software as it exists when made available to the customer. Customers may purchase perpetual licenses or subscribe to licenses, which provide customers with the same functionality and differ mainly in the duration over which the customer benefits from the software. Revenue from distinct on -premises licenses is recognized upfront at the point in time when the software is made available to the customer. In cases where we allocate revenue to software updates, primarily because the updates are provided at no additional charge, revenue is recognized as the updates are provided, which is generally ratably over the estimated life of the related device or license. Certain volume licensing programs, including Enterprise Agreements, include on -premises licenses combined with Software Assurance (“SA”). SA conveys rights to new software and upgrades released over the contract period and provides support, tools, and training to help customers deploy and use products more efficiently. On -premises licenses are considered distinct performance obligations when sold with SA. Revenue allocated to SA is generally recognized ratably over the contract period as customers simultaneously consume and receive benefits, given that SA comprises distinct performance obligations that are satisfied over time. Cloud services, which allow customers to use hosted software over the contract period without taking possession of the software, are provided on either a subscription or consumption basis. Revenue related to cloud services provided on a subscription basis is recognized ratably over the contract period. Revenue related to cloud services provided on a consumption basis, such as the amount of storage used in a period, is recognized based on the customer utilization of such resources. When cloud services require a significant level of integration and interdependency with software and the individual components are not considered distinct, all revenue is recognized over the period in which the cloud services are provided. Revenue from search advertising is recognized when the advertisement appears in the search results or when the action necessary to earn the revenue has been completed. Revenue from consulting services is recognized as services are provided. Our hardware is generally highly dependent on, and interrelated with, the underlying operating system and cannot function without the operating system. In these cases, the hardware and software license are accounted for as a single performance obligation and revenue is recognized at the point in time when ownership is transferred to resellers or directly to end customers through retail stores and online marketplaces. Refer to Note 19 – Segment Information and Geographic Data for further information, including revenue by significant product and service offering.', '<2-hop>\\n\\n54 accounted for separately versus together may require significant judgment. When a cloud-based service includes both on- premises software licenses and cloud services, judgment is required to determine whether the software license is considered distinct and accounted for separately, or not distinct and accounted for together with the cloud service and recognized over time. Certain cloud services, primarily Office 365, depend on a significant level of integration, interdependency, and interrelation between the desktop applications and cloud services, and are accounted for together as one performance obligation. Revenue from Office 365 is recognized ratably over the period in which the cloud services are provided. Judgment is required to determine the SSP for each distinct performance obligation. We use a single amount to estimate SSP for items that are not sold separately, including on -premises licenses sold with SA or software updates provided at no additional charge. We use a range of amounts to estimate SSP when we sell each of the products and services separately and need to determine whether there is a discount to be allocated based on the relative SSP of the various products and services. In instances where SSP is not directly observable, such as when we do not sell the product or service separately, we determine the SSP using information that may include market conditions and other observable inputs. We typically have more than one SSP for individual products and services due to the stratification of those products and services by customers and circumstances. In these instances, we may use information such as the size of the customer and geographic region in determining the SSP. Due to the various benefits from and the nature of our SA program, judgment is required to assess the pattern of delivery, including the exercise pattern of certain benefits across our portfolio of customers. Our products are generally sold with a right of return, we may provide other credits or incentives, and in certain instances we estimate customer usage of our products and services, which are accounted for as variable consideration when determining the amount of revenue to recognize. Returns and credits are estimated at contract inception and updated at the end of each reporting period if additional information becomes available. Changes to our estimated variable consideration were not material for the periods presented. Contract Balances and Other Receivables Timing of revenue recognition may differ from the timing of invoicing to customers. We record a receivable when revenue is recognized prior to invoicing, or unearned revenue when revenue is recognized subsequent to invoicing. For multi -year agreements, we generally invoice customers annually at the beginning of each annual coverage period. We record a receivable related to revenue recognized for multi -year on-premises licenses as we have an unconditional right to invoice and receive payment in the future related to those licenses. Unearned revenue comprises mainly unearned revenue related to volume licensing programs, which may include SA and cloud services. Unearned revenue is generally invoiced annually at the beginning of each contract period for multi -year agreements and recognized ratably over the coverage period. Unearned revenue also includes payments for consulting services to be performed in the future, LinkedIn subscriptions, Office 365 subscriptions, Xbox subscriptions, Windows post-delivery support, Dynamics business solutions, and other offerings for which we have been paid in advance and earn the revenue when we transfer control of the product or service. Refer to Note 13 –']</td>\n",
       "    </tr>\n",
       "    <tr>\n",
       "      <th id=\"T_77ff8_level0_row9\" class=\"row_heading level0 row9\" >9</th>\n",
       "      <td id=\"T_77ff8_row9_col0\" class=\"data row9 col0\" >How does the integration of on-premises software licenses with cloud services, such as Office 365, affect revenue recognition and the determination of stand-alone selling price (SSP) in Microsoft's SA program?</td>\n",
       "      <td id=\"T_77ff8_row9_col1\" class=\"data row9 col1\" >The integration of on-premises software licenses with cloud services, such as Office 365, affects revenue recognition by requiring significant judgment to determine whether the software license is distinct and accounted for separately or not distinct and accounted for together with the cloud service. Office 365, which depends on a high level of integration, interdependency, and interrelation between desktop applications and cloud services, is accounted for as one performance obligation, with revenue recognized ratably over the period the cloud services are provided. The determination of the stand-alone selling price (SSP) for each distinct performance obligation also requires judgment. Microsoft uses a single amount to estimate SSP for items not sold separately, including on-premises licenses sold with SA or software updates provided at no additional charge. A range of amounts is used to estimate SSP when products and services are sold separately, and discounts are allocated based on the relative SSP of the various products and services. In cases where SSP is not directly observable, market conditions and other observable inputs are used to determine SSP. The SA program's benefits and nature require judgment to assess the delivery pattern, including the exercise pattern of certain benefits across the customer portfolio.</td>\n",
       "      <td id=\"T_77ff8_row9_col2\" class=\"data row9 col2\" >['<1-hop>\\n\\n54 accounted for separately versus together may require significant judgment. When a cloud-based service includes both on- premises software licenses and cloud services, judgment is required to determine whether the software license is considered distinct and accounted for separately, or not distinct and accounted for together with the cloud service and recognized over time. Certain cloud services, primarily Office 365, depend on a significant level of integration, interdependency, and interrelation between the desktop applications and cloud services, and are accounted for together as one performance obligation. Revenue from Office 365 is recognized ratably over the period in which the cloud services are provided. Judgment is required to determine the SSP for each distinct performance obligation. We use a single amount to estimate SSP for items that are not sold separately, including on -premises licenses sold with SA or software updates provided at no additional charge. We use a range of amounts to estimate SSP when we sell each of the products and services separately and need to determine whether there is a discount to be allocated based on the relative SSP of the various products and services. In instances where SSP is not directly observable, such as when we do not sell the product or service separately, we determine the SSP using information that may include market conditions and other observable inputs. We typically have more than one SSP for individual products and services due to the stratification of those products and services by customers and circumstances. In these instances, we may use information such as the size of the customer and geographic region in determining the SSP. Due to the various benefits from and the nature of our SA program, judgment is required to assess the pattern of delivery, including the exercise pattern of certain benefits across our portfolio of customers. Our products are generally sold with a right of return, we may provide other credits or incentives, and in certain instances we estimate customer usage of our products and services, which are accounted for as variable consideration when determining the amount of revenue to recognize. Returns and credits are estimated at contract inception and updated at the end of each reporting period if additional information becomes available. Changes to our estimated variable consideration were not material for the periods presented. Contract Balances and Other Receivables Timing of revenue recognition may differ from the timing of invoicing to customers. We record a receivable when revenue is recognized prior to invoicing, or unearned revenue when revenue is recognized subsequent to invoicing. For multi -year agreements, we generally invoice customers annually at the beginning of each annual coverage period. We record a receivable related to revenue recognized for multi -year on-premises licenses as we have an unconditional right to invoice and receive payment in the future related to those licenses. Unearned revenue comprises mainly unearned revenue related to volume licensing programs, which may include SA and cloud services. Unearned revenue is generally invoiced annually at the beginning of each contract period for multi -year agreements and recognized ratably over the coverage period. Unearned revenue also includes payments for consulting services to be performed in the future, LinkedIn subscriptions, Office 365 subscriptions, Xbox subscriptions, Windows post-delivery support, Dynamics business solutions, and other offerings for which we have been paid in advance and earn the revenue when we transfer control of the product or service. Refer to Note 13 –', '<2-hop>\\n\\n42 RECENT ACCOUNTING GUIDANCE Refer to Note 1 – Accounting Policies of the Notes to Financial Statements in our fiscal year 2022 Form 10 -K for further discussion. CRITICAL ACCOUNTING ESTIMATES Our consolidated financial statements and accompanying notes are prepared in accordance with GAAP. Preparing consolidated financial statements requires management to make estimates and assumptions that affect the reported amounts of assets, liabilities, revenue, and expenses. Critical accounting estimates are those estimates that involve a significant level of estimation uncertainty and could have a material impact on our financial condition or results of operations. We have critical accounting estimates in the areas of revenue recognition, impairment of investment securities, goodwill, research and development costs, legal and other contingencies, income taxes, and inventories. Revenue Recognition Our contracts with customers often include promises to transfer multiple products and services to a customer. Determining whether products and services are considered distinct performance obligations that should be accounted for separately versus together may require significant judgment. When a cloud -based service includes both on -premises software licenses and cloud services, judgment is required to determine whether the software license is considered distinct and accounted for separately, or not distinct and accounted for together with the cloud service and recognized over time. Certain cloud services, primarily Office 365, depend on a significant level of integration, interdependency, and interrelation between the desktop applications and cloud services, and are accounted for together as one performance obligation. Revenue from Office 365 is recognized ratably over the period in which the cloud services are provided. Judgment is required to determine the stand -alone selling price (“SSP”) for each distinct performance obligation. We use a single amount to estimate SSP for items that are not sold separately, including on -premises licenses sold with SA or software updates provided at no additional charge. We use a range of amounts to estimate SSP when we sell each of the products and services separately and need to determine whether there is a discount to be allocated based on the relative SSP of the various products and services. In instances where SSP is not directly observable, such as when we do not sell the product or service separately, we determine the SSP using information that may include market conditions and other observable inputs. We typically have more than one SSP for individual products and services due to the stratification of those products and services by customers and circumstances. In these instances, we may use information such as the size of the customer and geographic region in determining the SSP. Due to the various benefits from and the nature of our SA program, judgment is required to assess the pattern of delivery, including the exercise pattern of certain benefits across our portfolio of customers. Our products are generally sold with a right of return, we may provide other credits or incentives, and in certain instances we estimate customer usage of our products and services, which are accounted for as variable consideration when determining the amount of revenue to recognize. Returns and credits are estimated at contract inception and updated at the end of each reporting period if additional information becomes available. Changes to our estimated variable consideration were not material for the periods presented.']</td>\n",
       "    </tr>\n",
       "    <tr>\n",
       "      <th id=\"T_77ff8_level0_row10\" class=\"row_heading level0 row10\" >10</th>\n",
       "      <td id=\"T_77ff8_row10_col0\" class=\"data row10 col0\" >What is the significance of the Intelligent Cloud segment in Microsoft's financial performance and industry trends?</td>\n",
       "      <td id=\"T_77ff8_row10_col1\" class=\"data row10 col1\" >The Intelligent Cloud segment is significant in Microsoft's financial performance as it reported an operating income of $32,721 million, representing a 25% increase from the previous period. This segment is crucial in the context of industry trends, as the market for cloud-based services is dynamic and highly competitive. Microsoft is actively investing in research and development to address changing customer demands and competitive forces, which includes evolving their cloud services to meet these industry shifts. The Intelligent Cloud segment is a key area where Microsoft pushes the boundaries of technology to maintain its competitive edge and adapt to the rapidly changing technological landscape.</td>\n",
       "      <td id=\"T_77ff8_row10_col2\" class=\"data row10 col2\" >['<1-hop>\\n\\nOperating Income Productivity and Business Processes $ 29,687 $ 24,351 22% Intelligent Cloud 32,721 26,126 25% More Personal Computing 20,975 19,439 8% Total $ 83,383 $ 69,916 19%', '<2-hop>\\n\\n31 Industry Trends Our industry is dynamic and highly competitive, with frequent changes in both technologies and business models. Each industry shift is an opportunity to conceive new products, new technologies, or new ideas that can further transform the industry and our business. At Microsoft, we push the boundaries of what is possible through a broad range of research and development activities that seek to identify and address the changing demands of customers and users, industry trends, and competitive forces. Economic Conditions, Challenges, and Risks The markets for software, devices, and cloud -based services are dynamic and highly competitive. Our competitors are developing new software and devices, while also deploying competing cloud -based services for consumers and businesses. The devices and form factors customers prefer evolve rapidly, and influence how users access services in the cloud, and in some cases, the user’s choice of which suite of cloud-based services to use. We must continue to evolve and adapt over an extended time in pace with this changing environment. The investments we are making in infrastructure and devices will continue to increase our operating costs and may decrease our operating margins. Our success is highly dependent on our ability to attract and retain qualified employees. We hire a mix of university and industry talent worldwide. We compete for talented individuals globally by offering an exceptional working environment, broad customer reach, scale in resources, the ability to grow one’s career across many different products and businesses, and competitive compensation and benefits. Aggregate demand for our software, services, and devices is correlated to global macroeconomic and geopolitical factors, which remain dynamic. Our devices are primarily manufactured by third -party contract manufacturers, some of which contain certain components for which there are very few qualified suppliers. For these components, we have limited near -term flexibility to use other manufacturers if a current vendor becomes unavailable or is unable to meet our requirements. Extended disruptions at these suppliers and/or manufacturers could lead to a similar disruption in our ability to manufacture devices on time to meet consumer demand. Our international operations provide a significant portion of our total revenue and expenses. Many of these revenue and expenses are denominated in currencies other than the U.S. dollar. As a result, changes in foreign exchange rates may significantly affect revenue and expenses. Fluctuations in the U.S. dollar relative to certain foreign currencies did not hav e a material impact on reported revenue or expenses from our international operations in fiscal year 2022. Refer to Risk Factors in our fiscal year 2022 Form 10-K for a discussion of these factors and other risks. Seasonality Our revenue fluctuates quarterly and is generally higher in the second and fourth quarters of our fiscal year. Second quarter revenue is driven by corporate year -end spending trends in our major markets and holiday season spending by consumers, and fourth quarter revenue is driven by the volume of multi -year on-premises contracts executed during the period. Reportable Segments We report our financial performance based on the following segments: Productivity and Business Processes, Intelligent Cloud, and More Personal Computing. The segment amounts included in MD&A are presented on a basis consistent with our internal management reporting. Additional information on our reportable segments is contained in Note 19 – Segment Information and Geographic Data of the Notes to Financial Statements in our fiscal year 2022 Form 10-K.']</td>\n",
       "    </tr>\n",
       "    <tr>\n",
       "      <th id=\"T_77ff8_level0_row11\" class=\"row_heading level0 row11\" >11</th>\n",
       "      <td id=\"T_77ff8_row11_col0\" class=\"data row11 col0\" >How does the revenue recognition process for cloud services and Software Assurance (SA) involve critical accounting estimates and judgments, especially when considering the integration and interdependency of services like Office 365?</td>\n",
       "      <td id=\"T_77ff8_row11_col1\" class=\"data row11 col1\" >The revenue recognition process for cloud services and Software Assurance (SA) involves critical accounting estimates and judgments due to the complexity of determining distinct performance obligations. For cloud services, such as Office 365, which depend on significant integration and interdependency between desktop applications and cloud services, revenue is recognized ratably over the period in which the services are provided. This requires judgment to determine whether the software license is distinct or should be accounted for together with the cloud service. Additionally, estimating the stand-alone selling price (SSP) for each distinct performance obligation involves using market conditions and other observable inputs, especially when products and services are not sold separately. The SA program, which includes rights to new software and upgrades, also requires judgment to assess the pattern of delivery and the exercise pattern of benefits across the customer portfolio. These judgments are critical as they affect the reported amounts of revenue and could have a material impact on financial results.</td>\n",
       "      <td id=\"T_77ff8_row11_col2\" class=\"data row11 col2\" >['<1-hop>\\n\\n53 Service and other revenue includes sales from cloud -based solutions that provide customers with software, services, platforms, and content such as Office 365, Azure, Dynamics 365, and Xbox; solution support; and consulting services. Service and other revenue also includes sales from online advertising and LinkedIn. Revenue Recognition Revenue is recognized upon transfer of control of promised products or services to customers in an amount that reflects the consideration we expect to receive in exchange for those products or services. We enter into contracts that can include various combinations of products and services, which are generally capable of being distinct and accounted for as separate performance obligations. Revenue is recognized net of allowances for returns and any taxes collected from customers, which are subsequently remitted to governmental authorities. Nature of Products and Services Licenses for on-premises software provide the customer with a right to use the software as it exists when made available to the customer. Customers may purchase perpetual licenses or subscribe to licenses, which provide customers with the same functionality and differ mainly in the duration over which the customer benefits from the software. Revenue from distinct on -premises licenses is recognized upfront at the point in time when the software is made available to the customer. In cases where we allocate revenue to software updates, primarily because the updates are provided at no additional charge, revenue is recognized as the updates are provided, which is generally ratably over the estimated life of the related device or license. Certain volume licensing programs, including Enterprise Agreements, include on -premises licenses combined with Software Assurance (“SA”). SA conveys rights to new software and upgrades released over the contract period and provides support, tools, and training to help customers deploy and use products more efficiently. On -premises licenses are considered distinct performance obligations when sold with SA. Revenue allocated to SA is generally recognized ratably over the contract period as customers simultaneously consume and receive benefits, given that SA comprises distinct performance obligations that are satisfied over time. Cloud services, which allow customers to use hosted software over the contract period without taking possession of the software, are provided on either a subscription or consumption basis. Revenue related to cloud services provided on a subscription basis is recognized ratably over the contract period. Revenue related to cloud services provided on a consumption basis, such as the amount of storage used in a period, is recognized based on the customer utilization of such resources. When cloud services require a significant level of integration and interdependency with software and the individual components are not considered distinct, all revenue is recognized over the period in which the cloud services are provided. Revenue from search advertising is recognized when the advertisement appears in the search results or when the action necessary to earn the revenue has been completed. Revenue from consulting services is recognized as services are provided. Our hardware is generally highly dependent on, and interrelated with, the underlying operating system and cannot function without the operating system. In these cases, the hardware and software license are accounted for as a single performance obligation and revenue is recognized at the point in time when ownership is transferred to resellers or directly to end customers through retail stores and online marketplaces. Refer to Note 19 – Segment Information and Geographic Data for further information, including revenue by significant product and service offering.', '<2-hop>\\n\\n42 RECENT ACCOUNTING GUIDANCE Refer to Note 1 – Accounting Policies of the Notes to Financial Statements in our fiscal year 2022 Form 10 -K for further discussion. CRITICAL ACCOUNTING ESTIMATES Our consolidated financial statements and accompanying notes are prepared in accordance with GAAP. Preparing consolidated financial statements requires management to make estimates and assumptions that affect the reported amounts of assets, liabilities, revenue, and expenses. Critical accounting estimates are those estimates that involve a significant level of estimation uncertainty and could have a material impact on our financial condition or results of operations. We have critical accounting estimates in the areas of revenue recognition, impairment of investment securities, goodwill, research and development costs, legal and other contingencies, income taxes, and inventories. Revenue Recognition Our contracts with customers often include promises to transfer multiple products and services to a customer. Determining whether products and services are considered distinct performance obligations that should be accounted for separately versus together may require significant judgment. When a cloud -based service includes both on -premises software licenses and cloud services, judgment is required to determine whether the software license is considered distinct and accounted for separately, or not distinct and accounted for together with the cloud service and recognized over time. Certain cloud services, primarily Office 365, depend on a significant level of integration, interdependency, and interrelation between the desktop applications and cloud services, and are accounted for together as one performance obligation. Revenue from Office 365 is recognized ratably over the period in which the cloud services are provided. Judgment is required to determine the stand -alone selling price (“SSP”) for each distinct performance obligation. We use a single amount to estimate SSP for items that are not sold separately, including on -premises licenses sold with SA or software updates provided at no additional charge. We use a range of amounts to estimate SSP when we sell each of the products and services separately and need to determine whether there is a discount to be allocated based on the relative SSP of the various products and services. In instances where SSP is not directly observable, such as when we do not sell the product or service separately, we determine the SSP using information that may include market conditions and other observable inputs. We typically have more than one SSP for individual products and services due to the stratification of those products and services by customers and circumstances. In these instances, we may use information such as the size of the customer and geographic region in determining the SSP. Due to the various benefits from and the nature of our SA program, judgment is required to assess the pattern of delivery, including the exercise pattern of certain benefits across our portfolio of customers. Our products are generally sold with a right of return, we may provide other credits or incentives, and in certain instances we estimate customer usage of our products and services, which are accounted for as variable consideration when determining the amount of revenue to recognize. Returns and credits are estimated at contract inception and updated at the end of each reporting period if additional information becomes available. Changes to our estimated variable consideration were not material for the periods presented.']</td>\n",
       "    </tr>\n",
       "  </tbody>\n",
       "</table>\n"
      ],
      "text/plain": [
       "<pandas.io.formats.style.Styler at 0x165675950>"
      ]
     },
     "execution_count": 11,
     "metadata": {},
     "output_type": "execute_result"
    }
   ],
   "source": [
    "# Extract the dataset and wrap the text\n",
    "# This is to make the text more readable\n",
    "# Extract user_input and reference columns and wrap text for readability\n",
    "import pandas as pd\n",
    "pd.set_option('display.expand_frame_repr', False)  # Prevents line breaks in DataFrame display\n",
    "pd.set_option('display.max_colwidth', 300)\n",
    "\n",
    "df = dataset.to_pandas()[[\"user_input\", \"reference\", \"reference_contexts\"]]\n",
    "df = df.style.set_properties(**{'text-align': 'left'})  # Align text to the left\n",
    "df"
   ]
  },
  {
   "cell_type": "markdown",
   "metadata": {},
   "source": [
    "- You can see the `reference_contexts` that was used to generate the answer.\n",
    "- They can really benefit from better cleaning."
   ]
  }
 ],
 "metadata": {
  "kernelspec": {
   "display_name": "3.11.9",
   "language": "python",
   "name": "python3"
  },
  "language_info": {
   "codemirror_mode": {
    "name": "ipython",
    "version": 3
   },
   "file_extension": ".py",
   "mimetype": "text/x-python",
   "name": "python",
   "nbconvert_exporter": "python",
   "pygments_lexer": "ipython3",
   "version": "3.11.9"
  }
 },
 "nbformat": 4,
 "nbformat_minor": 2
}
