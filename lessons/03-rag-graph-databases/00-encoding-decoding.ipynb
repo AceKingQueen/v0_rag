{
 "cells": [
  {
   "cell_type": "code",
   "execution_count": 6,
   "metadata": {},
   "outputs": [
    {
     "name": "stdout",
     "output_type": "stream",
     "text": [
      "Encoded Token IDs: [9906, 11, 1917, 0]\n",
      "🔹 Embeddings (First 5 values): [-0.019184619188308716, -0.025279032066464424, -0.0017195191467180848, 0.01884828321635723, -0.033795066177845]\n",
      "🔹 Decoded Text: Hello, world!\n"
     ]
    }
   ],
   "source": [
    "from openai import OpenAI\n",
    "import tiktoken  # OpenAI's tokenizer\n",
    "\n",
    "client = OpenAI()\n",
    "\n",
    "# Load GPT-4 tokenizer\n",
    "tokenizer = tiktoken.get_encoding(\"cl100k_base\")  # For GPT-4 & GPT-3.5\n",
    "\n",
    "# Input text\n",
    "text = \"Hello, world!\"\n",
    "\n",
    "# Encoding (text → tokens → IDs)\n",
    "token_ids = tokenizer.encode(text)\n",
    "print(\"Encoded Token IDs:\", token_ids)  # Example Output: [9906, 11, 1917, 0]\n",
    "\n",
    "# Generate embeddings\n",
    "response = client.embeddings.create(\n",
    "    model=\"text-embedding-3-small\",  # Newer embedding model (or use \"text-embedding-3-large\" for higher quality)\n",
    "    input=[text],  # The text to get embeddings for\n",
    "    dimensions=1536  # Optional: specify embedding dimensions (default is 1536 for text-embedding-3-small)\n",
    ")\n",
    "\n",
    "# Access the embedding\n",
    "embedding = response.data[0].embedding\n",
    "print(\"🔹 Embeddings (First 5 values):\", embedding[:5])  # Print first 5 values for brevity\n",
    "\n",
    "decoded_text = tokenizer.decode(token_ids)\n",
    "print(\"🔹 Decoded Text:\", decoded_text)  # Output: \"Hello, world!\"\n"
   ]
  }
 ],
 "metadata": {
  "kernelspec": {
   "display_name": "3.11.9",
   "language": "python",
   "name": "python3"
  },
  "language_info": {
   "codemirror_mode": {
    "name": "ipython",
    "version": 3
   },
   "file_extension": ".py",
   "mimetype": "text/x-python",
   "name": "python",
   "nbconvert_exporter": "python",
   "pygments_lexer": "ipython3",
   "version": "3.11.9"
  }
 },
 "nbformat": 4,
 "nbformat_minor": 2
}
